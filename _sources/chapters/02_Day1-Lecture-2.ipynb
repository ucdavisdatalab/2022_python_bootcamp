{
  "cells": [
    {
      "cell_type": "markdown",
      "id": "4de2130e-8868-4ce4-b6b7-834ff3a77791",
      "metadata": {
        "id": "4de2130e-8868-4ce4-b6b7-834ff3a77791"
      },
      "source": [
        "# **Day 1** - Lecture 2\n",
        "## Section 2. File handling and functions\n",
        "\n",
        "### 1) Opening a text file"
      ]
    },
    {
      "cell_type": "code",
      "execution_count": null,
      "id": "b9693907-ec55-4a86-a750-391bd9b3d3d5",
      "metadata": {
        "id": "b9693907-ec55-4a86-a750-391bd9b3d3d5",
        "outputId": "f5784f9e-6be1-4356-912c-eec8c42d4bd8"
      },
      "outputs": [
        {
          "name": "stdout",
          "output_type": "stream",
          "text": [
            "<_io.TextIOWrapper name='file_example1.txt' mode='r' encoding='UTF-8'>\n"
          ]
        }
      ],
      "source": [
        "# To open a text based file, we can use the open() function.\n",
        "f_obj = open('../data/file_example1.txt')\n",
        "\n",
        "# Let's print f_obj to see what it is.\n",
        "print(f_obj)"
      ]
    },
    {
      "cell_type": "code",
      "execution_count": null,
      "id": "e3a92fd5-c334-4b4c-b00a-d561936a582a",
      "metadata": {
        "id": "e3a92fd5-c334-4b4c-b00a-d561936a582a",
        "outputId": "3032d996-0b42-4de9-e927-86124b4a6dcc"
      },
      "outputs": [
        {
          "name": "stdout",
          "output_type": "stream",
          "text": [
            "xvals                 yvals\n",
            "\n",
            "0.8641216311612758    0.23919054492654035\n",
            "\n"
          ]
        }
      ],
      "source": [
        "# We can see the entire text by using the read() function.\n",
        "#print(f_obj.read())\n",
        "\n",
        "# Or we can print the text by lines using the readline() function.\n",
        "print(f_obj.readline())\n",
        "print(f_obj.readline())"
      ]
    },
    {
      "cell_type": "code",
      "execution_count": null,
      "id": "25af200a-7567-4144-b5d0-58f32572806c",
      "metadata": {
        "id": "25af200a-7567-4144-b5d0-58f32572806c",
        "outputId": "1be8493d-c634-4be7-a7c6-8001dfcfb3e0"
      },
      "outputs": [
        {
          "name": "stdout",
          "output_type": "stream",
          "text": [
            "0.2131415384891292    0.9434728716309931\n",
            "\n"
          ]
        },
        {
          "data": {
            "image/png": "[encoded data removed]",
            "text/plain": [
              "<Figure size 640x480 with 1 Axes>"
            ]
          },
          "metadata": {},
          "output_type": "display_data"
        }
      ],
      "source": [
        "# We can also iterate through the file object.\n",
        "for i in f_obj:\n",
        "    print(i)\n",
        "    break # break here to avoid printing the entire file.\n",
        "\n",
        "# As you can see, the f_obj.readline() moved the file-pointer. Let's reset it to the beginning of the line and extract xvals and yvals.\n",
        "f_obj.seek(0)\n",
        "xvals = []\n",
        "yvals = []\n",
        "\n",
        "f_obj.readline() # To remove the column names\n",
        "for line in f_obj:\n",
        "    x, y = line.split()\n",
        "    xvals.append(float(x))\n",
        "    yvals.append(float(y))\n",
        "\n",
        "import matplotlib.pyplot as plt\n",
        "\n",
        "plt.scatter(xvals, yvals)\n",
        "plt.show()\n"
      ]
    },
    {
      "cell_type": "code",
      "execution_count": null,
      "id": "95d59ddf-9d6e-418a-a568-b141fff504a6",
      "metadata": {
        "tags": [],
        "id": "95d59ddf-9d6e-418a-a568-b141fff504a6",
        "outputId": "cd23be03-f99c-4770-a644-0aa02ddd70eb"
      },
      "outputs": [
        {
          "name": "stdout",
          "output_type": "stream",
          "text": [
            "50 50\n"
          ]
        },
        {
          "data": {
            "image/png": "[encoded data removed]",
            "text/plain": [
              "<Figure size 640x480 with 1 Axes>"
            ]
          },
          "metadata": {},
          "output_type": "display_data"
        }
      ],
      "source": [
        "# We will .\n",
        "xvals_new = xvals[0::2]\n",
        "yvals_new = yvals[0::2]\n",
        "\n",
        "# To test the indexing.\n",
        "#test_list = list(range(100))\n",
        "#print(test_list[0::2])\n",
        "\n",
        "plt.scatter(xvals_new, yvals_new)\n",
        "print(len(xvals_new), len(yvals_new))\n",
        "\n",
        "# Writing the x and y values\n",
        "with open('../data/file_example1_after.txt', 'w') as f_obj:\n",
        "    # Column names\n",
        "    f_obj.write('xvals    yvals \\n')\n",
        "    for x, y in zip(xvals, yvals):\n",
        "        # Forming a line of string\n",
        "        new_line = str(x)+ '    ' +str(y) + '\\n'\n",
        "        f_obj.write(new_line)"
      ]
    },
    {
      "cell_type": "markdown",
      "id": "a0935b2a-bf7e-4f11-b867-a23b00f3808b",
      "metadata": {
        "id": "a0935b2a-bf7e-4f11-b867-a23b00f3808b"
      },
      "source": [
        "### 2) Counting words from a text file"
      ]
    },
    {
      "cell_type": "code",
      "execution_count": null,
      "id": "0a5329a8-a41d-48b6-a93b-b372bbf166f3",
      "metadata": {
        "tags": [],
        "id": "0a5329a8-a41d-48b6-a93b-b372bbf166f3",
        "outputId": "bc24b203-cecc-4352-f356-15bd186914f4"
      },
      "outputs": [
        {
          "name": "stdout",
          "output_type": "stream",
          "text": [
            "{'call': 1, 'me': 6, 'ishmael': 1, 'some': 8, 'years': 1, 'ago': 1, '': 13, 'never': 1, 'mind': 1, 'how': 2, 'long': 1, 'precisely': 1, 'having': 1, 'little': 2, 'or': 4, 'no': 2, 'money': 2, 'in': 23, 'my': 4, 'purse': 1, 'and': 31, 'nothing': 3, 'particular': 1, 'to': 21, 'interest': 1, 'on': 3, 'shore': 1, 'i': 9, 'thought': 1, 'would': 2, 'sail': 1, 'about': 2, 'a': 25, 'see': 4, 'the': 52, 'watery': 1, 'part': 1, 'of': 35, 'world': 1, 'it': 13, 'is': 17, 'way': 2, 'have': 1, 'driving': 1, 'off': 2, 'spleen': 1, 'regulating': 1, 'circulation': 1, 'whenever': 4, 'find': 2, 'myself': 2, 'growing': 1, 'grim': 1, 'mouth': 1, 'damp': 1, 'drizzly': 1, 'november': 1, 'soul': 2, 'involuntarily': 1, 'pausing': 1, 'before': 2, 'coffin': 1, 'warehouses': 2, 'bringing': 1, 'up': 3, 'rear': 1, 'every': 3, 'funeral': 1, 'meet': 1, 'especially': 1, 'hypos': 1, 'get': 4, 'such': 2, 'an': 2, 'upper': 1, 'hand': 1, 'that': 7, 'requires': 1, 'strong': 1, 'moral': 1, 'principle': 1, 'prevent': 1, 'from': 6, 'deliberately': 1, 'stepping': 1, 'into': 3, 'street': 1, 'methodically': 1, 'knocking': 1, 'people’s': 1, 'hats': 1, 'then': 2, 'account': 1, 'high': 3, 'time': 3, 'sea': 3, 'as': 9, 'soon': 1, 'can': 2, 'this': 8, 'substitute': 1, 'for': 5, 'pistol': 1, 'ball': 1, 'with': 6, 'philosophical': 1, 'flourish': 1, 'cato': 1, 'throws': 1, 'himself': 1, 'upon': 7, 'his': 8, 'sword': 1, 'quietly': 1, 'take': 3, 'ship': 2, 'there': 11, 'surprising': 1, 'if': 5, 'they': 7, 'but': 8, 'knew': 1, 'almost': 3, 'all': 12, 'men': 3, 'their': 2, 'degree': 1, 'other': 2, 'cherish': 1, 'very': 1, 'nearly': 1, 'same': 2, 'feelings': 1, 'towards': 1, 'ocean': 2, 'now': 2, 'your': 5, 'insular': 1, 'city': 2, 'manhattoes': 1, 'belted': 1, 'round': 1, 'by': 6, 'wharves': 1, 'indian': 1, 'isles': 1, 'coral': 1, 'reefs': 1, 'commerce': 1, 'surrounds': 1, 'her': 1, 'surf': 1, 'right': 1, 'left': 1, 'streets': 2, 'you': 13, 'waterward': 1, 'its': 2, 'extreme': 1, 'downtown': 1, 'battery': 1, 'where': 1, 'noble': 1, 'mole': 1, 'washed': 1, 'waves': 1, 'cooled': 1, 'breezes': 1, 'which': 2, 'few': 1, 'hours': 1, 'previous': 1, 'were': 6, 'out': 2, 'sight': 2, 'land': 4, 'look': 2, 'at': 2, 'crowds': 2, 'water': 8, 'gazers': 1, 'circumambulate': 1, 'dreamy': 1, 'sabbath': 1, 'afternoon': 1, 'go': 3, 'corlears': 1, 'hook': 1, 'coenties': 1, 'slip': 1, 'thence': 1, 'whitehall': 1, 'northward': 1, 'what': 4, 'do': 2, 'posted': 1, 'like': 2, 'silent': 1, 'sentinels': 1, 'around': 1, 'town': 1, 'stand': 4, 'thousands': 2, 'mortal': 1, 'fixed': 2, 'reveries': 2, 'leaning': 1, 'against': 1, 'spiles': 1, 'seated': 1, 'pierheads': 1, 'looking': 1, 'over': 1, 'bulwarks': 1, 'ships': 2, 'china': 1, 'aloft': 1, 'rigging': 1, 'striving': 1, 'still': 2, 'better': 1, 'seaward': 1, 'peep': 1, 'these': 1, 'are': 4, 'landsmen': 1, 'week': 1, 'days': 1, 'pent': 1, 'lath': 1, 'plaster': 1, 'tied': 1, 'counters': 1, 'nailed': 1, 'benches': 1, 'clinched': 1, 'desks': 1, 'green': 1, 'fields': 1, 'gone': 1, 'here': 5, 'come': 2, 'more': 2, 'pacing': 1, 'straight': 1, 'seemingly': 1, 'bound': 1, 'dive': 1, 'strange': 1, 'will': 3, 'content': 1, 'them': 3, 'extremest': 1, 'limit': 1, 'loitering': 1, 'under': 1, 'shady': 1, 'lee': 1, 'yonder': 2, 'not': 4, 'suffice': 1, 'must': 1, 'just': 1, 'nigh': 1, 'possibly': 1, 'without': 2, 'falling': 1, 'miles': 3, 'leagues': 1, 'inlanders': 1, 'lanes': 1, 'alleys': 1, 'avenues': 1, 'north': 1, 'east': 1, 'south': 1, 'west': 1, 'yet': 2, 'unite': 1, 'tell': 1, 'does': 1, 'magnetic': 1, 'virtue': 1, 'needles': 1, 'compasses': 1, 'those': 1, 'attract': 1, 'thither': 1, 'once': 1, 'say': 1, 'country': 1, 'lakes': 1, 'any': 1, 'path': 1, 'please': 1, 'ten': 1, 'one': 3, 'carries': 1, 'down': 2, 'dale': 1, 'leaves': 2, 'pool': 1, 'stream': 2, 'magic': 2, 'let': 1, 'most': 2, 'absentminded': 1, 'be': 4, 'plunged': 2, 'deepest': 1, 'man': 1, 'legs': 1, 'set': 1, 'feet': 1, 'agoing': 1, 'he': 6, 'infallibly': 1, 'lead': 1, 'region': 1, 'should': 1, 'ever': 2, 'athirst': 1, 'great': 1, 'american': 1, 'desert': 1, 'try': 1, 'experiment': 1, 'caravan': 1, 'happen': 1, 'supplied': 1, 'metaphysical': 1, 'professor': 1, 'yes': 1, 'knows': 1, 'meditation': 1, 'wedded': 1, 'artist': 1, 'desires': 1, 'paint': 1, 'dreamiest': 1, 'shadiest': 1, 'quietest': 1, 'enchanting': 1, 'bit': 1, 'romantic': 1, 'landscape': 1, 'valley': 1, 'saco': 1, 'chief': 1, 'element': 1, 'employs': 1, 'trees': 1, 'each': 1, 'hollow': 1, 'trunk': 1, 'hermit': 1, 'crucifix': 1, 'within': 1, 'sleeps': 1, 'meadow': 1, 'sleep': 1, 'cattle': 1, 'cottage': 1, 'goes': 1, 'sleepy': 1, 'smoke': 1, 'deep': 1, 'distant': 1, 'woodlands': 1, 'winds': 1, 'mazy': 1, 'reaching': 1, 'overlapping': 1, 'spurs': 1, 'mountains': 1, 'bathed': 1, 'hillside': 1, 'blue': 1, 'though': 2, 'picture': 1, 'lies': 1, 'thus': 1, 'tranced': 1, 'pinetree': 1, 'shakes': 1, 'sighs': 1, 'shepherd’s': 2, 'head': 1, 'vain': 1, 'unless': 1, 'eye': 1, 'him': 3, 'visit': 1, 'prairies': 1, 'june': 1, 'when': 2, 'scores': 2, 'wade': 1, 'kneedeep': 1, 'among': 1, 'tigerlilies': 1, 'charm': 1, 'wanting': 1, 'drop': 1, 'niagara': 1, 'cataract': 1, 'sand': 1, 'travel': 1, 'thousand': 1, 'why': 5, 'did': 4, 'poor': 1, 'poet': 1, 'tennessee': 1, 'suddenly': 1, 'receiving': 1, 'two': 1, 'handfuls': 1, 'silver': 1, 'deliberate': 1, 'whether': 1, 'buy': 1, 'coat': 1, 'sadly': 1, 'needed': 1, 'invest': 1, 'pedestrian': 1, 'trip': 1, 'rockaway': 1, 'beach': 1, 'robust': 2, 'healthy': 2, 'boy': 1, 'crazy': 1, 'first': 2, 'voyage': 1, 'passenger': 1, 'yourself': 1, 'feel': 1, 'mystical': 1, 'vibration': 1, 'told': 1, 'old': 1, 'persians': 1, 'hold': 1, 'holy': 1, 'greeks': 1, 'give': 1, 'separate': 1, 'deity': 1, 'own': 1, 'brother': 1, 'jove': 1, 'surely': 1, 'meaning': 2, 'deeper': 1, 'story': 1, 'narcissus': 1, 'who': 1, 'because': 1, 'could': 1, 'grasp': 1, 'tormenting': 1, 'mild': 1, 'image': 3, 'saw': 1, 'fountain': 1, 'was': 1, 'drowned': 1, 'we': 1, 'ourselves': 1, 'rivers': 1, 'oceans': 1, 'ungraspable': 1, 'phantom': 1, 'life': 1, 'key': 1}\n"
          ]
        }
      ],
      "source": [
        "# We will be using the file_example2.txt to count the each words.\n",
        "\n",
        "# Define an empty dictionary\n",
        "word_dict = {}\n",
        "\n",
        "# Things need to be removed\n",
        "removing_list = ['.', '-', ',', '!', '?', ':', ';']\n",
        "\n",
        "# Opening a file\n",
        "with open('../data/file_example2.txt') as f_obj:\n",
        "    for line in f_obj:\n",
        "        # Splitting a line of string into words\n",
        "        splitted = line.split()\n",
        "        for word in splitted:\n",
        "            # Remove leading and trailing whitespaces\n",
        "            word = word.strip()\n",
        "            # Force the words to be lowercase\n",
        "            word = word.lower()\n",
        "            # Remove punctuation marks\n",
        "            for remove in removing_list:\n",
        "                while remove in word:\n",
        "                    word = word.replace(remove,'')\n",
        "            # Save it in the dictionary\n",
        "            if word in word_dict.keys():\n",
        "                word_dict[word] += 1\n",
        "            else:\n",
        "                word_dict[word] = 1\n",
        "\n",
        "print(word_dict)\n",
        "\n",
        "# Can you write a file with two columns named \"Words\" and \"Counts?\""
      ]
    },
    {
      "cell_type": "markdown",
      "id": "506c4ff1-9014-43ba-a6a2-d54f6f23bb51",
      "metadata": {
        "id": "506c4ff1-9014-43ba-a6a2-d54f6f23bb51"
      },
      "source": [
        "### 3) Functions\n",
        "\n",
        "We will define a simple function that can do simple math."
      ]
    },
    {
      "cell_type": "code",
      "execution_count": null,
      "id": "fac0135a-275a-44a0-9d2e-6898ab839870",
      "metadata": {
        "tags": [],
        "id": "fac0135a-275a-44a0-9d2e-6898ab839870",
        "outputId": "3df08c9d-2978-4f6c-cf63-af0ef9b23239"
      },
      "outputs": [
        {
          "name": "stdout",
          "output_type": "stream",
          "text": [
            "8\n",
            "3\n",
            "Testing the calculator function\n",
            "8\n",
            "-2\n",
            "15\n",
            "243\n"
          ]
        }
      ],
      "source": [
        "# Here is a function that can add two numbers\n",
        "\n",
        "# To show that these variables outside of the function won't affect the variables inside.\n",
        "a = 3\n",
        "b = 5\n",
        "\n",
        "def add(a, b):\n",
        "    result = a + b\n",
        "    return result\n",
        "\n",
        "print(a + b)\n",
        "print(add(1,2))\n",
        "\n",
        "def calculator(a, operator, b):\n",
        "    operations = ['+', '-', '*', '/', '^']\n",
        "    if operator == '+':\n",
        "        result = a + b\n",
        "    elif operator == '-':\n",
        "        result = a - b\n",
        "    elif operator == '*':\n",
        "        result = a * b\n",
        "    elif operator == '/':\n",
        "        result = a / b\n",
        "    elif operator == '^':\n",
        "        result = a ** b\n",
        "    else:\n",
        "        raise RuntimeError('Check your operator')\n",
        "    return result\n",
        "\n",
        "print(\"Testing the calculator function\")\n",
        "print(calculator(3,'+',5))\n",
        "print(calculator(3,'-',5))\n",
        "print(calculator(3,'*',5))\n",
        "print(calculator(3,'^',5))\n",
        "# To raise the error\n",
        "#print(calculator(3,'&',5))"
      ]
    },
    {
      "cell_type": "markdown",
      "id": "b7e68fdc-c49d-4719-95be-ce36e96e2bff",
      "metadata": {
        "id": "b7e68fdc-c49d-4719-95be-ce36e96e2bff"
      },
      "source": [
        "Now, we will define a function that can parse through a complicated text file."
      ]
    },
    {
      "cell_type": "code",
      "execution_count": null,
      "id": "5e3f884b-27ed-462a-aa6b-641861aa3e88",
      "metadata": {
        "tags": [],
        "id": "5e3f884b-27ed-462a-aa6b-641861aa3e88"
      },
      "outputs": [],
      "source": [
        "# We will extract important information from a complicated text file.\n",
        "# It is a quantum calculation output file from a software package.\n",
        "\n",
        "def parse_output(input_name, output_name):\n",
        "    # Defining an empty list that will be returned\n",
        "    energies = []\n",
        "\n",
        "    # Open a file\n",
        "    with open(input_name) as f_obj:\n",
        "        # Iterate through the lines\n",
        "        for line in f_obj:\n",
        "            # If desired string is detected,\n",
        "            if 'FINAL ENERGY' in line:\n",
        "                # Save the number.\n",
        "                energies.append(float(line.split()[2]))\n",
        "    # Save the extracted values\n",
        "    with open(output_name, 'w') as f_obj:\n",
        "        # %12 holds 12 spaces for the 's' type (string) data\n",
        "        f_obj.write(\"%12s %12s \\n\" %(\"Iteration\", \"Energy\"))\n",
        "        for i, energy in enumerate(energies):\n",
        "            line = '%12s %12.5f \\n' %('Iteration %i' %i, energy)\n",
        "            f_obj.write(line)\n",
        "    return energies\n",
        "\n",
        "energies = parse_output('../data/file_example3.out','../data/energies.txt')"
      ]
    }
  ],
  "metadata": {
    "kernelspec": {
      "display_name": "Python 3 (ipykernel)",
      "language": "python",
      "name": "python3"
    },
    "language_info": {
      "codemirror_mode": {
        "name": "ipython",
        "version": 3
      },
      "file_extension": ".py",
      "mimetype": "text/x-python",
      "name": "python",
      "nbconvert_exporter": "python",
      "pygments_lexer": "ipython3",
      "version": "3.9.16"
    },
    "colab": {
      "provenance": []
    }
  },
  "nbformat": 4,
  "nbformat_minor": 5
}
