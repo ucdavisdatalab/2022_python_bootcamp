{
  "cells": [
    {
      "cell_type": "markdown",
      "metadata": {
        "id": "IGWkDxc4gmoV"
      },
      "source": [
        "# **Day 2 Homework**"
      ]
    },
    {
      "cell_type": "markdown",
      "metadata": {
        "id": "YEgZ2_YIg0f0"
      },
      "source": [
        "Here is a [csv](https://raw.githubusercontent.com/ucdavisdatalab/python_intensive_training/main/data/Day2CountryInfo2018.csv) file that contains all of the countires that medalled in the 2018 Winter Olympic games, their latitudes and longitudes, medals won, GDP (2018), and population (2018). This time, we are going to plot the countries that medalled and add more information"
      ]
    },
    {
      "cell_type": "markdown",
      "metadata": {
        "id": "Q8VJ87Oag7bC"
      },
      "source": [
        "## Initial Instructions:"
      ]
    },
    {
      "cell_type": "markdown",
      "metadata": {
        "id": "vxo0hNzDhFvN"
      },
      "source": [
        "1.   Download the csv file from the link above.\n",
        "2.   Open a new [Google Colab notebook](https://colab.research.google.com/) and click on \"New Notebook\" in the corner.\n",
        "3.   Click the file icon on the left toolbar, then click on the upload icon (the button on the left).\n",
        "4.   Choose the new .csv file to upload in order to import the data.\n",
        "5.   Here’s the actual homework!\n"
      ]
    },
    {
      "cell_type": "markdown",
      "metadata": {
        "id": "AShTnt_khIYO"
      },
      "source": [
        "## Assignment"
      ]
    },
    {
      "cell_type": "markdown",
      "metadata": {
        "id": "g-qCFXhUhJ_2"
      },
      "source": [
        "*   Open the csv file and examine what’s in it. What variable types are in here? Strings, floats, or integers?\n",
        "*   In your Colab notebook, write a script that imports the data from the file to make a scatter plot.\n",
        "*   As you parse the data, for each country you’ll need to tally up the total medals. You will also need to calculate GDP per 5000 capita (GPD per 5000 people).\n",
        "     *    What techniques that we have reviewed can we use to accomplish these?\n",
        "*   This time when you plot the data, color the countries according to number of medals won, and change the size of each point based on GPD per capita.\n",
        "     *    See the [plt.scatter documentation](https://matplotlib.org/stable/api/_as_gen/matplotlib.pyplot.scatter.html) to try to figure out how to implement this.\n",
        "*    Add the equator to the plot as well.\n",
        "*    Congrats! You are all done.\n",
        "*    The plot will have fewer points this time without the countires that did not medal, but contain more information about those countries. If you want a challenge, the advanced homework will add more complexity and the other countries!\n",
        "\n"
      ]
    },
    {
      "cell_type": "markdown",
      "metadata": {
        "id": "LU5KRhJTh2AC"
      },
      "source": [
        "## Answer"
      ]
    },
    {
      "cell_type": "markdown",
      "metadata": {
        "id": "R7oxqaALh3uI"
      },
      "source": [
        "[.ipynb file](https://colab.research.google.com/github/ucdavisdatalab/python_intensive_training/blob/main/data/HWDay2.ipynb#)\n",
        "\n",
        "[plot image](https://github.com/ucdavisdatalab/python_intensive_training/tree/main/img/Day2HWplot.png)"
      ]
    },
    {
      "cell_type": "markdown",
      "source": [
        "## Additional Assignment"
      ],
      "metadata": {
        "id": "fkFr-yzqTpsJ"
      }
    },
    {
      "cell_type": "markdown",
      "source": [
        "If you were able to fly through the previous assignment, here is an addtional exercise that is a bit more of a challenge"
      ],
      "metadata": {
        "id": "cNQkd3NkTv7b"
      }
    },
    {
      "cell_type": "markdown",
      "source": [
        "*   Your solution for Day 2 should already be able to parse all of the data from the file.\n",
        "*   Let’s examine three factors: GDP per capita, latitude, and raw population, and see how each of these affects medal results. While this is a complex question, we are going to assume a linear relationship for the sake of simplicity.\n",
        "*   Let’s start with GDP per capita. There are many ways to do this next step, but one of the easiest is to import the `scipy.stats` package and use the `linregress()` function\n",
        "```\n",
        " import scipy.stats as ss\n",
        "```\n",
        "*   Take a look at the documentation for [linregress](https://docs.scipy.org/doc/scipy-0.19.0/reference/generated/scipy.stats.linregress.html). Particularly the examples may help.\n",
        "*   What should we input into the function? What will be the output and how many should we expect?\n",
        "*   Once you have successfully fit the function, we need to plot our results. Make a scatter plot with the x (GDP per capita) and y (medal total) values.\n",
        "*   To the scatter plot, let’s add our fit line. 1) To do this you will need to define a linear function. Note, the order of the variables will be important. 2) Create an array of x values to plot (np.linspace() may be helpful) and input them into the function you just wrote. 3) Make sure you are using the slope and intercept generated from the ss.linregress(). 4) To make a line instead of a scatter plot, the plt.plot() function will be useful\n",
        "*    Print out the R squared value as well.\n",
        "*    Now we have a visualization for the realtionship between GDP per capita and Olympic medals!\n",
        "*    Repeat this process (you can copy and paste most of your work here and just change the data you use) for latitude and population\n",
        "*    Based on the results, which of these factors seems to be most impactful on Winter Olympic success?\n",
        "*    Congrats, you’ve successfully learned to use Python to parse, plot, and statistically analyze data! This is the end of the Python Intensive Training base project."
      ],
      "metadata": {
        "id": "KyH9snWRT-cz"
      }
    },
    {
      "cell_type": "markdown",
      "source": [
        "## Answer"
      ],
      "metadata": {
        "id": "iTkEY3O7UTnl"
      }
    },
    {
      "cell_type": "markdown",
      "source": [
        "[.ipynb file](https://colab.research.google.com/github/ucdavisdatalab/python_intensive_training/blob/main/data/HWDay3.ipynb#)"
      ],
      "metadata": {
        "id": "DCAaoUFuURO3"
      }
    },
    {
      "cell_type": "code",
      "source": [],
      "metadata": {
        "id": "BGHN__xST8rY"
      },
      "execution_count": null,
      "outputs": []
    }
  ],
  "metadata": {
    "colab": {
      "provenance": []
    },
    "kernelspec": {
      "display_name": "Python 3 (ipykernel)",
      "language": "python",
      "name": "python3"
    },
    "language_info": {
      "codemirror_mode": {
        "name": "ipython",
        "version": 3
      },
      "file_extension": ".py",
      "mimetype": "text/x-python",
      "name": "python",
      "nbconvert_exporter": "python",
      "pygments_lexer": "ipython3",
      "version": "3.10.4"
    }
  },
  "nbformat": 4,
  "nbformat_minor": 0
}