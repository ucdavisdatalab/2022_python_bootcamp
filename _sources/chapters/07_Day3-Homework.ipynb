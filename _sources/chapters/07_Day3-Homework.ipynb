{
 "cells": [
  {
   "cell_type": "markdown",
   "metadata": {
    "id": "ghW0vKQ3iJk3"
   },
   "source": [
    "## **Day 3 Homework**"
   ]
  },
  {
   "cell_type": "markdown",
   "metadata": {
    "id": "S1ad9ONyiLpY"
   },
   "source": [
    "Here is a [csv](https://raw.githubusercontent.com/ucdavisdatalab/python_intensive_training/main/data/Day3CountryInfo2018.csv) file that contains all of the countires that medalled in the 2018 Winter Olympic games, their latitudes and longitudes, medals won, GDP (2018), and population (2018). Today we are going to focus on using different packages tto analyze the data. We want to see which factor affect Winter Olympic success (medal count) the most."
   ]
  },
  {
   "cell_type": "markdown",
   "metadata": {
    "id": "hnvcNJyCiYD7"
   },
   "source": [
    "# Initial Instructions:"
   ]
  },
  {
   "cell_type": "markdown",
   "metadata": {
    "id": "lzttkp9TiaFV"
   },
   "source": [
    "1.   Download the csv file from the link above.\n",
    "2.   Open a new [Google Colab notebook](https://colab.research.google.com/) and click on \"New Notebook\" in the corner.\n",
    "3.   Click the file icon on the left toolbar, then click on the upload icon (the button on the left).\n",
    "4.   Choose the new .csv file to upload in order to import the data.\n",
    "5.   Here’s the actual homework!\n"
   ]
  },
  {
   "cell_type": "markdown",
   "metadata": {
    "id": "44IX-ciAicHB"
   },
   "source": [
    "## Assignment"
   ]
  },
  {
   "cell_type": "markdown",
   "metadata": {
    "id": "Pwnef0m3igXI"
   },
   "source": [
    "*   Your solution for Day 2 should already be able to parse all of the data from the file.\n",
    "*   Let’s examine three factors: GDP per capita, latitude, and raw population, and see how each of these affects medal results. While this is a complex question, we are going to assume a linear relationship for the sake of simplicity.\n",
    "*   Let’s start with GDP per capita. There are many ways to do this next step, but one of the easiest is to import the `scipy.stats` package and use the `linregress()` function\n",
    "```\n",
    " import scipy.stats as ss\n",
    "```\n",
    "*   Take a look at the documentation for [linregress](https://docs.scipy.org/doc/scipy-0.19.0/reference/generated/scipy.stats.linregress.html). Particularly the examples may help.\n",
    "*   What should we input into the function? What will be the output and how many should we expect?\n",
    "*   Once you have successfully fit the function, we need to plot our results. Make a scatter plot with the x (GDP per capita) and y (medal total) values.\n",
    "*   To the scatter plot, let’s add our fit line. 1) To do this you will need to define a linear function. Note, the order of the variables will be important. 2) Create an array of x values to plot (np.linspace() may be helpful) and input them into the function you just wrote. 3) Make sure you are using the slope and intercept generated from the ss.linregress(). 4) To make a line instead of a scatter plot, the plt.plot() function will be useful\n",
    "*    Print out the R squared value as well.\n",
    "*    Now we have a visualization for the realtionship between GDP per capita and Olympic medals!\n",
    "*    Repeat this process (you can copy and paste most of your work here and just change the data you use) for latitude and population\n",
    "*    Based on the results, which of these factors seems to be most impactful on Winter Olympic success?\n",
    "*    Congrats, you’ve successfully learned to use Python to parse, plot, and statistically analyze data! This is the end of the Python Bootcamp base project. "
   ]
  },
  {
   "cell_type": "markdown",
   "metadata": {
    "id": "mLmCwX3GjgIy",
    "tags": []
   },
   "source": [
    "## Answer"
   ]
  },
  {
   "cell_type": "markdown",
   "metadata": {
    "id": "fALZSDqHjcwH"
   },
   "source": [
    "[.ipynb file](https://colab.research.google.com/github/ucdavisdatalab/python_intensive_training/blob/main/data/HWDay3.ipynb#)"
   ]
  },
  {
   "cell_type": "code",
   "execution_count": null,
   "metadata": {
    "id": "9VJC_L8q_YVf"
   },
   "outputs": [],
   "source": []
  },
  {
   "cell_type": "code",
   "execution_count": null,
   "metadata": {
    "id": "EKRwBD-hibS9"
   },
   "outputs": [],
   "source": []
  }
 ],
 "metadata": {
  "colab": {
   "name": "06_Day3-Homework.ipynb",
   "provenance": []
  },
  "kernelspec": {
   "display_name": "Python 3 (ipykernel)",
   "language": "python",
   "name": "python3"
  },
  "language_info": {
   "codemirror_mode": {
    "name": "ipython",
    "version": 3
   },
   "file_extension": ".py",
   "mimetype": "text/x-python",
   "name": "python",
   "nbconvert_exporter": "python",
   "pygments_lexer": "ipython3",
   "version": "3.10.4"
  }
 },
 "nbformat": 4,
 "nbformat_minor": 4
}
