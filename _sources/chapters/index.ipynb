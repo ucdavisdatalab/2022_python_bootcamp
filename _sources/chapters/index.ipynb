{
  "nbformat": 4,
  "nbformat_minor": 0,
  "metadata": {
    "colab": {
      "name": "index.ipynb",
      "provenance": []
    },
    "kernelspec": {
      "name": "python3",
      "display_name": "Python 3"
    },
    "language_info": {
      "name": "python"
    }
  },
  "cells": [
    {
      "cell_type": "markdown",
      "source": [
        "# **UC Davis Python Intensive Training** \n",
        "*Maggie Berrens and Parker Bremer*"
      ],
      "metadata": {
        "id": "ZNkg49-zoDaz"
      }
    },
    {
      "cell_type": "markdown",
      "source": [
        "# *Overview*"
      ],
      "metadata": {
        "id": "ICYExOIfyNez"
      }
    },
    {
      "cell_type": "markdown",
      "source": [
        "This four-day course is designed to prepare incoming (or experienced) graduate students with little to no coding experience for the coding demands that many graduate courses and research often requires. The bootcamp will take place over September 6th - 9th from 5 pm - 7 pm on campus in the Shields 360 (DataLab classroom). This is a great opportunity to learn a new skill and meet other graduate students! Each session will begin with about an hour of demonstration to teach fundamental Python topics. This will be followed by time where studetns can work on an assignment with each other and ask questions to volunteers. The assignment each day will build off the previous sessions so by the end you will have a complete Python project!"
      ],
      "metadata": {
        "id": "cYIEqJv0ySEj"
      }
    },
    {
      "cell_type": "markdown",
      "source": [
        "Any questions about the content of this site should be directed to Maggie Berrens (mlberrens@ucdavis.edu) or Parker Bremer (parkerbremer@ucdavis.edu)"
      ],
      "metadata": {
        "id": "cSY4PIMQzjNT"
      }
    },
    {
      "cell_type": "markdown",
      "source": [
        "# Getting Started"
      ],
      "metadata": {
        "id": "4tmTbr3xz4wt"
      }
    },
    {
      "cell_type": "markdown",
      "source": [
        "There are multiple ways to use Python. For this workshop no downloads will be necessary - all programming will be done in a browser using Google Colab. However, if you would like to download Python onto your computer and work offline, instructions will be provided below."
      ],
      "metadata": {
        "id": "v2_b0cHT0G0u"
      }
    },
    {
      "cell_type": "markdown",
      "source": [
        "Make sure you are logged-in on your browser with a Google account. Cick here to open a [new Google Colab notebook](https://colab.research.google.com/). Google Colab will save your files in your Google Drive. Select “New Notebook” at the bottom of the pop-up window. During the presentations, you can follow along and copy what is being demonstrated in your own file and run the code yourself. Here is a [brief introduction to some of Colab’s functionalities](https://www.youtube.com/watch?v=oCngVVBSsmA). If you don’t understand everyting that’s alright. Most importantly, pay attention to the difference between code and text cells, how to run cells of code, and how to move them around.\n",
        "\n",
        "Note: We will be using Python 3 (the latest version of Python) for this workshop."
      ],
      "metadata": {
        "id": "FNdzQjHe0KTH"
      }
    },
    {
      "cell_type": "markdown",
      "source": [
        "# Homework Project"
      ],
      "metadata": {
        "id": "3ST13egx0TAK"
      }
    },
    {
      "cell_type": "markdown",
      "source": [
        "Python is very versatile in its applications. The homework will focus on implementing fundamentals introduced in the lectures, working with data, and accessing Python libraries. There will be two homework levels, a standard assignment and an advanced assignment for those that want a challenge. The overall goal of the assignments will be to process data from the 2018 Winter Olympic Games and analyze what factors contribute to success. With the tools we learn, we can even create a model that tries to predict Olympic success in other years!"
      ],
      "metadata": {
        "id": "nboRkKCH0XTo"
      }
    },
    {
      "cell_type": "markdown",
      "source": [
        "# Agenda"
      ],
      "metadata": {
        "id": "s3s38czf0bA6"
      }
    },
    {
      "cell_type": "markdown",
      "source": [
        "**Day 1**:\n",
        "\n",
        "* Introduction: What are Coding and Python?\n",
        "* Variables, Basic Operations and Print\n",
        "* Lists\n",
        "* Loops\n",
        "* NumPy\n",
        "* Basic Plotting\n",
        "* Data Importing Day1example.dat\n",
        "* Resources\n",
        "\n",
        "**Day 2**:\n",
        "* Idexing lists\n",
        "* Arrays\n",
        "* Conditionals\n",
        "* Nested Loops\n",
        "* Functions\n",
        "* More Plotting \n",
        "\n",
        "\n",
        "**Day 3**:\n",
        "\n",
        "Real reserach application of Python:\n",
        "* Finding Other and Using Other Libraries\n",
        "* Pandas, Sklearn, UMAP\n",
        "* Thought Process of Coding and Data Processing\n",
        "\n",
        "Debugging Tutorial:\n",
        "* Good Coding Practices\n",
        "* Types of Erroes\n",
        "* Using Resources\n",
        "* Print Statements\n",
        "* Test Cases\n"
      ],
      "metadata": {
        "id": "BRPuhKMX0jXP"
      }
    },
    {
      "cell_type": "code",
      "source": [
        ""
      ],
      "metadata": {
        "id": "mzZJW2wB14wD"
      },
      "execution_count": null,
      "outputs": []
    },
    {
      "cell_type": "code",
      "source": [
        ""
      ],
      "metadata": {
        "id": "Rh8WDZoY0vcN"
      },
      "execution_count": null,
      "outputs": []
    }
  ]
}