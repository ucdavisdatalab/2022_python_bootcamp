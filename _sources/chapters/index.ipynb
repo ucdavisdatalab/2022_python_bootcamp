{
  "nbformat": 4,
  "nbformat_minor": 0,
  "metadata": {
    "colab": {
      "name": "index.ipynb",
      "provenance": []
    },
    "kernelspec": {
      "name": "python3",
      "display_name": "Python 3"
    },
    "language_info": {
      "name": "python"
    }
  },
  "cells": [
    {
      "cell_type": "markdown",
      "source": [
        "## UC Davis Python Intensive Training \n",
        "*Maggie Berrens and Parker Bremer*"
      ],
      "metadata": {
        "id": "ZNkg49-zoDaz"
      }
    },
    {
      "cell_type": "code",
      "source": [
        ""
      ],
      "metadata": {
        "id": "zt29RtDUoFj3"
      },
      "execution_count": null,
      "outputs": []
    }
  ]
}