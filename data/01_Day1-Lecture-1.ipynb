{
  "cells": [
    {
      "cell_type": "markdown",
      "id": "ca438c56",
      "metadata": {
        "id": "ca438c56"
      },
      "source": [
        "# **Day 1 Lecture 1** \n",
        "\n",
        "+ Part 0: Why Python?\n",
        "+ Part 1: Variables, Types, and Operations\n",
        "+ Part 2: Lists\n",
        "+ Part 3: Loops\n",
        "+ Part 4: Dictionaries\n",
        "+ Part 5: Functions\n"
      ]
    },
    {
      "cell_type": "markdown",
      "id": "f0efe355",
      "metadata": {
        "id": "f0efe355"
      },
      "source": [
        "## **Why Coding and Python?**\n",
        "\n",
        "\n",
        "\n",
        "*   Great for data processing and simulations\n",
        "*   Coding is fast at dealing with large amounts of data and math\n",
        "*   Python, very versatile and popular\n",
        "*   Very active community developing libraries for it\n",
        "*   One of the more user beginner friendly languages\n",
        "*   Skills transfer to other languages\n",
        "\n",
        "\n",
        "The goal of this workshop is to teach you the practical basics and fundamentals, but also show you how to access resources and teach yourself.\n"
      ]
    },
    {
      "cell_type": "markdown",
      "id": "32d6b72e",
      "metadata": {
        "id": "32d6b72e"
      },
      "source": [
        "## Part 1: Variables, Types, and Operations\n",
        "\n",
        "Variables are the building blocks of software, taking on assigned values that can be used later in the code or updated.\n",
        "\n",
        "Python is an object oriented programming language. All values are represented as certain types of objects.\n",
        "\n",
        "Types:\n",
        "\n",
        "*   Integers\n",
        "*   Floats (decimals)\n",
        "*   Strings (text)\n",
        "*   Many more\n"
      ]
    },
    {
      "cell_type": "markdown",
      "id": "23a7cc77",
      "metadata": {
        "id": "23a7cc77"
      },
      "source": [
        "Working with Integers and Floats:"
      ]
    },
    {
      "cell_type": "code",
      "execution_count": null,
      "id": "088fbd25",
      "metadata": {
        "id": "088fbd25",
        "outputId": "a6ef382f-7865-4619-a347-13e4b71ee637"
      },
      "outputs": [
        {
          "name": "stdout",
          "output_type": "stream",
          "text": [
            "4\n",
            "4 4.0\n",
            "A String\n",
            "<class 'int'> <class 'float'> <class 'str'>\n"
          ]
        }
      ],
      "source": [
        "a = 4\n",
        "b = 4.0\n",
        "c = 'A String'\n",
        "print(a)\n",
        "print(a, b)\n",
        "print(c)\n",
        "print(type(a), type(b), type(c))"
      ]
    },
    {
      "cell_type": "markdown",
      "id": "db7ece35",
      "metadata": {
        "id": "db7ece35"
      },
      "source": [
        "Variable names can contain underscores and numbers, but cannot begin with a number"
      ]
    },
    {
      "cell_type": "code",
      "execution_count": null,
      "id": "caf8894a",
      "metadata": {
        "id": "caf8894a",
        "outputId": "081f756f-a750-42be-8db8-f615ef5f45c0"
      },
      "outputs": [
        {
          "name": "stdout",
          "output_type": "stream",
          "text": [
            "0\n"
          ]
        }
      ],
      "source": [
        "var_1 = 0\n",
        "print(var_1)"
      ]
    },
    {
      "cell_type": "code",
      "execution_count": null,
      "id": "79d0bc4d",
      "metadata": {
        "id": "79d0bc4d",
        "outputId": "3e7bd495-db25-4f24-f62c-dfd1ab5a5ee8"
      },
      "outputs": [
        {
          "ename": "SyntaxError",
          "evalue": "invalid syntax (2838554879.py, line 1)",
          "output_type": "error",
          "traceback": [
            "\u001b[0;36m  Input \u001b[0;32mIn [155]\u001b[0;36m\u001b[0m\n\u001b[0;31m    1var = 0\u001b[0m\n\u001b[0m     ^\u001b[0m\n\u001b[0;31mSyntaxError\u001b[0m\u001b[0;31m:\u001b[0m invalid syntax\n"
          ]
        }
      ],
      "source": [
        "1var = 0"
      ]
    },
    {
      "cell_type": "markdown",
      "id": "2755370b",
      "metadata": {
        "id": "2755370b"
      },
      "source": [
        "The variables (and objects) can be operated on with common \"operators\".\n",
        "For numbers we have:\n",
        "\n",
        "( + ) Addition  \n",
        "( - ) Subtracton  \n",
        "( * ) Multiplication  \n",
        "( / ) Division  \n",
        "( ** ) Exponentiation"
      ]
    },
    {
      "cell_type": "code",
      "execution_count": null,
      "id": "8662dd0c",
      "metadata": {
        "id": "8662dd0c",
        "outputId": "b0dfde23-9df3-4d36-88e3-e497b468e1ea"
      },
      "outputs": [
        {
          "name": "stdout",
          "output_type": "stream",
          "text": [
            "6.5\n",
            "-1.5\n",
            "10.0\n",
            "0.625\n",
            "64.0\n"
          ]
        }
      ],
      "source": [
        "f1 = 2.5\n",
        "f2 = 4.0\n",
        "f_added = f1 + f2\n",
        "f_subtracted = f1 - f2\n",
        "f_multiplied = f1 * f2\n",
        "f_divided = f1 / f2\n",
        "f2_cubed = f2 ** 3\n",
        "print(f_added)\n",
        "print(f_subtracted)\n",
        "print(f_multiplied)\n",
        "print(f_divided)\n",
        "print(f2_cubed)"
      ]
    },
    {
      "cell_type": "markdown",
      "id": "b16c0dca",
      "metadata": {
        "id": "b16c0dca"
      },
      "source": [
        "There is shorthand notation for updating a variable with an operation:"
      ]
    },
    {
      "cell_type": "code",
      "execution_count": null,
      "id": "601dc02e",
      "metadata": {
        "id": "601dc02e",
        "outputId": "8dfb28d0-9f1f-40b9-de9f-70870646042d"
      },
      "outputs": [
        {
          "name": "stdout",
          "output_type": "stream",
          "text": [
            "15\n",
            "15\n",
            "50\n"
          ]
        }
      ],
      "source": [
        "f3 = 10\n",
        "f3 = f3 + 5\n",
        "print(f3)\n",
        "\n",
        "f3 = 10\n",
        "f3 += 5\n",
        "print(f3)\n",
        "\n",
        "f4 = 10\n",
        "f4 *= 5\n",
        "print(f4)"
      ]
    },
    {
      "cell_type": "markdown",
      "id": "65c3a4a2",
      "metadata": {
        "id": "65c3a4a2"
      },
      "source": [
        "Types are often managed automatically by the Python interpreter."
      ]
    },
    {
      "cell_type": "code",
      "execution_count": null,
      "id": "452f6b40",
      "metadata": {
        "id": "452f6b40",
        "outputId": "a7fe3dee-8e92-4496-c01d-eca4cad81537"
      },
      "outputs": [
        {
          "name": "stdout",
          "output_type": "stream",
          "text": [
            "<class 'int'> <class 'float'>\n",
            "7.5 <class 'float'>\n"
          ]
        }
      ],
      "source": [
        "a = 5\n",
        "b = 1.5\n",
        "print(type(a), type(b))\n",
        "\n",
        "c = a * b\n",
        "print(c, type(c))"
      ]
    },
    {
      "cell_type": "markdown",
      "id": "82a3f585",
      "metadata": {
        "id": "82a3f585"
      },
      "source": [
        "Working with Strings:"
      ]
    },
    {
      "cell_type": "code",
      "execution_count": null,
      "id": "a032522c",
      "metadata": {
        "id": "a032522c",
        "outputId": "1130caa0-d22b-454c-fdf9-ecdba6dd6515"
      },
      "outputs": [
        {
          "name": "stdout",
          "output_type": "stream",
          "text": [
            "A String\n",
            "Another String\n",
            "A longer string,\n",
            "written on multiple lines\n"
          ]
        }
      ],
      "source": [
        "s1 = 'A String'\n",
        "s2 = \"Another String\"\n",
        "s3 = '''A longer string,\n",
        "written on multiple lines'''\n",
        "print(s1)\n",
        "print(s2)\n",
        "print(s3)"
      ]
    },
    {
      "cell_type": "markdown",
      "id": "22924839",
      "metadata": {
        "id": "22924839"
      },
      "source": [
        "There are several methods available to operate on strings. Some are demonstrated here:"
      ]
    },
    {
      "cell_type": "code",
      "execution_count": null,
      "id": "3c543980",
      "metadata": {
        "id": "3c543980",
        "outputId": "f127ae38-8c5a-4e2d-c979-57e0eda06aba"
      },
      "outputs": [
        {
          "name": "stdout",
          "output_type": "stream",
          "text": [
            "One String\n",
            "ANother StriNg\n",
            "another string\n",
            "ANOTHER STRING\n"
          ]
        }
      ],
      "source": [
        "s1 = s1.replace('A', 'One')\n",
        "s2 = s2.replace('n', 'N')\n",
        "print(s1)\n",
        "print(s2)\n",
        "print(s2.lower())\n",
        "print(s2.upper())"
      ]
    },
    {
      "cell_type": "code",
      "execution_count": null,
      "id": "fc828d62",
      "metadata": {
        "id": "fc828d62",
        "outputId": "4f6c9cf0-ee28-4857-c875-829c22384a9d"
      },
      "outputs": [
        {
          "name": "stdout",
          "output_type": "stream",
          "text": [
            "AString\n",
            "A String\n"
          ]
        }
      ],
      "source": [
        "s1 = 'A'\n",
        "s2 = 'String'\n",
        "print(s1 + s2)\n",
        "print(s1 + ' ' + s2)"
      ]
    },
    {
      "cell_type": "markdown",
      "id": "08dcb140",
      "metadata": {
        "id": "08dcb140"
      },
      "source": [
        "Strings can be formatted with other variables."
      ]
    },
    {
      "cell_type": "code",
      "execution_count": null,
      "id": "44d2e615",
      "metadata": {
        "id": "44d2e615",
        "outputId": "b77123d6-314a-41d5-c9d5-be0b381e6412"
      },
      "outputs": [
        {
          "name": "stdout",
          "output_type": "stream",
          "text": [
            "{} ate {} cupcakes.\n",
            "Ben ate 2 cupcakes.\n",
            "Ben ate 2 cupcakes.\n"
          ]
        }
      ],
      "source": [
        "name = 'Ben'\n",
        "num = 2\n",
        "sentence = '{} ate {} cupcakes.'\n",
        "print(sentence)\n",
        "print(sentence.format(name, num))\n",
        "\n",
        "sentence = f'{name} ate {num} cupcakes.'\n",
        "print(sentence)"
      ]
    },
    {
      "cell_type": "markdown",
      "id": "fec590f0",
      "metadata": {
        "id": "fec590f0"
      },
      "source": [
        "## Part 2: Lists\n",
        "\n",
        "Lists are containers for storing a collecition of objects.\n",
        "Items can be appended to the list, inserted into a specific posiiton, removed, or \"popped\" from a specific position"
      ]
    },
    {
      "cell_type": "code",
      "execution_count": null,
      "id": "dcb2970d",
      "metadata": {
        "id": "dcb2970d",
        "outputId": "fc73f564-9359-4629-9192-0bbf3d6da537"
      },
      "outputs": [
        {
          "name": "stdout",
          "output_type": "stream",
          "text": [
            "[]\n",
            "[1]\n",
            "[1, 2, 3, 4]\n",
            "[10, 1, 2, 3, 4]\n",
            "[10, 2, 3, 4]\n",
            "4 [10, 2, 3]\n",
            "10 [2, 3]\n"
          ]
        }
      ],
      "source": [
        "my_list = []\n",
        "print(my_list)\n",
        "my_list.append(1)\n",
        "print(my_list)\n",
        "my_list.append(2)\n",
        "my_list.append(3)\n",
        "my_list.append(4)\n",
        "print(my_list)\n",
        "my_list.insert(0, 10)\n",
        "print(my_list)\n",
        "my_list.remove(1)\n",
        "print(my_list)\n",
        "popped_value = my_list.pop()\n",
        "print(popped_value, my_list)\n",
        "popped_value = my_list.pop(0)\n",
        "print(popped_value, my_list)"
      ]
    },
    {
      "cell_type": "markdown",
      "id": "8b9c5da9",
      "metadata": {
        "id": "8b9c5da9"
      },
      "source": [
        "Indexing lists (selecting the elements from inside a list) is performed with the square brackets []."
      ]
    },
    {
      "cell_type": "code",
      "execution_count": null,
      "id": "4a5c41b9",
      "metadata": {
        "id": "4a5c41b9",
        "outputId": "c9b4ba04-77e4-4093-96e6-878a28e5ed49"
      },
      "outputs": [
        {
          "name": "stdout",
          "output_type": "stream",
          "text": [
            "1\n",
            "2\n"
          ]
        }
      ],
      "source": [
        "my_list = [1, 2, 3, 4, 5, 6]\n",
        "print(my_list[0])\n",
        "print(my_list[1])"
      ]
    },
    {
      "cell_type": "markdown",
      "id": "2f5cad6f",
      "metadata": {
        "id": "2f5cad6f"
      },
      "source": [
        "Of course, a list cannot be indexed beyond its final element."
      ]
    },
    {
      "cell_type": "code",
      "execution_count": null,
      "id": "d2ee0954",
      "metadata": {
        "id": "d2ee0954",
        "outputId": "c9d675a7-3956-42e7-94c1-3d90998e14a1"
      },
      "outputs": [
        {
          "ename": "IndexError",
          "evalue": "list index out of range",
          "output_type": "error",
          "traceback": [
            "\u001b[0;31m---------------------------------------------------------------------------\u001b[0m",
            "\u001b[0;31mIndexError\u001b[0m                                Traceback (most recent call last)",
            "Input \u001b[0;32mIn [165]\u001b[0m, in \u001b[0;36m<cell line: 1>\u001b[0;34m()\u001b[0m\n\u001b[0;32m----> 1\u001b[0m \u001b[38;5;28mprint\u001b[39m(\u001b[43mmy_list\u001b[49m\u001b[43m[\u001b[49m\u001b[38;5;241;43m7\u001b[39;49m\u001b[43m]\u001b[49m)\n",
            "\u001b[0;31mIndexError\u001b[0m: list index out of range"
          ]
        }
      ],
      "source": [
        "print(my_list[7])"
      ]
    },
    {
      "cell_type": "markdown",
      "id": "cacb48ae",
      "metadata": {
        "id": "cacb48ae"
      },
      "source": [
        "\n",
        "Multiple subsequent elements can be selected with a \"slice\", represented by the colon :  \n",
        "The slice takes the form [start:end:step].  \n",
        "Leaving start (end) blank implies the first (last) element. The step size defaults to 1 if not included."
      ]
    },
    {
      "cell_type": "code",
      "execution_count": null,
      "id": "1a43341a",
      "metadata": {
        "id": "1a43341a",
        "outputId": "f21d1c85-7e45-4fe9-cea8-77368be4acb3"
      },
      "outputs": [
        {
          "name": "stdout",
          "output_type": "stream",
          "text": [
            "[1, 2, 3, 4, 5, 6]\n",
            "[1, 2, 3, 4, 5, 6]\n",
            "[3, 4, 5]\n",
            "[1, 3, 5]\n"
          ]
        }
      ],
      "source": [
        "print(my_list[:])\n",
        "print(my_list[::])\n",
        "\n",
        "list_slice1 = my_list[2:5] # Select the 3rd, 4th, and 5th element\n",
        "print(list_slice1)\n",
        "\n",
        "list_slice2 = my_list[::2] # Select elements from the beginning to end with step size 2\n",
        "print(list_slice2)"
      ]
    },
    {
      "cell_type": "markdown",
      "id": "412eacbb",
      "metadata": {
        "id": "412eacbb"
      },
      "source": [
        "Certain symbolic operators also work on lists, like + and *."
      ]
    },
    {
      "cell_type": "code",
      "execution_count": null,
      "id": "4dbbddd1",
      "metadata": {
        "id": "4dbbddd1",
        "outputId": "b2abe127-3ec6-42d5-e135-f1839c48a9bf"
      },
      "outputs": [
        {
          "name": "stdout",
          "output_type": "stream",
          "text": [
            "[45, 21, 33, 100, 3, 56]\n",
            "['A', 'f', 'Z', 'A', 'f', 'Z', 'A', 'f', 'Z']\n"
          ]
        }
      ],
      "source": [
        "numbers = [45, 21, 33]\n",
        "more_numbers = [100, 3, 56]\n",
        "all_numbers = numbers + more_numbers\n",
        "print(all_numbers)\n",
        "\n",
        "letters = ['A', 'f', 'Z']\n",
        "multiplied_list = letters * 3\n",
        "print(multiplied_list)"
      ]
    },
    {
      "cell_type": "markdown",
      "id": "9e7ee46f",
      "metadata": {
        "id": "9e7ee46f"
      },
      "source": [
        "## Part 3: Loops\n",
        "\n",
        "Loops provide a way of repeating a block of code many times.\n",
        "The loop will run across successive values of an \"iterable\".\n",
        "Iterables are objects with an ordered set of items: range, lists\n"
      ]
    },
    {
      "cell_type": "code",
      "execution_count": null,
      "id": "ad00bbeb",
      "metadata": {
        "id": "ad00bbeb",
        "outputId": "f680f295-9bb6-4755-d8ad-3d0ced4984d9"
      },
      "outputs": [
        {
          "name": "stdout",
          "output_type": "stream",
          "text": [
            "0 0\n",
            "1 8\n",
            "2 16\n",
            "3 24\n",
            "4 32\n",
            "5 40\n",
            "6 48\n",
            "7 56\n",
            "8 64\n",
            "9 72\n"
          ]
        }
      ],
      "source": [
        "for i in range(10):\n",
        "    print(i, i*8)"
      ]
    },
    {
      "cell_type": "markdown",
      "id": "a5d4056e",
      "metadata": {
        "id": "a5d4056e"
      },
      "source": [
        "Loops are often useful for iterating over values in a list, or proccessing multiple data points in the same way without repeating code."
      ]
    },
    {
      "cell_type": "code",
      "execution_count": null,
      "id": "864094cd",
      "metadata": {
        "id": "864094cd",
        "outputId": "5898323c-a18d-425f-f10e-bf010a218d78"
      },
      "outputs": [
        {
          "name": "stdout",
          "output_type": "stream",
          "text": [
            "7\n",
            "4\n",
            "3\n",
            "6\n"
          ]
        }
      ],
      "source": [
        "num_candies = [7, 4, 3, 6]\n",
        "\n",
        "for nc in num_candies:\n",
        "    print(nc)"
      ]
    },
    {
      "cell_type": "code",
      "execution_count": null,
      "id": "46bb2a4b",
      "metadata": {
        "id": "46bb2a4b",
        "outputId": "91cff93f-eae1-4e38-9cb1-d6baa9b6f28f"
      },
      "outputs": [
        {
          "name": "stdout",
          "output_type": "stream",
          "text": [
            "There are 7 candies in jar 0.\n",
            "There are 4 candies in jar 1.\n",
            "There are 3 candies in jar 2.\n",
            "There are 6 candies in jar 3.\n"
          ]
        }
      ],
      "source": [
        "for i,nc in enumerate(num_candies):\n",
        "    print(f'There are {nc} candies in jar {i}.')"
      ]
    },
    {
      "cell_type": "markdown",
      "id": "49dc3816",
      "metadata": {
        "id": "49dc3816"
      },
      "source": [
        "What if we want to sum up all elements of a list?"
      ]
    },
    {
      "cell_type": "code",
      "execution_count": null,
      "id": "e9e6f6e9",
      "metadata": {
        "id": "e9e6f6e9",
        "outputId": "5d479be4-0df9-49a3-cbea-36ab5c870836"
      },
      "outputs": [
        {
          "name": "stdout",
          "output_type": "stream",
          "text": [
            "20\n"
          ]
        }
      ],
      "source": [
        "total_candies = num_candies[0] + num_candies[1] + num_candies[2] + num_candies[3]\n",
        "print(total_candies)"
      ]
    },
    {
      "cell_type": "code",
      "execution_count": null,
      "id": "885e8450",
      "metadata": {
        "id": "885e8450",
        "outputId": "773748ec-0758-43c5-a60d-4c67698fd6d1"
      },
      "outputs": [
        {
          "name": "stdout",
          "output_type": "stream",
          "text": [
            "20\n"
          ]
        }
      ],
      "source": [
        "total_candies = 0\n",
        "for nc in num_candies:\n",
        "    total_candies += nc\n",
        "print(total_candies)"
      ]
    },
    {
      "cell_type": "markdown",
      "id": "f739406c",
      "metadata": {
        "id": "f739406c"
      },
      "source": [
        "What if one wants to compare all possible pairs of numbers in a list?  \n",
        "We can use nested for loops to achieve this."
      ]
    },
    {
      "cell_type": "code",
      "execution_count": null,
      "id": "48207053",
      "metadata": {
        "id": "48207053",
        "outputId": "494f405f-d3ee-4521-a1d2-0b7fbcc5862e"
      },
      "outputs": [
        {
          "name": "stdout",
          "output_type": "stream",
          "text": [
            "The product of 1 and 1 is 1.\n",
            "The product of 1 and 3 is 3.\n",
            "The product of 1 and 5 is 5.\n",
            "The product of 1 and 7 is 7.\n",
            "The product of 1 and 9 is 9.\n",
            "The product of 3 and 1 is 3.\n",
            "The product of 3 and 3 is 9.\n",
            "The product of 3 and 5 is 15.\n",
            "The product of 3 and 7 is 21.\n",
            "The product of 3 and 9 is 27.\n",
            "The product of 5 and 1 is 5.\n",
            "The product of 5 and 3 is 15.\n",
            "The product of 5 and 5 is 25.\n",
            "The product of 5 and 7 is 35.\n",
            "The product of 5 and 9 is 45.\n",
            "The product of 7 and 1 is 7.\n",
            "The product of 7 and 3 is 21.\n",
            "The product of 7 and 5 is 35.\n",
            "The product of 7 and 7 is 49.\n",
            "The product of 7 and 9 is 63.\n",
            "The product of 9 and 1 is 9.\n",
            "The product of 9 and 3 is 27.\n",
            "The product of 9 and 5 is 45.\n",
            "The product of 9 and 7 is 63.\n",
            "The product of 9 and 9 is 81.\n"
          ]
        }
      ],
      "source": [
        "numbers = [1, 3, 5, 7, 9]\n",
        "\n",
        "for n1 in numbers:\n",
        "    for n2 in numbers:\n",
        "        product = n1 * n2\n",
        "        print(f'The product of {n1} and {n2} is {product}.')"
      ]
    },
    {
      "cell_type": "markdown",
      "id": "c5f15018",
      "metadata": {
        "id": "c5f15018"
      },
      "source": [
        "Here, each comparison between non-identical numbers is performed twice, which is a waste of time.\n",
        "This can be avoided by forcing the inner for loop to pick up where the outer loop leaves off."
      ]
    },
    {
      "cell_type": "code",
      "execution_count": null,
      "id": "a2c60604",
      "metadata": {
        "id": "a2c60604",
        "outputId": "d37c603c-5600-4459-91ac-4c2407e83d7b"
      },
      "outputs": [
        {
          "name": "stdout",
          "output_type": "stream",
          "text": [
            "The product of 1 and 1 is 1.\n",
            "The product of 1 and 3 is 3.\n",
            "The product of 1 and 5 is 5.\n",
            "The product of 1 and 7 is 7.\n",
            "The product of 1 and 9 is 9.\n",
            "The product of 3 and 3 is 9.\n",
            "The product of 3 and 5 is 15.\n",
            "The product of 3 and 7 is 21.\n",
            "The product of 3 and 9 is 27.\n",
            "The product of 5 and 5 is 25.\n",
            "The product of 5 and 7 is 35.\n",
            "The product of 5 and 9 is 45.\n",
            "The product of 7 and 7 is 49.\n",
            "The product of 7 and 9 is 63.\n",
            "The product of 9 and 9 is 81.\n"
          ]
        }
      ],
      "source": [
        "for i1,n1 in enumerate(numbers):\n",
        "    for n2 in numbers[i1:]:\n",
        "        product = n1 * n2\n",
        "        print(f'The product of {n1} and {n2} is {product}.')"
      ]
    },
    {
      "cell_type": "markdown",
      "id": "f5ee000b",
      "metadata": {
        "id": "f5ee000b"
      },
      "source": [
        "## Part 4: Dictionaries\n",
        "\n",
        "Dictionaries are collections of key-value pairs, in a \"hash map\".  \n",
        "They provide a very fast method of mapping or storing values under a key."
      ]
    },
    {
      "cell_type": "code",
      "execution_count": null,
      "id": "55c68fd2",
      "metadata": {
        "id": "55c68fd2",
        "outputId": "6703fc80-f324-4860-b4f8-41439e52f103"
      },
      "outputs": [
        {
          "name": "stdout",
          "output_type": "stream",
          "text": [
            "{'name': 'Frank', 'age': 30}\n",
            "Frank\n",
            "{'name': 'Frank', 'age': 30, 'address': '123 Best Avenue'}\n"
          ]
        }
      ],
      "source": [
        "person = {}\n",
        "person['name'] = 'Frank'\n",
        "person['age'] = 30\n",
        "print(person)\n",
        "print(person['name'])\n",
        "\n",
        "person = {'name':'Frank', 'age':30}\n",
        "person['address'] = '123 Best Avenue'\n",
        "print(person)"
      ]
    },
    {
      "cell_type": "markdown",
      "id": "24cd2555",
      "metadata": {
        "id": "24cd2555"
      },
      "source": [
        "Dictionaries are useful for many applications. One use case is counting occurance frequency objects in a list."
      ]
    },
    {
      "cell_type": "code",
      "execution_count": null,
      "id": "e00e2148",
      "metadata": {
        "id": "e00e2148",
        "outputId": "20264a0c-87fe-4e1f-bc89-563c7163134e"
      },
      "outputs": [
        {
          "name": "stdout",
          "output_type": "stream",
          "text": [
            "{1: 5, 3: 5, 2: 3, 4: 1}\n",
            "5\n",
            "1\n"
          ]
        }
      ],
      "source": [
        "values = [1, 3, 2, 3, 1, 1, 4, 3, 2, 2, 1, 3, 1, 3]\n",
        "\n",
        "counts = {}\n",
        "for v in values:\n",
        "    if v not in counts:\n",
        "        counts[v] = 0\n",
        "    counts[v] += 1\n",
        "\n",
        "print(counts)\n",
        "print(counts[1])\n",
        "print(counts[4])"
      ]
    },
    {
      "cell_type": "markdown",
      "id": "af37622d",
      "metadata": {
        "id": "af37622d"
      },
      "source": [
        "## Part 5: Functions\n",
        "\n",
        "Functions take a set of arguments as input, perform some desired operations, and return a final value or object.\n",
        "\n",
        "Functions are useful for minimizing repetition of code, grouping large tasks into a single routine, and providing readability to large codes."
      ]
    },
    {
      "cell_type": "code",
      "execution_count": null,
      "id": "f31853aa",
      "metadata": {
        "id": "f31853aa",
        "outputId": "4e3a06fc-e79f-48dc-9f4c-7590a00a1191"
      },
      "outputs": [
        {
          "name": "stdout",
          "output_type": "stream",
          "text": [
            "16\n",
            "36\n"
          ]
        }
      ],
      "source": [
        "# Simple function to find the square of a number\n",
        "def square_number ( number ):\n",
        "    square = number * number\n",
        "    return square\n",
        "\n",
        "print(square_number(4))\n",
        "print(square_number(6))"
      ]
    },
    {
      "cell_type": "code",
      "execution_count": null,
      "id": "0d30b5ab",
      "metadata": {
        "id": "0d30b5ab",
        "outputId": "3b84eeed-6c33-4612-8a8b-3749853ad6c7"
      },
      "outputs": [
        {
          "name": "stdout",
          "output_type": "stream",
          "text": [
            "6.0\n"
          ]
        }
      ],
      "source": [
        "# Function to calculate a triangle area, given the base length and height\n",
        "#   area = (base * height) / 2\n",
        "def calculate_triangle_area ( base, height ):\n",
        "    return base * height / 2\n",
        "\n",
        "print(calculate_triangle_area(4, 3))"
      ]
    },
    {
      "cell_type": "code",
      "execution_count": 1,
      "id": "6c2b21be",
      "metadata": {
        "colab": {
          "base_uri": "https://localhost:8080/"
        },
        "id": "6c2b21be",
        "outputId": "ed5fd456-702c-4f7b-ef3e-a5b2ebf12ba9"
      },
      "outputs": [
        {
          "output_type": "stream",
          "name": "stdout",
          "text": [
            "The maximum value is 4, found at index 6\n"
          ]
        }
      ],
      "source": [
        "# Function to find the maximum value and index in a list of numbers\n",
        "def find_maximum ( values ):\n",
        "    maximum = -1\n",
        "    max_index = -1\n",
        "    for i,v in enumerate(values):\n",
        "        if v > maximum:\n",
        "            maximum = v\n",
        "            max_index = i\n",
        "    return maximum, max_index\n",
        "\n",
        "vals = [1, 3, 2, 3, 1, 1, 4, 3, 2, 2, 1, 3, 1, 3]\n",
        "m,i = find_maximum(vals)\n",
        "print(f'The maximum value is {m}, found at index {i}')"
      ]
    },
    {
      "cell_type": "code",
      "source": [],
      "metadata": {
        "id": "gSfwyESDQDkC"
      },
      "id": "gSfwyESDQDkC",
      "execution_count": null,
      "outputs": []
    }
  ],
  "metadata": {
    "kernelspec": {
      "display_name": "Python 3 (ipykernel)",
      "language": "python",
      "name": "python3"
    },
    "language_info": {
      "codemirror_mode": {
        "name": "ipython",
        "version": 3
      },
      "file_extension": ".py",
      "mimetype": "text/x-python",
      "name": "python",
      "nbconvert_exporter": "python",
      "pygments_lexer": "ipython3",
      "version": "3.9.12"
    },
    "colab": {
      "provenance": []
    }
  },
  "nbformat": 4,
  "nbformat_minor": 5
}
