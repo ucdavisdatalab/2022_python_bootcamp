{
  "cells": [
    {
      "cell_type": "code",
      "execution_count": 1,
      "id": "34b1ed3f",
      "metadata": {
        "colab": {
          "base_uri": "https://localhost:8080/"
        },
        "id": "34b1ed3f",
        "outputId": "b0adb6ba-70a1-4aaa-853b-bc6df2b8cd9f"
      },
      "outputs": [
        {
          "output_type": "stream",
          "name": "stdout",
          "text": [
            "3.14208\n"
          ]
        }
      ],
      "source": [
        "import numpy as np\n",
        "\n",
        "# This solution is integrated only in quadrant 1 (0 <= x,y <= 1)\n",
        "# The circle is centered at the origin (0,0) and has radius 1\n",
        "\n",
        "N = 100000  # Increase N for a better approximation\n",
        "inside = 0  # Count how many points land inside circle\n",
        "rnd = np.random.rand(N, 2)  # Generate random numbers\n",
        "for r in rnd:\n",
        "    if r[0]**2 + r[1]**2 <= 1:\n",
        "        inside += 1\n",
        "\n",
        "apprx_pi = 4 * inside / N\n",
        "print(apprx_pi)"
      ]
    },
    {
      "cell_type": "code",
      "source": [],
      "metadata": {
        "id": "RTWbDa8iHdfy"
      },
      "id": "RTWbDa8iHdfy",
      "execution_count": null,
      "outputs": []
    }
  ],
  "metadata": {
    "kernelspec": {
      "display_name": "Python 3 (ipykernel)",
      "language": "python",
      "name": "python3"
    },
    "language_info": {
      "codemirror_mode": {
        "name": "ipython",
        "version": 3
      },
      "file_extension": ".py",
      "mimetype": "text/x-python",
      "name": "python",
      "nbconvert_exporter": "python",
      "pygments_lexer": "ipython3",
      "version": "3.9.12"
    },
    "colab": {
      "provenance": []
    }
  },
  "nbformat": 4,
  "nbformat_minor": 5
}