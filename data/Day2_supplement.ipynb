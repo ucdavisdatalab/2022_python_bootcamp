{
 "cells": [
  {
   "cell_type": "markdown",
   "id": "af9595f9",
   "metadata": {},
   "source": [
    "# Day 2 #"
   ]
  },
  {
   "cell_type": "markdown",
   "id": "292de05e",
   "metadata": {},
   "source": [
    "### 3.1) Continued Indexing ###\n",
    "Slicing lists and arrays"
   ]
  },
  {
   "cell_type": "code",
   "execution_count": 145,
   "id": "3ffcb353",
   "metadata": {},
   "outputs": [
    {
     "name": "stdout",
     "output_type": "stream",
     "text": [
      "['jan', 'feb', 'march', 'april', 'may', 'june', 'july', 'aug', 'sep', 'oct', 'nov', 'dec']\n",
      "july\n",
      "['jan', 'feb', 'march', 'april', 'may', 'june', 'july', 'aug', 'sep', 'oct', 'nov', 'dec']\n",
      "['june', 'july', 'aug']\n",
      "['jan', 'feb', 'march', 'april', 'may']\n",
      "['june', 'july', 'aug', 'sep', 'oct', 'nov', 'dec']\n",
      "['jan', 'feb', 'march', 'april', 'may', 'june', 'july', 'aug', 'sep', 'oct', 'nov', 'dec']\n",
      "['june', 'july', 'aug', 'june', 'july', 'aug', 'june', 'july', 'aug']\n",
      "dec\n",
      "['oct', 'nov']\n",
      "['oct', 'nov']\n"
     ]
    }
   ],
   "source": [
    "months = ['jan','feb','march','april','may','june','july','aug','sep','oct','nov','dec']\n",
    "print(months)\n",
    "\n",
    "# Slices with :\n",
    "print(months[6])\n",
    "print(months[:])\n",
    "\n",
    "# Summer months (indices 5, 6, and 7)\n",
    "summer = months[5:8]\n",
    "print(summer)\n",
    "\n",
    "# The entire array, 5 left off the first and included in second\n",
    "print(months[:5])\n",
    "print(months[5:])\n",
    "print(months[:5] + months[5:])\n",
    "print(summer*3)\n",
    "\n",
    "# Negative indexing\n",
    "print(months[-1])\n",
    "print(months[-3:-1])\n",
    "print(months[9:-1])"
   ]
  },
  {
   "cell_type": "markdown",
   "id": "d5ee39ae",
   "metadata": {},
   "source": [
    "### 3.2) NumPy Arrays ###\n",
    "Vectorized numerical operations<br/>\n",
    "Matrix operations"
   ]
  },
  {
   "cell_type": "code",
   "execution_count": 138,
   "id": "d3f667fe",
   "metadata": {
    "scrolled": true
   },
   "outputs": [
    {
     "name": "stdout",
     "output_type": "stream",
     "text": [
      "[ 3 25  6  3 73  3]\n",
      "3\n",
      "[  9  75  18   9 219   9]\n",
      "[ 1 -5  3] [2 1 0]\n",
      "[ 2 -5  0]\n",
      "-3\n",
      "-3\n",
      "-3\n",
      "[-3  6 11]\n"
     ]
    }
   ],
   "source": [
    "import numpy as np\n",
    "\n",
    "# Lists to numpy arrays\n",
    "mylist = [3, 25, 6, 3, 73, 3]\n",
    "myarray = np.array(mylist)\n",
    "print(myarray)\n",
    "print(myarray[3])\n",
    "print(myarray*3)\n",
    "\n",
    "# Vectors\n",
    "v1 = np.array([1,-5,3])\n",
    "v2 = np.array([2,1,0])\n",
    "print(v1, v2)\n",
    "\n",
    "# Elementwise multiplication\n",
    "print(v1 * v2)\n",
    "\n",
    "# Dot products\n",
    "print(np.dot(v1, v2))\n",
    "print(v1.dot(v2))\n",
    "print(v1 @ v2)\n",
    "\n",
    "# Cross product\n",
    "print(np.cross(v1, v2))"
   ]
  },
  {
   "cell_type": "code",
   "execution_count": 150,
   "id": "73a68ae1",
   "metadata": {},
   "outputs": [
    {
     "name": "stdout",
     "output_type": "stream",
     "text": [
      "[[1 2 3]\n",
      " [4 5 6]] \n",
      "\n",
      "[1 2 3] [4 5 6] \n",
      "\n",
      "[1 4] [2 5] [3 6] \n",
      "\n",
      "[[0. 0. 0.]\n",
      " [0. 0. 0.]\n",
      " [0. 0. 0.]\n",
      " [0. 0. 0.]\n",
      " [0. 0. 0.]\n",
      " [0. 0. 0.]]\n",
      "[[ 5  6  7]\n",
      " [ 8  9 10]] \n",
      "\n",
      "[[ 6  8 10]\n",
      " [12 14 16]] \n",
      "\n",
      "[[ 5 12 21]\n",
      " [32 45 60]] \n",
      "\n",
      "[[ 38  56]\n",
      " [ 92 137]] \n",
      "\n",
      "[[ 5  6  7 10 12 14 15 18 21]\n",
      " [ 8  9 10 16 18 20 24 27 30]\n",
      " [20 24 28 25 30 35 30 36 42]\n",
      " [32 36 40 40 45 50 48 54 60]] \n",
      "\n",
      "[[ 1.00000000e+00 -2.22044605e-16]\n",
      " [ 0.00000000e+00  1.00000000e+00]]\n"
     ]
    }
   ],
   "source": [
    "\n",
    "\n",
    "# Create a matrix\n",
    "matrixA = np.array([[1,2,3],[4,5,6]])\n",
    "print(matrixA,'\\n')\n",
    "\n",
    "# Slices\n",
    "print(matrixA[0,:], matrixA[1,:], '\\n')\n",
    "print(matrixA[:,0], matrixA[:,1], matrixA[:,2], '\\n')\n",
    "\n",
    "# Pre-allocating numpy containers\n",
    "myarray2 = np.zeros((6,3))\n",
    "print(myarray2)\n",
    "\n",
    "# Reshape\n",
    "matrixB = np.array(range(5,11)).reshape((2,3))\n",
    "print(matrixB,'\\n')\n",
    "\n",
    "# Matrix tools\n",
    "print(matrixA + matrixB, '\\n') # Elementwise Addition\n",
    "print(matrixA * matrixB, '\\n') # Elementwise Multiplication\n",
    "print(matrixA @ matrixB.T, '\\n') # Matrix Multiplication\n",
    "print(np.kron(matrixA, matrixB), '\\n') # Tensor Product\n",
    "\n",
    "# Matrix inverse\n",
    "matrixC = np.array([[-1,1],[2,3]])\n",
    "invC = np.linalg.inv(matrixC)\n",
    "print(invC @ matrixC)"
   ]
  },
  {
   "cell_type": "markdown",
   "id": "422ec670",
   "metadata": {},
   "source": [
    "### 3.3) Control Flow ###\n",
    "Logical branching"
   ]
  },
  {
   "cell_type": "code",
   "execution_count": 151,
   "id": "9da5b445",
   "metadata": {},
   "outputs": [
    {
     "name": "stdout",
     "output_type": "stream",
     "text": [
      "[3 6 5 4 8 9 1 7 9 6 8 0 5 0 9 6 2 0 5 2]\n",
      "Its not five or four\n",
      "[3, 6, 5, 4, 8, 9, 1, 7, 9, 6, 8, 0, 5, 0, 9, 6, 0, 5]\n",
      "[6, 5, 8, 9, 7, 9, 6, 8, 5, 9, 6, 5]\n",
      "[5, 8, 9, 7, 9, 8, 5, 9, 5]\n",
      "[6, 6, 6, 2, 2]\n",
      "[8, 9, 7, 9, 8, 9]\n",
      "[4, 5, 7, 8, 10, 14]\n"
     ]
    }
   ],
   "source": [
    "import numpy as np\n",
    "\n",
    "np.random.seed(1234)\n",
    "rnd_nums = np.random.randint(10, size=20)\n",
    "print(rnd_nums)\n",
    "\n",
    "if rnd_nums[0] == 5:\n",
    "    print('Its five')\n",
    "elif rnd_nums[0] == 4:\n",
    "    print('Its four')\n",
    "else:\n",
    "    print('Its not five or four')\n",
    "\n",
    "c1 = []\n",
    "c2 = []\n",
    "c3 = []\n",
    "c4 = []\n",
    "for num in rnd_nums:\n",
    "    if num != 2:\n",
    "        c1.append(num)\n",
    "    if num > 4:\n",
    "        c2.append(num)\n",
    "    if num > 4 and num != 6:\n",
    "        c3.append(num)\n",
    "    if num == 2 or num == 6:\n",
    "        c4.append(num)\n",
    "print(c1)\n",
    "print(c2)\n",
    "print(c3)\n",
    "print(c4)\n",
    "        \n",
    "large_inds = []\n",
    "large_nums = []\n",
    "for ind,num in enumerate(rnd_nums):\n",
    "    if num >= 7:\n",
    "        large_nums.append(num)\n",
    "        large_inds.append(ind)\n",
    "print(large_nums)\n",
    "print(large_inds)\n",
    "\n"
   ]
  },
  {
   "cell_type": "markdown",
   "id": "ff7c277d",
   "metadata": {},
   "source": [
    "### 3.5) Functions ###\n",
    "Eliminate repition of code!"
   ]
  },
  {
   "cell_type": "code",
   "execution_count": 4,
   "id": "7f370c3b",
   "metadata": {},
   "outputs": [
    {
     "name": "stdout",
     "output_type": "stream",
     "text": [
      "4\n",
      "13\n",
      "10\n"
     ]
    },
    {
     "ename": "NameError",
     "evalue": "name 'rnd_nums' is not defined",
     "output_type": "error",
     "traceback": [
      "\u001b[0;31m---------------------------------------------------------------------------\u001b[0m",
      "\u001b[0;31mNameError\u001b[0m                                 Traceback (most recent call last)",
      "Input \u001b[0;32mIn [4]\u001b[0m, in \u001b[0;36m<cell line: 25>\u001b[0;34m()\u001b[0m\n\u001b[1;32m     19\u001b[0m     \u001b[38;5;28;01mreturn\u001b[39;00m count\n\u001b[1;32m     21\u001b[0m \u001b[38;5;66;03m#N = 10\u001b[39;00m\n\u001b[1;32m     22\u001b[0m \u001b[38;5;66;03m#np.random.seed(1234)\u001b[39;00m\n\u001b[1;32m     23\u001b[0m \u001b[38;5;66;03m#rnd_nums = np.random.randint(N, size=20)\u001b[39;00m\n\u001b[0;32m---> 25\u001b[0m \u001b[38;5;28mprint\u001b[39m(\u001b[43mrnd_nums\u001b[49m)\n\u001b[1;32m     26\u001b[0m n3 \u001b[38;5;241m=\u001b[39m count_Ns(rnd_nums,\u001b[38;5;241m3\u001b[39m)\n\u001b[1;32m     27\u001b[0m \u001b[38;5;28mprint\u001b[39m(n3)\n",
      "\u001b[0;31mNameError\u001b[0m: name 'rnd_nums' is not defined"
     ]
    }
   ],
   "source": [
    "def threeXplus1 ( x ):\n",
    "    return 3 * x + 1\n",
    "print(threeXplus1(1))\n",
    "print(threeXplus1(4))\n",
    "n = 3\n",
    "print(threeXplus1(n))\n",
    "\n",
    "# Function to count occurances of a number\n",
    "# Arguments:\n",
    "#   nums (list): List of numbers\n",
    "#   N (int): The number to count occurances of\n",
    "# Returns:\n",
    "#   (int) Occurance count\n",
    "def count_Ns ( nums, N ):\n",
    "    count = 0\n",
    "    for n in nums:\n",
    "        if n == N:\n",
    "            count += 1\n",
    "    return count\n",
    "\n",
    "#N = 10\n",
    "#np.random.seed(1234)\n",
    "#rnd_nums = np.random.randint(N, size=20)\n",
    "\n",
    "print(rnd_nums)\n",
    "n3 = count_Ns(rnd_nums,3)\n",
    "print(n3)\n",
    "print('N | count')\n",
    "for i in range(N):\n",
    "    print(i, '|', count_Ns(rnd_nums, i))"
   ]
  },
  {
   "cell_type": "markdown",
   "id": "09fd6f30",
   "metadata": {},
   "source": [
    "### 3.6) Dictionaries ###\n",
    "Simple storage and fast lookups<br/>\n",
    "{key : value} pairs"
   ]
  },
  {
   "cell_type": "code",
   "execution_count": 149,
   "id": "ef87207b",
   "metadata": {},
   "outputs": [
    {
     "name": "stdout",
     "output_type": "stream",
     "text": [
      "{'key1': 10}\n",
      "10\n",
      "{'key1': 10, 'key2': -1}\n",
      "Its here\n",
      "{'key2': -1}\n",
      "key1 is not here\n",
      "key2 is here\n"
     ]
    }
   ],
   "source": [
    "mydict = { 'key1':10 }\n",
    "print(mydict)\n",
    "print(mydict['key1'])\n",
    "\n",
    "mydict['key2'] = -1\n",
    "print(mydict)\n",
    "\n",
    "if 'key1' in mydict:\n",
    "    print('Its here')\n",
    "\n",
    "del mydict['key1']\n",
    "print(mydict)\n",
    "\n",
    "if 'key1' in mydict:\n",
    "    print('Its here')\n",
    "\n",
    "def check_for_key ( dct, key ):\n",
    "    if key in dct:\n",
    "        print(key, 'is here')\n",
    "    else:\n",
    "        print(key, 'is not here')\n",
    "\n",
    "check_for_key(mydict, 'key1')\n",
    "check_for_key(mydict, 'key2')"
   ]
  },
  {
   "cell_type": "code",
   "execution_count": 100,
   "id": "fab00d8e",
   "metadata": {},
   "outputs": [
    {
     "name": "stdout",
     "output_type": "stream",
     "text": [
      "{3: 1, 6: 3, 5: 3, 4: 1, 8: 2, 9: 3, 1: 1, 7: 1, 0: 3, 2: 2}\n",
      "0 | 3\n",
      "1 | 1\n",
      "2 | 2\n",
      "3 | 1\n",
      "4 | 1\n",
      "5 | 3\n",
      "6 | 3\n",
      "7 | 1\n",
      "8 | 2\n",
      "9 | 3\n"
     ]
    }
   ],
   "source": [
    "def count_all ( nums ):\n",
    "    count = {}\n",
    "    for n in nums:\n",
    "        if n not in count:\n",
    "            count[n] = 0\n",
    "        count[n] += 1\n",
    "    return count\n",
    "\n",
    "cnt_dict = count_all(rnd_nums)\n",
    "print(cnt_dict)\n",
    "for i in range(N):\n",
    "    print(i, '|', cnt_dict[i])"
   ]
  },
  {
   "cell_type": "markdown",
   "id": "83393a4f",
   "metadata": {},
   "source": [
    "### 3.4) Nested Loops (Bubble Sort) ###\n",
    "Sorting a list the trivial way<br/>\n",
    "[<span style=\"color:blue\">9</span>,5,7,4,1] -> [5,<span style=\"color:red\">7</span>,4,1,<span style=\"color:blue\">9</span>] -> [<span style=\"color:green\">5</span>,4,1,<span style=\"color:red\">7</span>,9] -> [<span style=\"color:blue\">4</span>,1,<span style=\"color:green\">5</span>,7,9] -> [1,<span style=\"color:blue\">4</span>,5,7,9]"
   ]
  },
  {
   "cell_type": "code",
   "execution_count": 102,
   "id": "d555d466",
   "metadata": {},
   "outputs": [
    {
     "name": "stdout",
     "output_type": "stream",
     "text": [
      "[0 0 0 1 2 2 3 4 5 5 5 6 6 6 7 8 8 9 9 9]\n"
     ]
    }
   ],
   "source": [
    "\n",
    "for i in range(rnd_nums.shape[0]-1):\n",
    "    for j in range(i+1, rnd_nums.shape[0]):\n",
    "        if rnd_nums[i] > rnd_nums[j]:\n",
    "            rnd_nums[i],rnd_nums[j] = rnd_nums[j],rnd_nums[i]\n",
    "print(rnd_nums)"
   ]
  },
  {
   "cell_type": "code",
   "execution_count": null,
   "id": "80a93e44",
   "metadata": {},
   "outputs": [],
   "source": []
  }
 ],
 "metadata": {
  "kernelspec": {
   "display_name": "Python 3 (ipykernel)",
   "language": "python",
   "name": "python3"
  },
  "language_info": {
   "codemirror_mode": {
    "name": "ipython",
    "version": 3
   },
   "file_extension": ".py",
   "mimetype": "text/x-python",
   "name": "python",
   "nbconvert_exporter": "python",
   "pygments_lexer": "ipython3",
   "version": "3.9.12"
  }
 },
 "nbformat": 4,
 "nbformat_minor": 5
}
