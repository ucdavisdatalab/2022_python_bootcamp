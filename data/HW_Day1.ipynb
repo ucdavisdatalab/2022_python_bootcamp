{
  "cells": [
    {
      "cell_type": "markdown",
      "source": [
        "## Exercise 1"
      ],
      "metadata": {
        "id": "Qlh0OlGrOOFd"
      },
      "id": "Qlh0OlGrOOFd"
    },
    {
      "cell_type": "code",
      "source": [
        "def perform_operation(input_string):\n",
        "    # Split the input string into words\n",
        "    words = input_string.split()\n",
        "\n",
        "    if len(words) != 4:\n",
        "        return \"Invalid input format\"\n",
        "\n",
        "    operation = words[0].lower()\n",
        "    num1 = words[1]\n",
        "    num2 = words[3]\n",
        "\n",
        "    try:\n",
        "        num1 = float(num1)\n",
        "        num2 = float(num2)\n",
        "    except ValueError: #if values in given string are not floats or integers\n",
        "        return \"Invalid numbers\"\n",
        "\n",
        "    if operation == \"multiply\":\n",
        "        result = num1 * num2\n",
        "\n",
        "    elif operation == \"divide\":\n",
        "        result = num1 / num2\n",
        "\n",
        "\n",
        "\n",
        "    elif operation == \"subtract\":\n",
        "        result = num1 - num2\n",
        "\n",
        "    elif operation == \"add\":\n",
        "        result = num1 + num2\n",
        "\n",
        "\n",
        "    else: #if operand is not + * / -\n",
        "        return \"Unsupported operation\"\n",
        "\n",
        "    return result\n",
        "\n",
        "# Example usage:\n",
        "input_string = \"multiply 1 * 2\"\n",
        "result = perform_operation(input_string)\n",
        "print(f\"Result of {input_string} = {result}\")\n",
        "\n",
        "input_string = \"add 1 + 2\"\n",
        "result = perform_operation(input_string)\n",
        "print(f\"Result of {input_string} = {result}\")"
      ],
      "metadata": {
        "id": "Tnln5jflOLJA",
        "outputId": "413121fd-e219-4e66-f968-8b253245a8a3",
        "colab": {
          "base_uri": "https://localhost:8080/"
        }
      },
      "id": "Tnln5jflOLJA",
      "execution_count": 2,
      "outputs": [
        {
          "output_type": "stream",
          "name": "stdout",
          "text": [
            "Result of multiply 1 * 2 = 2.0\n",
            "Result of add 1 + 2 = 3.0\n"
          ]
        }
      ]
    },
    {
      "cell_type": "markdown",
      "source": [
        "## Exercise 2"
      ],
      "metadata": {
        "id": "TQdOOdaCPxVl"
      },
      "id": "TQdOOdaCPxVl"
    },
    {
      "cell_type": "code",
      "execution_count": null,
      "id": "34b1ed3f",
      "metadata": {
        "colab": {
          "base_uri": "https://localhost:8080/"
        },
        "id": "34b1ed3f",
        "outputId": "b0adb6ba-70a1-4aaa-853b-bc6df2b8cd9f"
      },
      "outputs": [
        {
          "output_type": "stream",
          "name": "stdout",
          "text": [
            "3.14208\n"
          ]
        }
      ],
      "source": [
        "import numpy as np\n",
        "\n",
        "# This solution is integrated only in quadrant 1 (0 <= x,y <= 1)\n",
        "# The circle is centered at the origin (0,0) and has radius 1\n",
        "\n",
        "N = 100000  # Increase N for a better approximation\n",
        "inside = 0  # Count how many points land inside circle\n",
        "rnd = np.random.rand(N, 2)  # Generate random numbers\n",
        "for r in rnd:\n",
        "    if r[0]**2 + r[1]**2 <= 1: #conditional that determines if the solution is in quadrant 1\n",
        "        inside += 1\n",
        "\n",
        "apprx_pi = 4 * inside / N\n",
        "print(apprx_pi) #Prints the resulting value"
      ]
    },
    {
      "cell_type": "code",
      "source": [],
      "metadata": {
        "id": "RTWbDa8iHdfy"
      },
      "id": "RTWbDa8iHdfy",
      "execution_count": null,
      "outputs": []
    }
  ],
  "metadata": {
    "kernelspec": {
      "display_name": "Python 3 (ipykernel)",
      "language": "python",
      "name": "python3"
    },
    "language_info": {
      "codemirror_mode": {
        "name": "ipython",
        "version": 3
      },
      "file_extension": ".py",
      "mimetype": "text/x-python",
      "name": "python",
      "nbconvert_exporter": "python",
      "pygments_lexer": "ipython3",
      "version": "3.9.12"
    },
    "colab": {
      "provenance": []
    }
  },
  "nbformat": 4,
  "nbformat_minor": 5
}