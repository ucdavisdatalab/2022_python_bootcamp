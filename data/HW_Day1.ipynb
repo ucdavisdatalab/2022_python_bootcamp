{
  "cells": [
    {
      "cell_type": "markdown",
      "source": [
        "## Exercise 1"
      ],
      "metadata": {
        "id": "Qlh0OlGrOOFd"
      },
      "id": "Qlh0OlGrOOFd"
    },
    {
      "cell_type": "code",
      "source": [
        "#Here we define the addition function and return the corresponding value when the two user\n",
        "#input variables are added together\n",
        "def addition(x, y):\n",
        "  return x+y\n",
        "\n",
        "#Here we define the subtraction function and return the corresponding value when the two user\n",
        "#input variables are subtracted from one another\n",
        "def subtraction(x, y):\n",
        "  return x-y\n",
        "\n",
        "#Here we define the multiplication function and return the corresponding value when the two user\n",
        "#input variables are multiplied by one another\n",
        "def multiplication(x,y):\n",
        "  return x*y\n",
        "\n",
        "#Here we define the division function and return the corresponding value when the two user\n",
        "#input variables are divided by one another\n",
        "def division(x,y):\n",
        "  return x/y\n",
        "\n",
        "#Here we define the exponential function and return the corresponding value with the two user defined input values\n",
        "def exponent(x,y):\n",
        "  return x**y\n",
        "\n",
        "#Here we print out a string detailing the result of the given function we call for the\n",
        "#respective values we input. In the same print function we actually call the desired function and\n",
        "#print out its result\n",
        "\n",
        "print('The value of 1 + 2 =', addition(1,2))\n",
        "print('The value of 1 - 2 =', subtraction(1,2))\n",
        "print('The value of 1 * 2 =', multiplication(1,2))\n",
        "print('The value of 1 / 2 =', division(1,2))\n",
        "print('The value of 1 to the power of 2 =', exponent(1,2))"
      ],
      "metadata": {
        "id": "Tnln5jflOLJA",
        "outputId": "2cd0be30-a6ae-4bd0-c9ab-c9b5b4ea4ea3",
        "colab": {
          "base_uri": "https://localhost:8080/"
        }
      },
      "id": "Tnln5jflOLJA",
      "execution_count": null,
      "outputs": [
        {
          "output_type": "stream",
          "name": "stdout",
          "text": [
            "The value of 1 + 2 = 3\n",
            "The value of 1 - 2 = -1\n",
            "The value of 1 * 2 = 2\n",
            "The value of 1 / 2 = 0.5\n",
            "The value of 1 to the power of 2 = 1\n"
          ]
        }
      ]
    },
    {
      "cell_type": "markdown",
      "source": [
        "## Exercise 2"
      ],
      "metadata": {
        "id": "TQdOOdaCPxVl"
      },
      "id": "TQdOOdaCPxVl"
    },
    {
      "cell_type": "code",
      "execution_count": null,
      "id": "34b1ed3f",
      "metadata": {
        "colab": {
          "base_uri": "https://localhost:8080/"
        },
        "id": "34b1ed3f",
        "outputId": "b0adb6ba-70a1-4aaa-853b-bc6df2b8cd9f"
      },
      "outputs": [
        {
          "output_type": "stream",
          "name": "stdout",
          "text": [
            "3.14208\n"
          ]
        }
      ],
      "source": [
        "import numpy as np\n",
        "\n",
        "# This solution is integrated only in quadrant 1 (0 <= x,y <= 1)\n",
        "# The circle is centered at the origin (0,0) and has radius 1\n",
        "\n",
        "N = 100000  # Increase N for a better approximation\n",
        "inside = 0  # Count how many points land inside circle\n",
        "rnd = np.random.rand(N, 2)  # Generate random numbers\n",
        "for r in rnd:\n",
        "    if r[0]**2 + r[1]**2 <= 1: #conditional that determines if the solution is in quadrant 1\n",
        "        inside += 1\n",
        "\n",
        "apprx_pi = 4 * inside / N\n",
        "print(apprx_pi) #Prints the resulting value"
      ]
    },
    {
      "cell_type": "code",
      "source": [],
      "metadata": {
        "id": "RTWbDa8iHdfy"
      },
      "id": "RTWbDa8iHdfy",
      "execution_count": null,
      "outputs": []
    }
  ],
  "metadata": {
    "kernelspec": {
      "display_name": "Python 3 (ipykernel)",
      "language": "python",
      "name": "python3"
    },
    "language_info": {
      "codemirror_mode": {
        "name": "ipython",
        "version": 3
      },
      "file_extension": ".py",
      "mimetype": "text/x-python",
      "name": "python",
      "nbconvert_exporter": "python",
      "pygments_lexer": "ipython3",
      "version": "3.9.12"
    },
    "colab": {
      "provenance": []
    }
  },
  "nbformat": 4,
  "nbformat_minor": 5
}