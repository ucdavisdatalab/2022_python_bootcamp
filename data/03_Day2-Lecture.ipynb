{
  "nbformat": 4,
  "nbformat_minor": 0,
  "metadata": {
    "colab": {
      "provenance": []
    },
    "kernelspec": {
      "name": "python3",
      "display_name": "Python 3"
    },
    "language_info": {
      "name": "python"
    }
  },
  "cells": [
    {
      "cell_type": "markdown",
      "metadata": {
        "id": "VK_tufae8o6U"
      },
      "source": [
        "# **Day 2**\n"
      ]
    },
    {
      "cell_type": "code",
      "metadata": {
        "id": "6D8hJbi0DHy3"
      },
      "source": [
        "import numpy as np\n",
        "import matplotlib.pyplot as plt"
      ],
      "execution_count": null,
      "outputs": []
    },
    {
      "cell_type": "markdown",
      "metadata": {
        "id": "NuNXUgOk8rR1"
      },
      "source": [
        "## More Indexing\n",
        "\n",
        "As we discussed in Day 1, you can access a specific values in a list by calling it's index."
      ]
    },
    {
      "cell_type": "code",
      "metadata": {
        "colab": {
          "base_uri": "https://localhost:8080/"
        },
        "id": "Ya4BF_r0-jjS",
        "outputId": "023eab2f-23d9-41e8-8a3d-793b36e995b6"
      },
      "source": [
        "months = ['jan','feb','march','april','may','june','july','aug','sep','oct','nov','dec']\n",
        "print(months[6])"
      ],
      "execution_count": null,
      "outputs": [
        {
          "output_type": "stream",
          "name": "stdout",
          "text": [
            "july\n"
          ]
        }
      ]
    },
    {
      "cell_type": "markdown",
      "metadata": {
        "id": "QWU9dr23_Reu"
      },
      "source": [
        "Remember, Python starts indexing at 0. Even though to us, `july` is the seventh element in that list, it has index `6`.\n",
        "\n",
        "So what if we want to access all of the summer months instead of just one element? According to our indexing that would elements 5-7 (June, July and August). To access multiple elements of a list we will want to use a colon `:`."
      ]
    },
    {
      "cell_type": "code",
      "metadata": {
        "colab": {
          "base_uri": "https://localhost:8080/"
        },
        "id": "wynypQ-DAOW8",
        "outputId": "9933e749-db8b-420b-cd72-03597059e09d"
      },
      "source": [
        "summer = months[5:7]\n",
        "print(summer)"
      ],
      "execution_count": null,
      "outputs": [
        {
          "output_type": "stream",
          "name": "stdout",
          "text": [
            "['june', 'july']\n"
          ]
        }
      ]
    },
    {
      "cell_type": "markdown",
      "metadata": {
        "id": "yX6QtJ8LAVKR"
      },
      "source": [
        "That seems off, but this is how Python operates. Whenever you are indexing, the number before the colon is where Python will start, and the number after the colon is where Python will stop, without including it. To include `aug`, we should index as follow:"
      ]
    },
    {
      "cell_type": "code",
      "metadata": {
        "colab": {
          "base_uri": "https://localhost:8080/"
        },
        "id": "n3DFeluiAtXX",
        "outputId": "0a0b25e8-1121-45f4-90c1-f857105a425d"
      },
      "source": [
        "summer = months[5:8]\n",
        "#this will include elements 5 up to but not including 8\n",
        "print(summer)"
      ],
      "execution_count": null,
      "outputs": [
        {
          "output_type": "stream",
          "name": "stdout",
          "text": [
            "['june', 'july', 'aug']\n"
          ]
        }
      ]
    },
    {
      "cell_type": "markdown",
      "metadata": {
        "id": "zc-3bs5iLxMu"
      },
      "source": [
        "If a colon doesn't have a number on one side, that means go to the end of the list in either direction"
      ]
    },
    {
      "cell_type": "code",
      "metadata": {
        "colab": {
          "base_uri": "https://localhost:8080/"
        },
        "id": "Yh883PXCL6dF",
        "outputId": "019e5e0f-bcfb-4e0c-abfb-ed843a13d474"
      },
      "source": [
        "print(months[:5])\n",
        "print(months[5:])"
      ],
      "execution_count": null,
      "outputs": [
        {
          "output_type": "stream",
          "name": "stdout",
          "text": [
            "['jan', 'feb', 'march', 'april', 'may']\n",
            "['june', 'july', 'aug', 'sep', 'oct', 'nov', 'dec']\n"
          ]
        }
      ]
    },
    {
      "cell_type": "markdown",
      "metadata": {
        "id": "-bmxuUw7BKom"
      },
      "source": [
        "We can also use negative indices. If `0` is the first element, `-1` is the last element, and indices keep decreasing as you go backward down the list:"
      ]
    },
    {
      "cell_type": "code",
      "metadata": {
        "colab": {
          "base_uri": "https://localhost:8080/"
        },
        "id": "OopK4t9rBeIs",
        "outputId": "473af872-9e26-45d3-d2a1-eb723ce63624"
      },
      "source": [
        "print(months[-1])\n",
        "print(months[-2])\n",
        "print(months[-3])"
      ],
      "execution_count": null,
      "outputs": [
        {
          "output_type": "stream",
          "name": "stdout",
          "text": [
            "dec\n",
            "nov\n",
            "oct\n"
          ]
        }
      ]
    },
    {
      "cell_type": "markdown",
      "metadata": {
        "id": "sITuiCtQBqfa"
      },
      "source": [
        "Negative indices can be used in conjunction with `:` as well."
      ]
    },
    {
      "cell_type": "code",
      "metadata": {
        "colab": {
          "base_uri": "https://localhost:8080/"
        },
        "id": "Qj4yeQSWBqOX",
        "outputId": "d3e4f243-79b2-4e5e-e3ea-a38b5fbce2cc"
      },
      "source": [
        "print(months[-6:-2])\n",
        "#Remember that months[-2] is 'nov' and is not included since Python stops at November."
      ],
      "execution_count": null,
      "outputs": [
        {
          "output_type": "stream",
          "name": "stdout",
          "text": [
            "['july', 'aug', 'sep', 'oct']\n"
          ]
        }
      ]
    },
    {
      "cell_type": "code",
      "metadata": {
        "colab": {
          "base_uri": "https://localhost:8080/"
        },
        "id": "v2lgATkVCMAL",
        "outputId": "a3d7d687-a9ae-4d99-df4e-a4e4d3455860"
      },
      "source": [
        "print(months[3:-2])"
      ],
      "execution_count": null,
      "outputs": [
        {
          "output_type": "stream",
          "name": "stdout",
          "text": [
            "['april', 'may', 'june', 'july', 'aug', 'sep', 'oct']\n"
          ]
        }
      ]
    },
    {
      "cell_type": "markdown",
      "metadata": {
        "id": "CWhbO6RKCtwK"
      },
      "source": [
        "## Arrays\n",
        "Day 1 we briefly mentioned arrays. Today we will see that arrays are more versatile than lists, particularly for data and mathematical purposes. To start, we need NumPy imporoted to create an array. Any list can be turned into an array as follows:"
      ]
    },
    {
      "cell_type": "code",
      "metadata": {
        "colab": {
          "base_uri": "https://localhost:8080/"
        },
        "id": "ghGTqQPsDZcL",
        "outputId": "135d151b-a120-4a68-f157-373440179b42"
      },
      "source": [
        "mylist = [3, 25, 6, 3, 73, 3]\n",
        "myarray = np.array(mylist)\n",
        "print(myarray)\n",
        "print(myarray[3])"
      ],
      "execution_count": null,
      "outputs": [
        {
          "output_type": "stream",
          "name": "stdout",
          "text": [
            "[ 3 25  6  3 73  3]\n",
            "3\n"
          ]
        }
      ]
    },
    {
      "cell_type": "markdown",
      "metadata": {
        "id": "APwYnX6lJRKm"
      },
      "source": [
        "Arrays are particulalry useful for storing 2-dimensional data structures. Let's use this matrix here for example. We can\n",
        "represent is as lists within lists or as an array:\n"
      ]
    },
    {
      "cell_type": "code",
      "metadata": {
        "colab": {
          "base_uri": "https://localhost:8080/"
        },
        "id": "vUEG9v7kJ0op",
        "outputId": "7ac8023b-ddb9-4083-f647-7a2ebf47bfa3"
      },
      "source": [
        "matrixa = [[1,2,3],[4,5,6],[7,8,9]]\n",
        "print(matrixa)\n",
        "\n",
        "matrixb = np.array(matrixa)\n",
        "print(matrixb)\n",
        "\n"
      ],
      "execution_count": null,
      "outputs": [
        {
          "output_type": "stream",
          "name": "stdout",
          "text": [
            "[[1, 2, 3], [4, 5, 6], [7, 8, 9]]\n",
            "[[1 2 3]\n",
            " [4 5 6]\n",
            " [7 8 9]]\n"
          ]
        }
      ]
    },
    {
      "cell_type": "markdown",
      "metadata": {
        "id": "koNV6gcjKmo0"
      },
      "source": [
        "The indexing from these matrices will be different for the array and list. Becuase the small lists inside the larger list are considered a separate object, they require two indices. The array however, just needs one index that contains all of the dimensions:"
      ]
    },
    {
      "cell_type": "code",
      "metadata": {
        "colab": {
          "base_uri": "https://localhost:8080/"
        },
        "id": "CO5YmmRWLHlW",
        "outputId": "5c7f33ff-cd56-46a7-e078-53a9b6ffc851"
      },
      "source": [
        "centera = matrixa[1][1]\n",
        "centerb = matrixb[1, 1]\n",
        "print(centera)\n",
        "print(centerb)"
      ],
      "execution_count": null,
      "outputs": [
        {
          "output_type": "stream",
          "name": "stdout",
          "text": [
            "5\n",
            "5\n"
          ]
        }
      ]
    },
    {
      "cell_type": "markdown",
      "metadata": {
        "id": "df7DK5VJLSlO"
      },
      "source": [
        "For lists this becomes more limiting if we want to isolate a column or subsection of the matrix instead of just a row. For example, if we want to isolate only the top right square of the martix (including 2, 3, 5 and 6) for an array we would use this:\n"
      ]
    },
    {
      "cell_type": "code",
      "metadata": {
        "colab": {
          "base_uri": "https://localhost:8080/"
        },
        "id": "-6rcR4L6LqPM",
        "outputId": "87f2523c-9a8c-426b-e71f-5c36bf572828"
      },
      "source": [
        "print(matrixa[1])\n",
        "print(matrixb[1])\n",
        "\n",
        "\n",
        "print(matrixb[:,1])\n",
        "\n",
        "matrixc = matrixb[:2,1:]\n",
        "print(matrixc)\n",
        "\n",
        "print(matrixa[:2][1:])"
      ],
      "execution_count": null,
      "outputs": [
        {
          "output_type": "stream",
          "name": "stdout",
          "text": [
            "[4, 5, 6]\n",
            "[4 5 6]\n",
            "[2 5 8]\n",
            "[[2 3]\n",
            " [5 6]]\n",
            "[[4, 5, 6]]\n"
          ]
        }
      ]
    },
    {
      "cell_type": "markdown",
      "metadata": {
        "id": "HKwZ2blnEWEz"
      },
      "source": [
        "Perhaps the most useful quality of arrays is that they are much firendlier to math. In Day1, to do math with a list, we had to iterate over each element with a for loop to perform operations. With arrays, we can operate direclty onto them."
      ]
    },
    {
      "cell_type": "code",
      "metadata": {
        "colab": {
          "base_uri": "https://localhost:8080/"
        },
        "id": "RtlnPJIfEku6",
        "outputId": "4456e829-bfa6-42ae-b2e8-64641afa33cb"
      },
      "source": [
        "array1 = np.array([1,2,3,4,5,6,7,8])\n",
        "array2 = np.array([2,2,2,2,2,2,2,2])\n",
        "\n",
        "print(array1 + 3)\n",
        "print(array1 * 3)\n",
        "print(array1**2)\n",
        "print(array1 + array2)\n",
        "print(array1*array2)"
      ],
      "execution_count": null,
      "outputs": [
        {
          "output_type": "stream",
          "name": "stdout",
          "text": [
            "[ 4  5  6  7  8  9 10 11]\n",
            "[ 3  6  9 12 15 18 21 24]\n",
            "[ 1  4  9 16 25 36 49 64]\n",
            "[ 3  4  5  6  7  8  9 10]\n",
            "[ 2  4  6  8 10 12 14 16]\n"
          ]
        }
      ]
    },
    {
      "cell_type": "markdown",
      "metadata": {
        "id": "mEZSfTUg2Vv_"
      },
      "source": [
        "However, we have to make sure the dimensions of the arrays match if we operate two together!\n",
        "\n"
      ]
    },
    {
      "cell_type": "code",
      "metadata": {
        "colab": {
          "base_uri": "https://localhost:8080/",
          "height": 198
        },
        "id": "KYvZQ70YFFyp",
        "outputId": "df8ba49e-44a2-42eb-87d3-95da18d7d2c3"
      },
      "source": [
        "array3 = np.array([3,2,5,4,4])\n",
        "\n",
        "print(array3 + array1)"
      ],
      "execution_count": null,
      "outputs": [
        {
          "output_type": "error",
          "ename": "ValueError",
          "evalue": "ignored",
          "traceback": [
            "\u001b[0;31m---------------------------------------------------------------------------\u001b[0m",
            "\u001b[0;31mValueError\u001b[0m                                Traceback (most recent call last)",
            "\u001b[0;32m<ipython-input-43-96c072ca3237>\u001b[0m in \u001b[0;36m<module>\u001b[0;34m()\u001b[0m\n\u001b[1;32m      1\u001b[0m \u001b[0marray3\u001b[0m \u001b[0;34m=\u001b[0m \u001b[0mnp\u001b[0m\u001b[0;34m.\u001b[0m\u001b[0marray\u001b[0m\u001b[0;34m(\u001b[0m\u001b[0;34m[\u001b[0m\u001b[0;36m3\u001b[0m\u001b[0;34m,\u001b[0m\u001b[0;36m2\u001b[0m\u001b[0;34m,\u001b[0m\u001b[0;36m5\u001b[0m\u001b[0;34m,\u001b[0m\u001b[0;36m4\u001b[0m\u001b[0;34m,\u001b[0m\u001b[0;36m4\u001b[0m\u001b[0;34m]\u001b[0m\u001b[0;34m)\u001b[0m\u001b[0;34m\u001b[0m\u001b[0;34m\u001b[0m\u001b[0m\n\u001b[1;32m      2\u001b[0m \u001b[0;34m\u001b[0m\u001b[0m\n\u001b[0;32m----> 3\u001b[0;31m \u001b[0mprint\u001b[0m\u001b[0;34m(\u001b[0m\u001b[0marray3\u001b[0m \u001b[0;34m+\u001b[0m \u001b[0marray1\u001b[0m\u001b[0;34m)\u001b[0m\u001b[0;34m\u001b[0m\u001b[0;34m\u001b[0m\u001b[0m\n\u001b[0m",
            "\u001b[0;31mValueError\u001b[0m: operands could not be broadcast together with shapes (5,) (8,) "
          ]
        }
      ]
    },
    {
      "cell_type": "markdown",
      "metadata": {
        "id": "YhaTklUD8rWy"
      },
      "source": [
        "## Conditionals\n",
        "So now we know how to store and manage data, but what about acting on the data? There are lost of libraries and packages that can analyze data, but a very basic way built-in Python can be useful as well. These are conditionals and do exactly as you would expect. They set a condition that must be meet in order to proceed:\n",
        "\n",
        "\n",
        "\n"
      ]
    },
    {
      "cell_type": "code",
      "metadata": {
        "id": "kSZojZ8ZCkxD",
        "colab": {
          "base_uri": "https://localhost:8080/"
        },
        "outputId": "910e033e-2aa2-4df0-e4a4-b4ce85246210"
      },
      "source": [
        "randomarray = np.array([2,7,3,6,8,3,5,4,4,1])\n",
        "\n",
        "small = []\n",
        "large = []\n",
        "#Loop over every value in this array:\n",
        "for i in randomarray:\n",
        "  #Check if the value is equal to or greater than for.\n",
        "  if i >= 4:\n",
        "    large.append(i)\n",
        "  else:\n",
        "    small.append(i)\n",
        "\n",
        "print(small)\n",
        "\n",
        "\n",
        "#Other basic conditions:\n",
        "#if i != 4:    This checks if i is not equal to 4\n",
        "#if i == 4:   This checks if i IS equal to 4\n",
        "#if i < 4:    This checks if i i less than 4\n",
        "\n",
        "#It is also possible to set multiple conditions in one line with \"or\" and \"and\"\n",
        "\n",
        "#EG) if i < 4 or i >8\n",
        "#This will check if i is either less than 4 or greater than 8.\n"
      ],
      "execution_count": null,
      "outputs": [
        {
          "output_type": "stream",
          "name": "stdout",
          "text": [
            "[2, 3, 3, 1]\n"
          ]
        }
      ]
    },
    {
      "cell_type": "markdown",
      "metadata": {
        "id": "NqkBg3EBFcLA"
      },
      "source": [
        "## Nested Loops (Time permitting)\n",
        "\n",
        "Putting loops inside of loops an be useful if needing to index over a multidimensional array. For the matrix below, let's write code tells us how many values are negative.\n"
      ]
    },
    {
      "cell_type": "code",
      "metadata": {
        "colab": {
          "base_uri": "https://localhost:8080/"
        },
        "id": "d2uRWhcPFhbD",
        "outputId": "c38eeecf-33fc-4e42-fb4b-6df1790c88b5"
      },
      "source": [
        "example = np.array([[-1,23,-5,1],[12,-3,1,4],[12,-3,5,-7]])\n",
        "#for i in example:\n",
        "#  print(i)\n",
        "\n",
        "negative_total = 0\n",
        "# How many of the values in this matrix are positive?\n",
        "#The first for loop will loop over every row of the array. If we print out I we can see that\n",
        "for i in example:\n",
        "  print(i)\n",
        "  #This nested for loop will loop over each element in every row. If we print j it's more clear what's going on\n",
        "  for j in i:\n",
        "    print(j)\n",
        "    #Check if the number we're iterating on is less than 0.\n",
        "    if j < 0:\n",
        "      #Add 1 tally to our neagtive count\n",
        "      negative_total += 1\n",
        "    else:\n",
        "      #continue will have the code move onto the next portion of the loop\n",
        "      continue\n",
        "\n",
        "print('number of negative numbers = ',negative_total)"
      ],
      "execution_count": null,
      "outputs": [
        {
          "output_type": "stream",
          "name": "stdout",
          "text": [
            "[-1 23 -5  1]\n",
            "-1\n",
            "23\n",
            "-5\n",
            "1\n",
            "[12 -3  1  4]\n",
            "12\n",
            "-3\n",
            "1\n",
            "4\n",
            "[12 -3  5 -7]\n",
            "12\n",
            "-3\n",
            "5\n",
            "-7\n",
            "number of negative numbers =  5\n"
          ]
        }
      ]
    },
    {
      "cell_type": "markdown",
      "metadata": {
        "id": "OX_eaqmx8raW"
      },
      "source": [
        "## Writing Functions\n",
        "\n",
        "In many STEM fields it will often be necessary to write your own mathematical functions in Python for mass-scale calculations. Python makes this easy to do. First you have to define your function, have it return a value, and then call your function later:"
      ]
    },
    {
      "cell_type": "code",
      "metadata": {
        "colab": {
          "base_uri": "https://localhost:8080/"
        },
        "id": "DcUP6XGvHGEb",
        "outputId": "ac13c022-8577-4727-d53c-be9eee2c5a65"
      },
      "source": [
        "def pythag(x, y):\n",
        "  z = (x**2 + y**2)**(0.5)\n",
        "  return z\n",
        "\n",
        "answer = pythag(3, 4)\n",
        "print(answer)\n",
        "print(pythag(15, 21))"
      ],
      "execution_count": null,
      "outputs": [
        {
          "output_type": "stream",
          "name": "stdout",
          "text": [
            "5.0\n",
            "25.80697580112788\n"
          ]
        }
      ]
    },
    {
      "cell_type": "markdown",
      "metadata": {
        "id": "gnROkDcmH-1k"
      },
      "source": [
        "Functions can also take in a whole list or array of values, understands to run each element through the array separately. It will return the values in either an array or list "
      ]
    },
    {
      "cell_type": "code",
      "metadata": {
        "colab": {
          "base_uri": "https://localhost:8080/"
        },
        "id": "ntsDC7iFHxgH",
        "outputId": "e07e785f-3851-4c24-a214-bac5c3f21b38"
      },
      "source": [
        "def myfunction(x):\n",
        "  return x**2 + 1\n",
        "\n",
        "randomarray = np.array([2,7,3,6,8,3,5,4,4,1])\n",
        "answers = myfunction(randomarray)\n",
        "print(answers)\n"
      ],
      "execution_count": null,
      "outputs": [
        {
          "output_type": "stream",
          "name": "stdout",
          "text": [
            "[ 5 50 10 37 65 10 26 17 17  2]\n"
          ]
        }
      ]
    },
    {
      "cell_type": "markdown",
      "metadata": {
        "id": "jA93HJiA8rfJ"
      },
      "source": [
        "## More Advanced Plotting\n",
        "\n",
        "Let's talk briefly about some other specifications you can do with your graph."
      ]
    },
    {
      "cell_type": "code",
      "metadata": {
        "colab": {
          "base_uri": "https://localhost:8080/",
          "height": 488
        },
        "id": "UGYGvuWtLJqz",
        "outputId": "2770fa20-ec96-4e2e-915e-0aa689815e40"
      },
      "source": [
        "import numpy as np\n",
        "import matplotlib.pyplot as plt\n",
        "\n",
        "#Importing the data from the file as we have before. See Yesterdays lecture for the explanations.\n",
        "year = []\n",
        "expenses = []\n",
        "profits = []\n",
        "\n",
        "with open('finances.txt','r') as infile:\n",
        "  \n",
        "  headers = infile.readline()\n",
        "  for line in infile:\n",
        "    data1, data2, data3 = line.split()\n",
        "    year.append(float(data1))\n",
        "    expenses.append(float(data2))\n",
        "    profits.append(float(data3))\n",
        "\n",
        "expenses = np.array(expenses)\n",
        "profits = np.array(profits)\n",
        "gross = profits - expenses\n",
        "\n",
        "#You can alter the dimensions of the figure with the plt.figure method. \n",
        "# See the documentation for plt.figure for other specifications you can do.\n",
        "plt.figure(figsize=(10,7))\n",
        "#We can plot multiple data sets on the same line by using multiple plt.plot commands.\n",
        "plt.plot(year, gross, label='Gross')\n",
        "plt.plot(year, profits, label='Profits')\n",
        "plt.plot(year, expenses, label = 'Expenses')\n",
        "#plt.xlim and plt.ylim can set the range that is displayed on the graph.\n",
        "#Put the bounds inside a tuple: (lowerbound, upperbound)\n",
        "plt.xlim((1990,2020))\n",
        "#Add a plot title with plt.title\n",
        "#Note that we have to put quotes around the title in order to turn it into a string\n",
        "#We can specify things like font size and location.\n",
        "plt.title('Gross Income over Time',fontsize=30, fontname=\"Comic Sans MS\")\n",
        "#xlabel and ylable add axis labels.\n",
        "plt.xlabel('Year')\n",
        "plt.ylabel('Gross Income')\n",
        "#If you have added labels to your plotted data in plt.plot, this command can add a legend.\n",
        "#The location of the legend can also be specified. Check out the documentation for details.\n",
        "plt.legend()\n",
        "plt.show()\n",
        "\n"
      ],
      "execution_count": null,
      "outputs": [
        {
          "output_type": "stream",
          "name": "stderr",
          "text": [
            "findfont: Font family ['Comic Sans MS'] not found. Falling back to DejaVu Sans.\n"
          ]
        },
        {
          "output_type": "display_data",
          "data": {
            "image/png": "[encoded data removed]",
            "text/plain": [
              "<Figure size 720x504 with 1 Axes>"
            ]
          },
          "metadata": {
            "needs_background": "light"
          }
        }
      ]
    }
  ]
}