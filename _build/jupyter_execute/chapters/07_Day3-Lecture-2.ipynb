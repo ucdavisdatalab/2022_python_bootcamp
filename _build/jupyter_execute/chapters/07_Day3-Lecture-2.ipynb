{
 "cells": [
  {
   "cell_type": "markdown",
   "id": "q3LkhJPJXf_I",
   "metadata": {
    "id": "q3LkhJPJXf_I"
   },
   "source": [
    "# **Day 3**"
   ]
  },
  {
   "cell_type": "markdown",
   "id": "SG-Ms-vcc-c8",
   "metadata": {
    "id": "SG-Ms-vcc-c8"
   },
   "source": [
    "## Goals/Anti-goals"
   ]
  },
  {
   "cell_type": "markdown",
   "id": "WILJ_TMKdDiP",
   "metadata": {
    "id": "WILJ_TMKdDiP"
   },
   "source": [
    "* **Goal**: Provide a tour of several different libraries\n",
    "* **Goal**: Demonstrate the synergy of the \"Python Universe\"\n",
    "* **Goal**: Demonstrate paradigm \"get idea then translate into code\"\n",
    "* **Goal**: Demonstrate paradigm \"write one line, test, then continue\"\n",
    "\n",
    "\n",
    "\n",
    "* **Anti-goal**: Teach specific functions and specific arguments\n",
    "* **Anti-goal**: Confuse you "
   ]
  },
  {
   "cell_type": "markdown",
   "id": "LVwWAoKU9Bej",
   "metadata": {
    "id": "LVwWAoKU9Bej"
   },
   "source": [
    "## Roadmap"
   ]
  },
  {
   "cell_type": "markdown",
   "id": "d14ee735",
   "metadata": {
    "id": "d14ee735"
   },
   "source": [
    "A) Obtain dataset from the internet\n",
    "\n",
    "B) Prepare dataset for analysis with *pandas*\n",
    "\n",
    "C) Cluster dataset with *sklearn*\n",
    "\n",
    "D) Dimensionality reduction with *UMAP*, visualization with *matplotlib*\n"
   ]
  },
  {
   "cell_type": "markdown",
   "id": "dxHfLKjM7uWB",
   "metadata": {
    "id": "dxHfLKjM7uWB"
   },
   "source": [
    "## A) Obtain dataset from the internet"
   ]
  },
  {
   "cell_type": "markdown",
   "id": "wwsNF_MA-Vgs",
   "metadata": {
    "id": "wwsNF_MA-Vgs"
   },
   "source": [
    "#### Description: "
   ]
  },
  {
   "cell_type": "markdown",
   "id": "ZgVpKfcx-Vt7",
   "metadata": {
    "id": "ZgVpKfcx-Vt7"
   },
   "source": [
    "* 23 species\n",
    "\n",
    "* Coincidentally 23 features (columns)\n",
    "\n",
    "* 8124 samples (rows)\n",
    "\n",
    "* 11th column has missing data\n"
   ]
  },
  {
   "cell_type": "markdown",
   "id": "LuKpVG-8-n1T",
   "metadata": {
    "id": "LuKpVG-8-n1T"
   },
   "source": [
    "#### Image of dataset:"
   ]
  },
  {
   "cell_type": "markdown",
   "id": "31974f1d",
   "metadata": {
    "id": "31974f1d"
   },
   "source": [
    "![alt text](../img/day_3_lecture_2_image_1.png \"Title\")"
   ]
  },
  {
   "cell_type": "markdown",
   "id": "4YawSXAA7yUr",
   "metadata": {
    "id": "4YawSXAA7yUr"
   },
   "source": [
    "## B) Prepare dataset for analysis using pandas"
   ]
  },
  {
   "cell_type": "markdown",
   "id": "NA5HYlwqAg7d",
   "metadata": {
    "id": "NA5HYlwqAg7d"
   },
   "source": [
    "* pandas \n",
    "* library in python\n",
    "* perfect for matrix-like data of mixed types (numbers, strings, etc.)"
   ]
  },
  {
   "cell_type": "markdown",
   "id": "Sqk9d-ArAgqt",
   "metadata": {
    "id": "Sqk9d-ArAgqt"
   },
   "source": [
    "### Overall Strategy"
   ]
  },
  {
   "cell_type": "markdown",
   "id": "_hrdHELpAgeN",
   "metadata": {
    "id": "_hrdHELpAgeN"
   },
   "source": [
    "0) Get dataset into python\n",
    "\n",
    "1) Deal with missing data (drop column)\n",
    "\n",
    "2) Transform letters into numbers (one-hot encoding)"
   ]
  },
  {
   "cell_type": "markdown",
   "id": "8zrrcNuBAgP9",
   "metadata": {
    "id": "8zrrcNuBAgP9"
   },
   "source": [
    "### 0) Get dataset into python"
   ]
  },
  {
   "cell_type": "markdown",
   "id": "DHa2BsVmAgBt",
   "metadata": {
    "id": "DHa2BsVmAgBt"
   },
   "source": [
    "* get pandas library\n",
    "* get a hard coded address for the file\n",
    "* try a simple usage of read_csv\n",
    "* check our work\n",
    "* update our usage of read_csv and check work again"
   ]
  },
  {
   "cell_type": "code",
   "execution_count": 1,
   "id": "5f4a863d",
   "metadata": {
    "id": "5f4a863d"
   },
   "outputs": [],
   "source": [
    "# get library\n",
    "import pandas as pd"
   ]
  },
  {
   "cell_type": "code",
   "execution_count": 2,
   "id": "7fe2177e",
   "metadata": {
    "id": "7fe2177e"
   },
   "outputs": [],
   "source": [
    "# get a hard coded address for the file\n",
    "mushroom_dataset_address='../data/agaricus-lepiota.csv'"
   ]
  },
  {
   "cell_type": "code",
   "execution_count": 3,
   "id": "c070e60d",
   "metadata": {
    "id": "c070e60d"
   },
   "outputs": [],
   "source": [
    "# try a simple usage of read_csv\n",
    "my_Panda=pd.read_csv(mushroom_dataset_address)"
   ]
  },
  {
   "cell_type": "code",
   "execution_count": 4,
   "id": "6b527afc",
   "metadata": {
    "colab": {
     "base_uri": "https://localhost:8080/",
     "height": 417
    },
    "id": "6b527afc",
    "outputId": "6c6e9ebf-905a-4bfd-d22b-90c63211ca04"
   },
   "outputs": [
    {
     "data": {
      "text/html": [
       "<div>\n",
       "<style scoped>\n",
       "    .dataframe tbody tr th:only-of-type {\n",
       "        vertical-align: middle;\n",
       "    }\n",
       "\n",
       "    .dataframe tbody tr th {\n",
       "        vertical-align: top;\n",
       "    }\n",
       "\n",
       "    .dataframe thead th {\n",
       "        text-align: right;\n",
       "    }\n",
       "</style>\n",
       "<table border=\"1\" class=\"dataframe\">\n",
       "  <thead>\n",
       "    <tr style=\"text-align: right;\">\n",
       "      <th></th>\n",
       "      <th>p</th>\n",
       "      <th>x</th>\n",
       "      <th>s</th>\n",
       "      <th>n</th>\n",
       "      <th>t</th>\n",
       "      <th>p.1</th>\n",
       "      <th>f</th>\n",
       "      <th>c</th>\n",
       "      <th>n.1</th>\n",
       "      <th>k</th>\n",
       "      <th>...</th>\n",
       "      <th>s.2</th>\n",
       "      <th>w</th>\n",
       "      <th>w.1</th>\n",
       "      <th>p.2</th>\n",
       "      <th>w.2</th>\n",
       "      <th>o</th>\n",
       "      <th>p.3</th>\n",
       "      <th>k.1</th>\n",
       "      <th>s.3</th>\n",
       "      <th>u</th>\n",
       "    </tr>\n",
       "  </thead>\n",
       "  <tbody>\n",
       "    <tr>\n",
       "      <th>0</th>\n",
       "      <td>e</td>\n",
       "      <td>x</td>\n",
       "      <td>s</td>\n",
       "      <td>y</td>\n",
       "      <td>t</td>\n",
       "      <td>a</td>\n",
       "      <td>f</td>\n",
       "      <td>c</td>\n",
       "      <td>b</td>\n",
       "      <td>k</td>\n",
       "      <td>...</td>\n",
       "      <td>s</td>\n",
       "      <td>w</td>\n",
       "      <td>w</td>\n",
       "      <td>p</td>\n",
       "      <td>w</td>\n",
       "      <td>o</td>\n",
       "      <td>p</td>\n",
       "      <td>n</td>\n",
       "      <td>n</td>\n",
       "      <td>g</td>\n",
       "    </tr>\n",
       "    <tr>\n",
       "      <th>1</th>\n",
       "      <td>e</td>\n",
       "      <td>b</td>\n",
       "      <td>s</td>\n",
       "      <td>w</td>\n",
       "      <td>t</td>\n",
       "      <td>l</td>\n",
       "      <td>f</td>\n",
       "      <td>c</td>\n",
       "      <td>b</td>\n",
       "      <td>n</td>\n",
       "      <td>...</td>\n",
       "      <td>s</td>\n",
       "      <td>w</td>\n",
       "      <td>w</td>\n",
       "      <td>p</td>\n",
       "      <td>w</td>\n",
       "      <td>o</td>\n",
       "      <td>p</td>\n",
       "      <td>n</td>\n",
       "      <td>n</td>\n",
       "      <td>m</td>\n",
       "    </tr>\n",
       "    <tr>\n",
       "      <th>2</th>\n",
       "      <td>p</td>\n",
       "      <td>x</td>\n",
       "      <td>y</td>\n",
       "      <td>w</td>\n",
       "      <td>t</td>\n",
       "      <td>p</td>\n",
       "      <td>f</td>\n",
       "      <td>c</td>\n",
       "      <td>n</td>\n",
       "      <td>n</td>\n",
       "      <td>...</td>\n",
       "      <td>s</td>\n",
       "      <td>w</td>\n",
       "      <td>w</td>\n",
       "      <td>p</td>\n",
       "      <td>w</td>\n",
       "      <td>o</td>\n",
       "      <td>p</td>\n",
       "      <td>k</td>\n",
       "      <td>s</td>\n",
       "      <td>u</td>\n",
       "    </tr>\n",
       "    <tr>\n",
       "      <th>3</th>\n",
       "      <td>e</td>\n",
       "      <td>x</td>\n",
       "      <td>s</td>\n",
       "      <td>g</td>\n",
       "      <td>f</td>\n",
       "      <td>n</td>\n",
       "      <td>f</td>\n",
       "      <td>w</td>\n",
       "      <td>b</td>\n",
       "      <td>k</td>\n",
       "      <td>...</td>\n",
       "      <td>s</td>\n",
       "      <td>w</td>\n",
       "      <td>w</td>\n",
       "      <td>p</td>\n",
       "      <td>w</td>\n",
       "      <td>o</td>\n",
       "      <td>e</td>\n",
       "      <td>n</td>\n",
       "      <td>a</td>\n",
       "      <td>g</td>\n",
       "    </tr>\n",
       "    <tr>\n",
       "      <th>4</th>\n",
       "      <td>e</td>\n",
       "      <td>x</td>\n",
       "      <td>y</td>\n",
       "      <td>y</td>\n",
       "      <td>t</td>\n",
       "      <td>a</td>\n",
       "      <td>f</td>\n",
       "      <td>c</td>\n",
       "      <td>b</td>\n",
       "      <td>n</td>\n",
       "      <td>...</td>\n",
       "      <td>s</td>\n",
       "      <td>w</td>\n",
       "      <td>w</td>\n",
       "      <td>p</td>\n",
       "      <td>w</td>\n",
       "      <td>o</td>\n",
       "      <td>p</td>\n",
       "      <td>k</td>\n",
       "      <td>n</td>\n",
       "      <td>g</td>\n",
       "    </tr>\n",
       "    <tr>\n",
       "      <th>...</th>\n",
       "      <td>...</td>\n",
       "      <td>...</td>\n",
       "      <td>...</td>\n",
       "      <td>...</td>\n",
       "      <td>...</td>\n",
       "      <td>...</td>\n",
       "      <td>...</td>\n",
       "      <td>...</td>\n",
       "      <td>...</td>\n",
       "      <td>...</td>\n",
       "      <td>...</td>\n",
       "      <td>...</td>\n",
       "      <td>...</td>\n",
       "      <td>...</td>\n",
       "      <td>...</td>\n",
       "      <td>...</td>\n",
       "      <td>...</td>\n",
       "      <td>...</td>\n",
       "      <td>...</td>\n",
       "      <td>...</td>\n",
       "      <td>...</td>\n",
       "    </tr>\n",
       "    <tr>\n",
       "      <th>8118</th>\n",
       "      <td>e</td>\n",
       "      <td>k</td>\n",
       "      <td>s</td>\n",
       "      <td>n</td>\n",
       "      <td>f</td>\n",
       "      <td>n</td>\n",
       "      <td>a</td>\n",
       "      <td>c</td>\n",
       "      <td>b</td>\n",
       "      <td>y</td>\n",
       "      <td>...</td>\n",
       "      <td>s</td>\n",
       "      <td>o</td>\n",
       "      <td>o</td>\n",
       "      <td>p</td>\n",
       "      <td>o</td>\n",
       "      <td>o</td>\n",
       "      <td>p</td>\n",
       "      <td>b</td>\n",
       "      <td>c</td>\n",
       "      <td>l</td>\n",
       "    </tr>\n",
       "    <tr>\n",
       "      <th>8119</th>\n",
       "      <td>e</td>\n",
       "      <td>x</td>\n",
       "      <td>s</td>\n",
       "      <td>n</td>\n",
       "      <td>f</td>\n",
       "      <td>n</td>\n",
       "      <td>a</td>\n",
       "      <td>c</td>\n",
       "      <td>b</td>\n",
       "      <td>y</td>\n",
       "      <td>...</td>\n",
       "      <td>s</td>\n",
       "      <td>o</td>\n",
       "      <td>o</td>\n",
       "      <td>p</td>\n",
       "      <td>n</td>\n",
       "      <td>o</td>\n",
       "      <td>p</td>\n",
       "      <td>b</td>\n",
       "      <td>v</td>\n",
       "      <td>l</td>\n",
       "    </tr>\n",
       "    <tr>\n",
       "      <th>8120</th>\n",
       "      <td>e</td>\n",
       "      <td>f</td>\n",
       "      <td>s</td>\n",
       "      <td>n</td>\n",
       "      <td>f</td>\n",
       "      <td>n</td>\n",
       "      <td>a</td>\n",
       "      <td>c</td>\n",
       "      <td>b</td>\n",
       "      <td>n</td>\n",
       "      <td>...</td>\n",
       "      <td>s</td>\n",
       "      <td>o</td>\n",
       "      <td>o</td>\n",
       "      <td>p</td>\n",
       "      <td>o</td>\n",
       "      <td>o</td>\n",
       "      <td>p</td>\n",
       "      <td>b</td>\n",
       "      <td>c</td>\n",
       "      <td>l</td>\n",
       "    </tr>\n",
       "    <tr>\n",
       "      <th>8121</th>\n",
       "      <td>p</td>\n",
       "      <td>k</td>\n",
       "      <td>y</td>\n",
       "      <td>n</td>\n",
       "      <td>f</td>\n",
       "      <td>y</td>\n",
       "      <td>f</td>\n",
       "      <td>c</td>\n",
       "      <td>n</td>\n",
       "      <td>b</td>\n",
       "      <td>...</td>\n",
       "      <td>k</td>\n",
       "      <td>w</td>\n",
       "      <td>w</td>\n",
       "      <td>p</td>\n",
       "      <td>w</td>\n",
       "      <td>o</td>\n",
       "      <td>e</td>\n",
       "      <td>w</td>\n",
       "      <td>v</td>\n",
       "      <td>l</td>\n",
       "    </tr>\n",
       "    <tr>\n",
       "      <th>8122</th>\n",
       "      <td>e</td>\n",
       "      <td>x</td>\n",
       "      <td>s</td>\n",
       "      <td>n</td>\n",
       "      <td>f</td>\n",
       "      <td>n</td>\n",
       "      <td>a</td>\n",
       "      <td>c</td>\n",
       "      <td>b</td>\n",
       "      <td>y</td>\n",
       "      <td>...</td>\n",
       "      <td>s</td>\n",
       "      <td>o</td>\n",
       "      <td>o</td>\n",
       "      <td>p</td>\n",
       "      <td>o</td>\n",
       "      <td>o</td>\n",
       "      <td>p</td>\n",
       "      <td>o</td>\n",
       "      <td>c</td>\n",
       "      <td>l</td>\n",
       "    </tr>\n",
       "  </tbody>\n",
       "</table>\n",
       "<p>8123 rows × 23 columns</p>\n",
       "</div>"
      ],
      "text/plain": [
       "      p  x  s  n  t p.1  f  c n.1  k  ... s.2  w w.1 p.2 w.2  o p.3 k.1 s.3  u\n",
       "0     e  x  s  y  t   a  f  c   b  k  ...   s  w   w   p   w  o   p   n   n  g\n",
       "1     e  b  s  w  t   l  f  c   b  n  ...   s  w   w   p   w  o   p   n   n  m\n",
       "2     p  x  y  w  t   p  f  c   n  n  ...   s  w   w   p   w  o   p   k   s  u\n",
       "3     e  x  s  g  f   n  f  w   b  k  ...   s  w   w   p   w  o   e   n   a  g\n",
       "4     e  x  y  y  t   a  f  c   b  n  ...   s  w   w   p   w  o   p   k   n  g\n",
       "...  .. .. .. .. ..  .. .. ..  .. ..  ...  .. ..  ..  ..  .. ..  ..  ..  .. ..\n",
       "8118  e  k  s  n  f   n  a  c   b  y  ...   s  o   o   p   o  o   p   b   c  l\n",
       "8119  e  x  s  n  f   n  a  c   b  y  ...   s  o   o   p   n  o   p   b   v  l\n",
       "8120  e  f  s  n  f   n  a  c   b  n  ...   s  o   o   p   o  o   p   b   c  l\n",
       "8121  p  k  y  n  f   y  f  c   n  b  ...   k  w   w   p   w  o   e   w   v  l\n",
       "8122  e  x  s  n  f   n  a  c   b  y  ...   s  o   o   p   o  o   p   o   c  l\n",
       "\n",
       "[8123 rows x 23 columns]"
      ]
     },
     "execution_count": 4,
     "metadata": {},
     "output_type": "execute_result"
    }
   ],
   "source": [
    "# check our work\n",
    "my_Panda"
   ]
  },
  {
   "cell_type": "code",
   "execution_count": 5,
   "id": "8b286331",
   "metadata": {
    "colab": {
     "base_uri": "https://localhost:8080/",
     "height": 417
    },
    "id": "8b286331",
    "outputId": "ce1a27d1-e10e-4468-8ad7-e62d6b81f2c4"
   },
   "outputs": [
    {
     "data": {
      "text/html": [
       "<div>\n",
       "<style scoped>\n",
       "    .dataframe tbody tr th:only-of-type {\n",
       "        vertical-align: middle;\n",
       "    }\n",
       "\n",
       "    .dataframe tbody tr th {\n",
       "        vertical-align: top;\n",
       "    }\n",
       "\n",
       "    .dataframe thead th {\n",
       "        text-align: right;\n",
       "    }\n",
       "</style>\n",
       "<table border=\"1\" class=\"dataframe\">\n",
       "  <thead>\n",
       "    <tr style=\"text-align: right;\">\n",
       "      <th></th>\n",
       "      <th>0</th>\n",
       "      <th>1</th>\n",
       "      <th>2</th>\n",
       "      <th>3</th>\n",
       "      <th>4</th>\n",
       "      <th>5</th>\n",
       "      <th>6</th>\n",
       "      <th>7</th>\n",
       "      <th>8</th>\n",
       "      <th>9</th>\n",
       "      <th>...</th>\n",
       "      <th>13</th>\n",
       "      <th>14</th>\n",
       "      <th>15</th>\n",
       "      <th>16</th>\n",
       "      <th>17</th>\n",
       "      <th>18</th>\n",
       "      <th>19</th>\n",
       "      <th>20</th>\n",
       "      <th>21</th>\n",
       "      <th>22</th>\n",
       "    </tr>\n",
       "  </thead>\n",
       "  <tbody>\n",
       "    <tr>\n",
       "      <th>0</th>\n",
       "      <td>p</td>\n",
       "      <td>x</td>\n",
       "      <td>s</td>\n",
       "      <td>n</td>\n",
       "      <td>t</td>\n",
       "      <td>p</td>\n",
       "      <td>f</td>\n",
       "      <td>c</td>\n",
       "      <td>n</td>\n",
       "      <td>k</td>\n",
       "      <td>...</td>\n",
       "      <td>s</td>\n",
       "      <td>w</td>\n",
       "      <td>w</td>\n",
       "      <td>p</td>\n",
       "      <td>w</td>\n",
       "      <td>o</td>\n",
       "      <td>p</td>\n",
       "      <td>k</td>\n",
       "      <td>s</td>\n",
       "      <td>u</td>\n",
       "    </tr>\n",
       "    <tr>\n",
       "      <th>1</th>\n",
       "      <td>e</td>\n",
       "      <td>x</td>\n",
       "      <td>s</td>\n",
       "      <td>y</td>\n",
       "      <td>t</td>\n",
       "      <td>a</td>\n",
       "      <td>f</td>\n",
       "      <td>c</td>\n",
       "      <td>b</td>\n",
       "      <td>k</td>\n",
       "      <td>...</td>\n",
       "      <td>s</td>\n",
       "      <td>w</td>\n",
       "      <td>w</td>\n",
       "      <td>p</td>\n",
       "      <td>w</td>\n",
       "      <td>o</td>\n",
       "      <td>p</td>\n",
       "      <td>n</td>\n",
       "      <td>n</td>\n",
       "      <td>g</td>\n",
       "    </tr>\n",
       "    <tr>\n",
       "      <th>2</th>\n",
       "      <td>e</td>\n",
       "      <td>b</td>\n",
       "      <td>s</td>\n",
       "      <td>w</td>\n",
       "      <td>t</td>\n",
       "      <td>l</td>\n",
       "      <td>f</td>\n",
       "      <td>c</td>\n",
       "      <td>b</td>\n",
       "      <td>n</td>\n",
       "      <td>...</td>\n",
       "      <td>s</td>\n",
       "      <td>w</td>\n",
       "      <td>w</td>\n",
       "      <td>p</td>\n",
       "      <td>w</td>\n",
       "      <td>o</td>\n",
       "      <td>p</td>\n",
       "      <td>n</td>\n",
       "      <td>n</td>\n",
       "      <td>m</td>\n",
       "    </tr>\n",
       "    <tr>\n",
       "      <th>3</th>\n",
       "      <td>p</td>\n",
       "      <td>x</td>\n",
       "      <td>y</td>\n",
       "      <td>w</td>\n",
       "      <td>t</td>\n",
       "      <td>p</td>\n",
       "      <td>f</td>\n",
       "      <td>c</td>\n",
       "      <td>n</td>\n",
       "      <td>n</td>\n",
       "      <td>...</td>\n",
       "      <td>s</td>\n",
       "      <td>w</td>\n",
       "      <td>w</td>\n",
       "      <td>p</td>\n",
       "      <td>w</td>\n",
       "      <td>o</td>\n",
       "      <td>p</td>\n",
       "      <td>k</td>\n",
       "      <td>s</td>\n",
       "      <td>u</td>\n",
       "    </tr>\n",
       "    <tr>\n",
       "      <th>4</th>\n",
       "      <td>e</td>\n",
       "      <td>x</td>\n",
       "      <td>s</td>\n",
       "      <td>g</td>\n",
       "      <td>f</td>\n",
       "      <td>n</td>\n",
       "      <td>f</td>\n",
       "      <td>w</td>\n",
       "      <td>b</td>\n",
       "      <td>k</td>\n",
       "      <td>...</td>\n",
       "      <td>s</td>\n",
       "      <td>w</td>\n",
       "      <td>w</td>\n",
       "      <td>p</td>\n",
       "      <td>w</td>\n",
       "      <td>o</td>\n",
       "      <td>e</td>\n",
       "      <td>n</td>\n",
       "      <td>a</td>\n",
       "      <td>g</td>\n",
       "    </tr>\n",
       "    <tr>\n",
       "      <th>...</th>\n",
       "      <td>...</td>\n",
       "      <td>...</td>\n",
       "      <td>...</td>\n",
       "      <td>...</td>\n",
       "      <td>...</td>\n",
       "      <td>...</td>\n",
       "      <td>...</td>\n",
       "      <td>...</td>\n",
       "      <td>...</td>\n",
       "      <td>...</td>\n",
       "      <td>...</td>\n",
       "      <td>...</td>\n",
       "      <td>...</td>\n",
       "      <td>...</td>\n",
       "      <td>...</td>\n",
       "      <td>...</td>\n",
       "      <td>...</td>\n",
       "      <td>...</td>\n",
       "      <td>...</td>\n",
       "      <td>...</td>\n",
       "      <td>...</td>\n",
       "    </tr>\n",
       "    <tr>\n",
       "      <th>8119</th>\n",
       "      <td>e</td>\n",
       "      <td>k</td>\n",
       "      <td>s</td>\n",
       "      <td>n</td>\n",
       "      <td>f</td>\n",
       "      <td>n</td>\n",
       "      <td>a</td>\n",
       "      <td>c</td>\n",
       "      <td>b</td>\n",
       "      <td>y</td>\n",
       "      <td>...</td>\n",
       "      <td>s</td>\n",
       "      <td>o</td>\n",
       "      <td>o</td>\n",
       "      <td>p</td>\n",
       "      <td>o</td>\n",
       "      <td>o</td>\n",
       "      <td>p</td>\n",
       "      <td>b</td>\n",
       "      <td>c</td>\n",
       "      <td>l</td>\n",
       "    </tr>\n",
       "    <tr>\n",
       "      <th>8120</th>\n",
       "      <td>e</td>\n",
       "      <td>x</td>\n",
       "      <td>s</td>\n",
       "      <td>n</td>\n",
       "      <td>f</td>\n",
       "      <td>n</td>\n",
       "      <td>a</td>\n",
       "      <td>c</td>\n",
       "      <td>b</td>\n",
       "      <td>y</td>\n",
       "      <td>...</td>\n",
       "      <td>s</td>\n",
       "      <td>o</td>\n",
       "      <td>o</td>\n",
       "      <td>p</td>\n",
       "      <td>n</td>\n",
       "      <td>o</td>\n",
       "      <td>p</td>\n",
       "      <td>b</td>\n",
       "      <td>v</td>\n",
       "      <td>l</td>\n",
       "    </tr>\n",
       "    <tr>\n",
       "      <th>8121</th>\n",
       "      <td>e</td>\n",
       "      <td>f</td>\n",
       "      <td>s</td>\n",
       "      <td>n</td>\n",
       "      <td>f</td>\n",
       "      <td>n</td>\n",
       "      <td>a</td>\n",
       "      <td>c</td>\n",
       "      <td>b</td>\n",
       "      <td>n</td>\n",
       "      <td>...</td>\n",
       "      <td>s</td>\n",
       "      <td>o</td>\n",
       "      <td>o</td>\n",
       "      <td>p</td>\n",
       "      <td>o</td>\n",
       "      <td>o</td>\n",
       "      <td>p</td>\n",
       "      <td>b</td>\n",
       "      <td>c</td>\n",
       "      <td>l</td>\n",
       "    </tr>\n",
       "    <tr>\n",
       "      <th>8122</th>\n",
       "      <td>p</td>\n",
       "      <td>k</td>\n",
       "      <td>y</td>\n",
       "      <td>n</td>\n",
       "      <td>f</td>\n",
       "      <td>y</td>\n",
       "      <td>f</td>\n",
       "      <td>c</td>\n",
       "      <td>n</td>\n",
       "      <td>b</td>\n",
       "      <td>...</td>\n",
       "      <td>k</td>\n",
       "      <td>w</td>\n",
       "      <td>w</td>\n",
       "      <td>p</td>\n",
       "      <td>w</td>\n",
       "      <td>o</td>\n",
       "      <td>e</td>\n",
       "      <td>w</td>\n",
       "      <td>v</td>\n",
       "      <td>l</td>\n",
       "    </tr>\n",
       "    <tr>\n",
       "      <th>8123</th>\n",
       "      <td>e</td>\n",
       "      <td>x</td>\n",
       "      <td>s</td>\n",
       "      <td>n</td>\n",
       "      <td>f</td>\n",
       "      <td>n</td>\n",
       "      <td>a</td>\n",
       "      <td>c</td>\n",
       "      <td>b</td>\n",
       "      <td>y</td>\n",
       "      <td>...</td>\n",
       "      <td>s</td>\n",
       "      <td>o</td>\n",
       "      <td>o</td>\n",
       "      <td>p</td>\n",
       "      <td>o</td>\n",
       "      <td>o</td>\n",
       "      <td>p</td>\n",
       "      <td>o</td>\n",
       "      <td>c</td>\n",
       "      <td>l</td>\n",
       "    </tr>\n",
       "  </tbody>\n",
       "</table>\n",
       "<p>8124 rows × 23 columns</p>\n",
       "</div>"
      ],
      "text/plain": [
       "     0  1  2  3  4  5  6  7  8  9   ... 13 14 15 16 17 18 19 20 21 22\n",
       "0     p  x  s  n  t  p  f  c  n  k  ...  s  w  w  p  w  o  p  k  s  u\n",
       "1     e  x  s  y  t  a  f  c  b  k  ...  s  w  w  p  w  o  p  n  n  g\n",
       "2     e  b  s  w  t  l  f  c  b  n  ...  s  w  w  p  w  o  p  n  n  m\n",
       "3     p  x  y  w  t  p  f  c  n  n  ...  s  w  w  p  w  o  p  k  s  u\n",
       "4     e  x  s  g  f  n  f  w  b  k  ...  s  w  w  p  w  o  e  n  a  g\n",
       "...  .. .. .. .. .. .. .. .. .. ..  ... .. .. .. .. .. .. .. .. .. ..\n",
       "8119  e  k  s  n  f  n  a  c  b  y  ...  s  o  o  p  o  o  p  b  c  l\n",
       "8120  e  x  s  n  f  n  a  c  b  y  ...  s  o  o  p  n  o  p  b  v  l\n",
       "8121  e  f  s  n  f  n  a  c  b  n  ...  s  o  o  p  o  o  p  b  c  l\n",
       "8122  p  k  y  n  f  y  f  c  n  b  ...  k  w  w  p  w  o  e  w  v  l\n",
       "8123  e  x  s  n  f  n  a  c  b  y  ...  s  o  o  p  o  o  p  o  c  l\n",
       "\n",
       "[8124 rows x 23 columns]"
      ]
     },
     "execution_count": 5,
     "metadata": {},
     "output_type": "execute_result"
    }
   ],
   "source": [
    "# update our usage of read_csv and check work again\n",
    "my_Panda=pd.read_csv(mushroom_dataset_address,header=None)\n",
    "my_Panda"
   ]
  },
  {
   "cell_type": "markdown",
   "id": "zLvoSaFoB3KB",
   "metadata": {
    "id": "zLvoSaFoB3KB"
   },
   "source": [
    "### 1) Deal with missing data (drop column)"
   ]
  },
  {
   "cell_type": "markdown",
   "id": "975cb3df",
   "metadata": {
    "id": "975cb3df"
   },
   "source": [
    "\n",
    "We need a fast and clear approach\n",
    "\n",
    "*   use the function DataFrame.drop\n",
    "*   check our work\n",
    "\n"
   ]
  },
  {
   "cell_type": "code",
   "execution_count": 6,
   "id": "8704031e",
   "metadata": {
    "id": "8704031e"
   },
   "outputs": [],
   "source": [
    "# use the function DataFrame.drop\n",
    "## labels indicates the \"name\" of the column to drop\n",
    "## axis indicates whether we are dropping from columns or rows (10 exists on both)\n",
    "## inplace means that we are modifying the variable my_Panda instead of getting a result returned\n",
    "my_Panda_column_dropped=my_Panda.drop(labels=11,axis='columns')"
   ]
  },
  {
   "cell_type": "code",
   "execution_count": 7,
   "id": "07463476",
   "metadata": {
    "colab": {
     "base_uri": "https://localhost:8080/",
     "height": 417
    },
    "id": "07463476",
    "outputId": "921bf7ad-4303-4e09-9403-5d4e2fb74b96"
   },
   "outputs": [
    {
     "data": {
      "text/html": [
       "<div>\n",
       "<style scoped>\n",
       "    .dataframe tbody tr th:only-of-type {\n",
       "        vertical-align: middle;\n",
       "    }\n",
       "\n",
       "    .dataframe tbody tr th {\n",
       "        vertical-align: top;\n",
       "    }\n",
       "\n",
       "    .dataframe thead th {\n",
       "        text-align: right;\n",
       "    }\n",
       "</style>\n",
       "<table border=\"1\" class=\"dataframe\">\n",
       "  <thead>\n",
       "    <tr style=\"text-align: right;\">\n",
       "      <th></th>\n",
       "      <th>0</th>\n",
       "      <th>1</th>\n",
       "      <th>2</th>\n",
       "      <th>3</th>\n",
       "      <th>4</th>\n",
       "      <th>5</th>\n",
       "      <th>6</th>\n",
       "      <th>7</th>\n",
       "      <th>8</th>\n",
       "      <th>9</th>\n",
       "      <th>...</th>\n",
       "      <th>13</th>\n",
       "      <th>14</th>\n",
       "      <th>15</th>\n",
       "      <th>16</th>\n",
       "      <th>17</th>\n",
       "      <th>18</th>\n",
       "      <th>19</th>\n",
       "      <th>20</th>\n",
       "      <th>21</th>\n",
       "      <th>22</th>\n",
       "    </tr>\n",
       "  </thead>\n",
       "  <tbody>\n",
       "    <tr>\n",
       "      <th>0</th>\n",
       "      <td>p</td>\n",
       "      <td>x</td>\n",
       "      <td>s</td>\n",
       "      <td>n</td>\n",
       "      <td>t</td>\n",
       "      <td>p</td>\n",
       "      <td>f</td>\n",
       "      <td>c</td>\n",
       "      <td>n</td>\n",
       "      <td>k</td>\n",
       "      <td>...</td>\n",
       "      <td>s</td>\n",
       "      <td>w</td>\n",
       "      <td>w</td>\n",
       "      <td>p</td>\n",
       "      <td>w</td>\n",
       "      <td>o</td>\n",
       "      <td>p</td>\n",
       "      <td>k</td>\n",
       "      <td>s</td>\n",
       "      <td>u</td>\n",
       "    </tr>\n",
       "    <tr>\n",
       "      <th>1</th>\n",
       "      <td>e</td>\n",
       "      <td>x</td>\n",
       "      <td>s</td>\n",
       "      <td>y</td>\n",
       "      <td>t</td>\n",
       "      <td>a</td>\n",
       "      <td>f</td>\n",
       "      <td>c</td>\n",
       "      <td>b</td>\n",
       "      <td>k</td>\n",
       "      <td>...</td>\n",
       "      <td>s</td>\n",
       "      <td>w</td>\n",
       "      <td>w</td>\n",
       "      <td>p</td>\n",
       "      <td>w</td>\n",
       "      <td>o</td>\n",
       "      <td>p</td>\n",
       "      <td>n</td>\n",
       "      <td>n</td>\n",
       "      <td>g</td>\n",
       "    </tr>\n",
       "    <tr>\n",
       "      <th>2</th>\n",
       "      <td>e</td>\n",
       "      <td>b</td>\n",
       "      <td>s</td>\n",
       "      <td>w</td>\n",
       "      <td>t</td>\n",
       "      <td>l</td>\n",
       "      <td>f</td>\n",
       "      <td>c</td>\n",
       "      <td>b</td>\n",
       "      <td>n</td>\n",
       "      <td>...</td>\n",
       "      <td>s</td>\n",
       "      <td>w</td>\n",
       "      <td>w</td>\n",
       "      <td>p</td>\n",
       "      <td>w</td>\n",
       "      <td>o</td>\n",
       "      <td>p</td>\n",
       "      <td>n</td>\n",
       "      <td>n</td>\n",
       "      <td>m</td>\n",
       "    </tr>\n",
       "    <tr>\n",
       "      <th>3</th>\n",
       "      <td>p</td>\n",
       "      <td>x</td>\n",
       "      <td>y</td>\n",
       "      <td>w</td>\n",
       "      <td>t</td>\n",
       "      <td>p</td>\n",
       "      <td>f</td>\n",
       "      <td>c</td>\n",
       "      <td>n</td>\n",
       "      <td>n</td>\n",
       "      <td>...</td>\n",
       "      <td>s</td>\n",
       "      <td>w</td>\n",
       "      <td>w</td>\n",
       "      <td>p</td>\n",
       "      <td>w</td>\n",
       "      <td>o</td>\n",
       "      <td>p</td>\n",
       "      <td>k</td>\n",
       "      <td>s</td>\n",
       "      <td>u</td>\n",
       "    </tr>\n",
       "    <tr>\n",
       "      <th>4</th>\n",
       "      <td>e</td>\n",
       "      <td>x</td>\n",
       "      <td>s</td>\n",
       "      <td>g</td>\n",
       "      <td>f</td>\n",
       "      <td>n</td>\n",
       "      <td>f</td>\n",
       "      <td>w</td>\n",
       "      <td>b</td>\n",
       "      <td>k</td>\n",
       "      <td>...</td>\n",
       "      <td>s</td>\n",
       "      <td>w</td>\n",
       "      <td>w</td>\n",
       "      <td>p</td>\n",
       "      <td>w</td>\n",
       "      <td>o</td>\n",
       "      <td>e</td>\n",
       "      <td>n</td>\n",
       "      <td>a</td>\n",
       "      <td>g</td>\n",
       "    </tr>\n",
       "    <tr>\n",
       "      <th>...</th>\n",
       "      <td>...</td>\n",
       "      <td>...</td>\n",
       "      <td>...</td>\n",
       "      <td>...</td>\n",
       "      <td>...</td>\n",
       "      <td>...</td>\n",
       "      <td>...</td>\n",
       "      <td>...</td>\n",
       "      <td>...</td>\n",
       "      <td>...</td>\n",
       "      <td>...</td>\n",
       "      <td>...</td>\n",
       "      <td>...</td>\n",
       "      <td>...</td>\n",
       "      <td>...</td>\n",
       "      <td>...</td>\n",
       "      <td>...</td>\n",
       "      <td>...</td>\n",
       "      <td>...</td>\n",
       "      <td>...</td>\n",
       "      <td>...</td>\n",
       "    </tr>\n",
       "    <tr>\n",
       "      <th>8119</th>\n",
       "      <td>e</td>\n",
       "      <td>k</td>\n",
       "      <td>s</td>\n",
       "      <td>n</td>\n",
       "      <td>f</td>\n",
       "      <td>n</td>\n",
       "      <td>a</td>\n",
       "      <td>c</td>\n",
       "      <td>b</td>\n",
       "      <td>y</td>\n",
       "      <td>...</td>\n",
       "      <td>s</td>\n",
       "      <td>o</td>\n",
       "      <td>o</td>\n",
       "      <td>p</td>\n",
       "      <td>o</td>\n",
       "      <td>o</td>\n",
       "      <td>p</td>\n",
       "      <td>b</td>\n",
       "      <td>c</td>\n",
       "      <td>l</td>\n",
       "    </tr>\n",
       "    <tr>\n",
       "      <th>8120</th>\n",
       "      <td>e</td>\n",
       "      <td>x</td>\n",
       "      <td>s</td>\n",
       "      <td>n</td>\n",
       "      <td>f</td>\n",
       "      <td>n</td>\n",
       "      <td>a</td>\n",
       "      <td>c</td>\n",
       "      <td>b</td>\n",
       "      <td>y</td>\n",
       "      <td>...</td>\n",
       "      <td>s</td>\n",
       "      <td>o</td>\n",
       "      <td>o</td>\n",
       "      <td>p</td>\n",
       "      <td>n</td>\n",
       "      <td>o</td>\n",
       "      <td>p</td>\n",
       "      <td>b</td>\n",
       "      <td>v</td>\n",
       "      <td>l</td>\n",
       "    </tr>\n",
       "    <tr>\n",
       "      <th>8121</th>\n",
       "      <td>e</td>\n",
       "      <td>f</td>\n",
       "      <td>s</td>\n",
       "      <td>n</td>\n",
       "      <td>f</td>\n",
       "      <td>n</td>\n",
       "      <td>a</td>\n",
       "      <td>c</td>\n",
       "      <td>b</td>\n",
       "      <td>n</td>\n",
       "      <td>...</td>\n",
       "      <td>s</td>\n",
       "      <td>o</td>\n",
       "      <td>o</td>\n",
       "      <td>p</td>\n",
       "      <td>o</td>\n",
       "      <td>o</td>\n",
       "      <td>p</td>\n",
       "      <td>b</td>\n",
       "      <td>c</td>\n",
       "      <td>l</td>\n",
       "    </tr>\n",
       "    <tr>\n",
       "      <th>8122</th>\n",
       "      <td>p</td>\n",
       "      <td>k</td>\n",
       "      <td>y</td>\n",
       "      <td>n</td>\n",
       "      <td>f</td>\n",
       "      <td>y</td>\n",
       "      <td>f</td>\n",
       "      <td>c</td>\n",
       "      <td>n</td>\n",
       "      <td>b</td>\n",
       "      <td>...</td>\n",
       "      <td>k</td>\n",
       "      <td>w</td>\n",
       "      <td>w</td>\n",
       "      <td>p</td>\n",
       "      <td>w</td>\n",
       "      <td>o</td>\n",
       "      <td>e</td>\n",
       "      <td>w</td>\n",
       "      <td>v</td>\n",
       "      <td>l</td>\n",
       "    </tr>\n",
       "    <tr>\n",
       "      <th>8123</th>\n",
       "      <td>e</td>\n",
       "      <td>x</td>\n",
       "      <td>s</td>\n",
       "      <td>n</td>\n",
       "      <td>f</td>\n",
       "      <td>n</td>\n",
       "      <td>a</td>\n",
       "      <td>c</td>\n",
       "      <td>b</td>\n",
       "      <td>y</td>\n",
       "      <td>...</td>\n",
       "      <td>s</td>\n",
       "      <td>o</td>\n",
       "      <td>o</td>\n",
       "      <td>p</td>\n",
       "      <td>o</td>\n",
       "      <td>o</td>\n",
       "      <td>p</td>\n",
       "      <td>o</td>\n",
       "      <td>c</td>\n",
       "      <td>l</td>\n",
       "    </tr>\n",
       "  </tbody>\n",
       "</table>\n",
       "<p>8124 rows × 22 columns</p>\n",
       "</div>"
      ],
      "text/plain": [
       "     0  1  2  3  4  5  6  7  8  9   ... 13 14 15 16 17 18 19 20 21 22\n",
       "0     p  x  s  n  t  p  f  c  n  k  ...  s  w  w  p  w  o  p  k  s  u\n",
       "1     e  x  s  y  t  a  f  c  b  k  ...  s  w  w  p  w  o  p  n  n  g\n",
       "2     e  b  s  w  t  l  f  c  b  n  ...  s  w  w  p  w  o  p  n  n  m\n",
       "3     p  x  y  w  t  p  f  c  n  n  ...  s  w  w  p  w  o  p  k  s  u\n",
       "4     e  x  s  g  f  n  f  w  b  k  ...  s  w  w  p  w  o  e  n  a  g\n",
       "...  .. .. .. .. .. .. .. .. .. ..  ... .. .. .. .. .. .. .. .. .. ..\n",
       "8119  e  k  s  n  f  n  a  c  b  y  ...  s  o  o  p  o  o  p  b  c  l\n",
       "8120  e  x  s  n  f  n  a  c  b  y  ...  s  o  o  p  n  o  p  b  v  l\n",
       "8121  e  f  s  n  f  n  a  c  b  n  ...  s  o  o  p  o  o  p  b  c  l\n",
       "8122  p  k  y  n  f  y  f  c  n  b  ...  k  w  w  p  w  o  e  w  v  l\n",
       "8123  e  x  s  n  f  n  a  c  b  y  ...  s  o  o  p  o  o  p  o  c  l\n",
       "\n",
       "[8124 rows x 22 columns]"
      ]
     },
     "execution_count": 7,
     "metadata": {},
     "output_type": "execute_result"
    }
   ],
   "source": [
    "# check our work\n",
    "my_Panda_column_dropped"
   ]
  },
  {
   "cell_type": "markdown",
   "id": "571f60f5",
   "metadata": {
    "id": "571f60f5"
   },
   "source": [
    "### 2) Transform letters into numbers\n",
    "Why?"
   ]
  },
  {
   "cell_type": "markdown",
   "id": "4Z_zGeHNFclR",
   "metadata": {
    "id": "4Z_zGeHNFclR"
   },
   "source": [
    "#### Background: clustering"
   ]
  },
  {
   "cell_type": "markdown",
   "id": "NhEuktO5FQBR",
   "metadata": {
    "id": "NhEuktO5FQBR"
   },
   "source": [
    "8,124 samples -> which samples come from the same species?\n",
    "\n",
    "Clustering: Group datapoints based on location"
   ]
  },
  {
   "cell_type": "markdown",
   "id": "e5fs3RjPFRsg",
   "metadata": {
    "id": "e5fs3RjPFRsg"
   },
   "source": [
    "#### Image"
   ]
  },
  {
   "cell_type": "markdown",
   "id": "f554839f",
   "metadata": {
    "id": "f554839f"
   },
   "source": [
    "source:: https://miro.medium.com/max/1200/1*rw8IUza1dbffBhiA4i0GNQ.png\n",
    "\n",
    "![alt text](../img/day_3_lecture_2_image_2.png \"Title\")"
   ]
  },
  {
   "cell_type": "markdown",
   "id": "dPmeeKomFmkE",
   "metadata": {
    "id": "dPmeeKomFmkE"
   },
   "source": [
    "#### One-hot encoding"
   ]
  },
  {
   "cell_type": "markdown",
   "id": "slN1DmmEFl-K",
   "metadata": {
    "id": "slN1DmmEFl-K"
   },
   "source": [
    "To cluster, we need to put data points in spatial locations\n",
    "\n",
    "Right now each datapoint has 23 letters\n",
    "\n",
    "We use the strategy of \"one-hot encoding\""
   ]
  },
  {
   "cell_type": "markdown",
   "id": "01M5UqV5FuVp",
   "metadata": {
    "id": "01M5UqV5FuVp"
   },
   "source": [
    "#### image"
   ]
  },
  {
   "cell_type": "markdown",
   "id": "e45e4841",
   "metadata": {
    "id": "e45e4841"
   },
   "source": [
    "source: https://miro.medium.com/max/875/1*ggtP4a5YaRx6l09KQaYOnw.png\n",
    "\n",
    "![alt text](../img/day_3_lecture_2_image_3.png \"Title\")"
   ]
  },
  {
   "cell_type": "markdown",
   "id": "QyV1HNCrF2Pq",
   "metadata": {
    "id": "QyV1HNCrF2Pq"
   },
   "source": [
    "#### Code"
   ]
  },
  {
   "cell_type": "code",
   "execution_count": 8,
   "id": "8e9686e4",
   "metadata": {
    "id": "8e9686e4"
   },
   "outputs": [],
   "source": [
    "# one hot encoding\n",
    "## this time, we got a copy of the dataset back instead of operating on the variable my_Panda directly\n",
    "## we specify what to encode using 'data'\n",
    "## we provide a list of columns using my_Panda.columns - we could have also type the list [0,1,2,...,20,21,22]\n",
    "my_Panda_dummies=pd.get_dummies(data=my_Panda_column_dropped,columns=my_Panda_column_dropped.columns)"
   ]
  },
  {
   "cell_type": "code",
   "execution_count": 9,
   "id": "7cef832c",
   "metadata": {
    "colab": {
     "base_uri": "https://localhost:8080/",
     "height": 437
    },
    "id": "7cef832c",
    "outputId": "926cbaac-5b6f-477b-b3c0-9c0a7e60d8cb"
   },
   "outputs": [
    {
     "data": {
      "text/html": [
       "<div>\n",
       "<style scoped>\n",
       "    .dataframe tbody tr th:only-of-type {\n",
       "        vertical-align: middle;\n",
       "    }\n",
       "\n",
       "    .dataframe tbody tr th {\n",
       "        vertical-align: top;\n",
       "    }\n",
       "\n",
       "    .dataframe thead th {\n",
       "        text-align: right;\n",
       "    }\n",
       "</style>\n",
       "<table border=\"1\" class=\"dataframe\">\n",
       "  <thead>\n",
       "    <tr style=\"text-align: right;\">\n",
       "      <th></th>\n",
       "      <th>0_e</th>\n",
       "      <th>0_p</th>\n",
       "      <th>1_b</th>\n",
       "      <th>1_c</th>\n",
       "      <th>1_f</th>\n",
       "      <th>1_k</th>\n",
       "      <th>1_s</th>\n",
       "      <th>1_x</th>\n",
       "      <th>2_f</th>\n",
       "      <th>2_g</th>\n",
       "      <th>...</th>\n",
       "      <th>21_s</th>\n",
       "      <th>21_v</th>\n",
       "      <th>21_y</th>\n",
       "      <th>22_d</th>\n",
       "      <th>22_g</th>\n",
       "      <th>22_l</th>\n",
       "      <th>22_m</th>\n",
       "      <th>22_p</th>\n",
       "      <th>22_u</th>\n",
       "      <th>22_w</th>\n",
       "    </tr>\n",
       "  </thead>\n",
       "  <tbody>\n",
       "    <tr>\n",
       "      <th>0</th>\n",
       "      <td>0</td>\n",
       "      <td>1</td>\n",
       "      <td>0</td>\n",
       "      <td>0</td>\n",
       "      <td>0</td>\n",
       "      <td>0</td>\n",
       "      <td>0</td>\n",
       "      <td>1</td>\n",
       "      <td>0</td>\n",
       "      <td>0</td>\n",
       "      <td>...</td>\n",
       "      <td>1</td>\n",
       "      <td>0</td>\n",
       "      <td>0</td>\n",
       "      <td>0</td>\n",
       "      <td>0</td>\n",
       "      <td>0</td>\n",
       "      <td>0</td>\n",
       "      <td>0</td>\n",
       "      <td>1</td>\n",
       "      <td>0</td>\n",
       "    </tr>\n",
       "    <tr>\n",
       "      <th>1</th>\n",
       "      <td>1</td>\n",
       "      <td>0</td>\n",
       "      <td>0</td>\n",
       "      <td>0</td>\n",
       "      <td>0</td>\n",
       "      <td>0</td>\n",
       "      <td>0</td>\n",
       "      <td>1</td>\n",
       "      <td>0</td>\n",
       "      <td>0</td>\n",
       "      <td>...</td>\n",
       "      <td>0</td>\n",
       "      <td>0</td>\n",
       "      <td>0</td>\n",
       "      <td>0</td>\n",
       "      <td>1</td>\n",
       "      <td>0</td>\n",
       "      <td>0</td>\n",
       "      <td>0</td>\n",
       "      <td>0</td>\n",
       "      <td>0</td>\n",
       "    </tr>\n",
       "    <tr>\n",
       "      <th>2</th>\n",
       "      <td>1</td>\n",
       "      <td>0</td>\n",
       "      <td>1</td>\n",
       "      <td>0</td>\n",
       "      <td>0</td>\n",
       "      <td>0</td>\n",
       "      <td>0</td>\n",
       "      <td>0</td>\n",
       "      <td>0</td>\n",
       "      <td>0</td>\n",
       "      <td>...</td>\n",
       "      <td>0</td>\n",
       "      <td>0</td>\n",
       "      <td>0</td>\n",
       "      <td>0</td>\n",
       "      <td>0</td>\n",
       "      <td>0</td>\n",
       "      <td>1</td>\n",
       "      <td>0</td>\n",
       "      <td>0</td>\n",
       "      <td>0</td>\n",
       "    </tr>\n",
       "    <tr>\n",
       "      <th>3</th>\n",
       "      <td>0</td>\n",
       "      <td>1</td>\n",
       "      <td>0</td>\n",
       "      <td>0</td>\n",
       "      <td>0</td>\n",
       "      <td>0</td>\n",
       "      <td>0</td>\n",
       "      <td>1</td>\n",
       "      <td>0</td>\n",
       "      <td>0</td>\n",
       "      <td>...</td>\n",
       "      <td>1</td>\n",
       "      <td>0</td>\n",
       "      <td>0</td>\n",
       "      <td>0</td>\n",
       "      <td>0</td>\n",
       "      <td>0</td>\n",
       "      <td>0</td>\n",
       "      <td>0</td>\n",
       "      <td>1</td>\n",
       "      <td>0</td>\n",
       "    </tr>\n",
       "    <tr>\n",
       "      <th>4</th>\n",
       "      <td>1</td>\n",
       "      <td>0</td>\n",
       "      <td>0</td>\n",
       "      <td>0</td>\n",
       "      <td>0</td>\n",
       "      <td>0</td>\n",
       "      <td>0</td>\n",
       "      <td>1</td>\n",
       "      <td>0</td>\n",
       "      <td>0</td>\n",
       "      <td>...</td>\n",
       "      <td>0</td>\n",
       "      <td>0</td>\n",
       "      <td>0</td>\n",
       "      <td>0</td>\n",
       "      <td>1</td>\n",
       "      <td>0</td>\n",
       "      <td>0</td>\n",
       "      <td>0</td>\n",
       "      <td>0</td>\n",
       "      <td>0</td>\n",
       "    </tr>\n",
       "    <tr>\n",
       "      <th>...</th>\n",
       "      <td>...</td>\n",
       "      <td>...</td>\n",
       "      <td>...</td>\n",
       "      <td>...</td>\n",
       "      <td>...</td>\n",
       "      <td>...</td>\n",
       "      <td>...</td>\n",
       "      <td>...</td>\n",
       "      <td>...</td>\n",
       "      <td>...</td>\n",
       "      <td>...</td>\n",
       "      <td>...</td>\n",
       "      <td>...</td>\n",
       "      <td>...</td>\n",
       "      <td>...</td>\n",
       "      <td>...</td>\n",
       "      <td>...</td>\n",
       "      <td>...</td>\n",
       "      <td>...</td>\n",
       "      <td>...</td>\n",
       "      <td>...</td>\n",
       "    </tr>\n",
       "    <tr>\n",
       "      <th>8119</th>\n",
       "      <td>1</td>\n",
       "      <td>0</td>\n",
       "      <td>0</td>\n",
       "      <td>0</td>\n",
       "      <td>0</td>\n",
       "      <td>1</td>\n",
       "      <td>0</td>\n",
       "      <td>0</td>\n",
       "      <td>0</td>\n",
       "      <td>0</td>\n",
       "      <td>...</td>\n",
       "      <td>0</td>\n",
       "      <td>0</td>\n",
       "      <td>0</td>\n",
       "      <td>0</td>\n",
       "      <td>0</td>\n",
       "      <td>1</td>\n",
       "      <td>0</td>\n",
       "      <td>0</td>\n",
       "      <td>0</td>\n",
       "      <td>0</td>\n",
       "    </tr>\n",
       "    <tr>\n",
       "      <th>8120</th>\n",
       "      <td>1</td>\n",
       "      <td>0</td>\n",
       "      <td>0</td>\n",
       "      <td>0</td>\n",
       "      <td>0</td>\n",
       "      <td>0</td>\n",
       "      <td>0</td>\n",
       "      <td>1</td>\n",
       "      <td>0</td>\n",
       "      <td>0</td>\n",
       "      <td>...</td>\n",
       "      <td>0</td>\n",
       "      <td>1</td>\n",
       "      <td>0</td>\n",
       "      <td>0</td>\n",
       "      <td>0</td>\n",
       "      <td>1</td>\n",
       "      <td>0</td>\n",
       "      <td>0</td>\n",
       "      <td>0</td>\n",
       "      <td>0</td>\n",
       "    </tr>\n",
       "    <tr>\n",
       "      <th>8121</th>\n",
       "      <td>1</td>\n",
       "      <td>0</td>\n",
       "      <td>0</td>\n",
       "      <td>0</td>\n",
       "      <td>1</td>\n",
       "      <td>0</td>\n",
       "      <td>0</td>\n",
       "      <td>0</td>\n",
       "      <td>0</td>\n",
       "      <td>0</td>\n",
       "      <td>...</td>\n",
       "      <td>0</td>\n",
       "      <td>0</td>\n",
       "      <td>0</td>\n",
       "      <td>0</td>\n",
       "      <td>0</td>\n",
       "      <td>1</td>\n",
       "      <td>0</td>\n",
       "      <td>0</td>\n",
       "      <td>0</td>\n",
       "      <td>0</td>\n",
       "    </tr>\n",
       "    <tr>\n",
       "      <th>8122</th>\n",
       "      <td>0</td>\n",
       "      <td>1</td>\n",
       "      <td>0</td>\n",
       "      <td>0</td>\n",
       "      <td>0</td>\n",
       "      <td>1</td>\n",
       "      <td>0</td>\n",
       "      <td>0</td>\n",
       "      <td>0</td>\n",
       "      <td>0</td>\n",
       "      <td>...</td>\n",
       "      <td>0</td>\n",
       "      <td>1</td>\n",
       "      <td>0</td>\n",
       "      <td>0</td>\n",
       "      <td>0</td>\n",
       "      <td>1</td>\n",
       "      <td>0</td>\n",
       "      <td>0</td>\n",
       "      <td>0</td>\n",
       "      <td>0</td>\n",
       "    </tr>\n",
       "    <tr>\n",
       "      <th>8123</th>\n",
       "      <td>1</td>\n",
       "      <td>0</td>\n",
       "      <td>0</td>\n",
       "      <td>0</td>\n",
       "      <td>0</td>\n",
       "      <td>0</td>\n",
       "      <td>0</td>\n",
       "      <td>1</td>\n",
       "      <td>0</td>\n",
       "      <td>0</td>\n",
       "      <td>...</td>\n",
       "      <td>0</td>\n",
       "      <td>0</td>\n",
       "      <td>0</td>\n",
       "      <td>0</td>\n",
       "      <td>0</td>\n",
       "      <td>1</td>\n",
       "      <td>0</td>\n",
       "      <td>0</td>\n",
       "      <td>0</td>\n",
       "      <td>0</td>\n",
       "    </tr>\n",
       "  </tbody>\n",
       "</table>\n",
       "<p>8124 rows × 114 columns</p>\n",
       "</div>"
      ],
      "text/plain": [
       "      0_e  0_p  1_b  1_c  1_f  1_k  1_s  1_x  2_f  2_g  ...  21_s  21_v  21_y  \\\n",
       "0       0    1    0    0    0    0    0    1    0    0  ...     1     0     0   \n",
       "1       1    0    0    0    0    0    0    1    0    0  ...     0     0     0   \n",
       "2       1    0    1    0    0    0    0    0    0    0  ...     0     0     0   \n",
       "3       0    1    0    0    0    0    0    1    0    0  ...     1     0     0   \n",
       "4       1    0    0    0    0    0    0    1    0    0  ...     0     0     0   \n",
       "...   ...  ...  ...  ...  ...  ...  ...  ...  ...  ...  ...   ...   ...   ...   \n",
       "8119    1    0    0    0    0    1    0    0    0    0  ...     0     0     0   \n",
       "8120    1    0    0    0    0    0    0    1    0    0  ...     0     1     0   \n",
       "8121    1    0    0    0    1    0    0    0    0    0  ...     0     0     0   \n",
       "8122    0    1    0    0    0    1    0    0    0    0  ...     0     1     0   \n",
       "8123    1    0    0    0    0    0    0    1    0    0  ...     0     0     0   \n",
       "\n",
       "      22_d  22_g  22_l  22_m  22_p  22_u  22_w  \n",
       "0        0     0     0     0     0     1     0  \n",
       "1        0     1     0     0     0     0     0  \n",
       "2        0     0     0     1     0     0     0  \n",
       "3        0     0     0     0     0     1     0  \n",
       "4        0     1     0     0     0     0     0  \n",
       "...    ...   ...   ...   ...   ...   ...   ...  \n",
       "8119     0     0     1     0     0     0     0  \n",
       "8120     0     0     1     0     0     0     0  \n",
       "8121     0     0     1     0     0     0     0  \n",
       "8122     0     0     1     0     0     0     0  \n",
       "8123     0     0     1     0     0     0     0  \n",
       "\n",
       "[8124 rows x 114 columns]"
      ]
     },
     "execution_count": 9,
     "metadata": {},
     "output_type": "execute_result"
    }
   ],
   "source": [
    "# check our work\n",
    "my_Panda_dummies"
   ]
  },
  {
   "cell_type": "markdown",
   "id": "q4GP2qUu8BBr",
   "metadata": {
    "id": "q4GP2qUu8BBr"
   },
   "source": [
    "## C) Cluster the data with sklearn"
   ]
  },
  {
   "cell_type": "markdown",
   "id": "kNUAiEUKZDVb",
   "metadata": {
    "id": "kNUAiEUKZDVb"
   },
   "source": [
    "### Background: "
   ]
  },
  {
   "cell_type": "markdown",
   "id": "8kbl2Tcp2vcB",
   "metadata": {
    "id": "8kbl2Tcp2vcB"
   },
   "source": [
    "In the above image, data had 2 dimensions so we could visually assess clustering\n",
    "\n",
    "For n-dimensional case We turn to a clustering algorithm.\n",
    "\n",
    "Within sklearn we choose the algorithm K-means.\n",
    "\n",
    "Because time constraints we treat KMeans like a black box"
   ]
  },
  {
   "cell_type": "markdown",
   "id": "r6nmnsRC2waQ",
   "metadata": {
    "id": "r6nmnsRC2waQ"
   },
   "source": [
    "#### Image: Black box"
   ]
  },
  {
   "cell_type": "markdown",
   "id": "uvacn4Ck2wtp",
   "metadata": {
    "id": "uvacn4Ck2wtp"
   },
   "source": [
    "Black box: give input, get output, dont ask how\n",
    "\n",
    "Step 1) \n",
    "* Parameters: arguments that our chosen algorithm requires\n",
    "\n",
    "Step 2) \n",
    "* Input: my_Panda_dummies\n",
    "* Output: list of labels \n"
   ]
  },
  {
   "cell_type": "markdown",
   "id": "88c55435",
   "metadata": {
    "id": "88c55435"
   },
   "source": [
    "![alt text](../img/day_3_lecture_2_image_4.png \"Title\")"
   ]
  },
  {
   "cell_type": "markdown",
   "id": "9384f3f7",
   "metadata": {
    "id": "9384f3f7"
   },
   "source": [
    "#### Giving parameters to K-means black box\n",
    "\n",
    "KMeans *requires* the number of clusters (23)\n"
   ]
  },
  {
   "cell_type": "code",
   "execution_count": 10,
   "id": "6546f16b",
   "metadata": {
    "id": "6546f16b"
   },
   "outputs": [],
   "source": [
    "from sklearn.cluster import KMeans"
   ]
  },
  {
   "cell_type": "code",
   "execution_count": 11,
   "id": "50af6505",
   "metadata": {
    "id": "50af6505"
   },
   "outputs": [],
   "source": [
    "#declare our black box by calling KMeans\n",
    "##we give the black box/calculator the name my_KMeans_tool\n",
    "my_KMeans_tool=KMeans(n_clusters=23)"
   ]
  },
  {
   "cell_type": "code",
   "execution_count": 12,
   "id": "7a544e76",
   "metadata": {
    "colab": {
     "base_uri": "https://localhost:8080/"
    },
    "id": "7a544e76",
    "outputId": "e34c889d-b7d0-4b97-9c1d-467513a243ba"
   },
   "outputs": [
    {
     "name": "stdout",
     "output_type": "stream",
     "text": [
      "KMeans(n_clusters=23)\n"
     ]
    }
   ],
   "source": [
    "print(my_KMeans_tool)"
   ]
  },
  {
   "cell_type": "code",
   "execution_count": 13,
   "id": "5f490567",
   "metadata": {
    "colab": {
     "base_uri": "https://localhost:8080/",
     "height": 178
    },
    "id": "5f490567",
    "outputId": "f65b7e4d-2d1c-48e6-9cbb-f187e40f4b9a"
   },
   "outputs": [
    {
     "ename": "AttributeError",
     "evalue": "'KMeans' object has no attribute 'labels_'",
     "output_type": "error",
     "traceback": [
      "\u001b[0;31m---------------------------------------------------------------------------\u001b[0m",
      "\u001b[0;31mAttributeError\u001b[0m                            Traceback (most recent call last)",
      "\u001b[0;32m<ipython-input-13-9d53e9cea4d7>\u001b[0m in \u001b[0;36m<module>\u001b[0;34m\u001b[0m\n\u001b[1;32m      1\u001b[0m \u001b[0;31m#we havent told my_KMeans_tool about our data yet, so we expect this to fail\u001b[0m\u001b[0;34m\u001b[0m\u001b[0;34m\u001b[0m\u001b[0;34m\u001b[0m\u001b[0m\n\u001b[0;32m----> 2\u001b[0;31m \u001b[0mprint\u001b[0m\u001b[0;34m(\u001b[0m\u001b[0mmy_KMeans_tool\u001b[0m\u001b[0;34m.\u001b[0m\u001b[0mlabels_\u001b[0m\u001b[0;34m)\u001b[0m\u001b[0;34m\u001b[0m\u001b[0;34m\u001b[0m\u001b[0m\n\u001b[0m",
      "\u001b[0;31mAttributeError\u001b[0m: 'KMeans' object has no attribute 'labels_'"
     ]
    }
   ],
   "source": [
    "#we havent told my_KMeans_tool about our data yet, so we expect this to fail\n",
    "print(my_KMeans_tool.labels_)"
   ]
  },
  {
   "cell_type": "markdown",
   "id": "2d3d25c0",
   "metadata": {
    "id": "2d3d25c0"
   },
   "source": [
    "#### Black Box Operation\n",
    "sklearn (often) relies on the function \"fit_transform\" to connect the data with the algorithm"
   ]
  },
  {
   "cell_type": "code",
   "execution_count": 45,
   "id": "7ba3d4f7",
   "metadata": {
    "colab": {
     "base_uri": "https://localhost:8080/"
    },
    "id": "7ba3d4f7",
    "outputId": "1bd989da-d1d1-44c4-aa44-00da79be6fb3"
   },
   "outputs": [
    {
     "data": {
      "text/plain": [
       "array([[3.77102947, 4.54519275, 4.26060768, ..., 3.7859389 , 3.64273399,\n",
       "        5.07033858],\n",
       "       [3.58657502, 5.01968512, 3.73980095, ..., 3.05505046, 3.88277768,\n",
       "        4.85197554],\n",
       "       [3.44952673, 5.08565682, 3.87835876, ..., 3.41565026, 3.96295279,\n",
       "        5.11940752],\n",
       "       ...,\n",
       "       [4.51655119, 5.20279094, 4.51386752, ..., 4.65474668, 4.1459457 ,\n",
       "        5.16801058],\n",
       "       [4.4688548 , 2.70655571, 4.72434593, ..., 4.61880215, 3.59594233,\n",
       "        4.76532615],\n",
       "       [4.59105719, 5.20279094, 4.44565956, ..., 4.72581563, 4.1672875 ,\n",
       "        5.26387057]])"
      ]
     },
     "execution_count": 45,
     "metadata": {},
     "output_type": "execute_result"
    }
   ],
   "source": [
    "#tell my_KMeans_tool about our data\n",
    "## we ignore the output\n",
    "## notice how sklearn's KMeans flawlessly accepts a panda as input\n",
    "my_KMeans_tool.fit_transform(X=my_Panda_dummies)"
   ]
  },
  {
   "cell_type": "code",
   "execution_count": 46,
   "id": "4216fe7f",
   "metadata": {
    "colab": {
     "base_uri": "https://localhost:8080/"
    },
    "id": "4216fe7f",
    "outputId": "d0f8b230-5cc0-48b0-833b-8544ea6d6873"
   },
   "outputs": [
    {
     "name": "stdout",
     "output_type": "stream",
     "text": [
      "[ 4 11 11 ... 10  8 10]\n",
      "8124\n"
     ]
    }
   ],
   "source": [
    "#now we see that we have the labels that expected\n",
    "print(my_KMeans_tool.labels_)\n",
    "print(len(my_KMeans_tool.labels_))"
   ]
  },
  {
   "cell_type": "markdown",
   "id": "8a4f7815",
   "metadata": {
    "id": "8a4f7815"
   },
   "source": [
    "#### Done?\n"
   ]
  },
  {
   "cell_type": "markdown",
   "id": "yQ4L6Cu37ytw",
   "metadata": {
    "id": "yQ4L6Cu37ytw"
   },
   "source": [
    "\n",
    "Got a label for every data point.\n",
    "\n",
    "Philosophical viewpoint: We did perfectly, the algorithm worked exactly as intended\n",
    "\n",
    "Are our clusters meaningful?\n",
    "\n",
    "Hard to say. We could try to relate our clusters to some external dataset. We don't have that here.\n",
    "\n",
    "Lets try a visualization.\n",
    "\n",
    "In our case, we are going to:\n",
    "* Take our 114 dimensional dataset (114 columns)\n",
    "* Reduce the dimensionality to 2.\n",
    "* Plot all datapoints, getting (x,y) from dimensionality reduction and colors from clustering label.\n",
    "\n",
    "If each color of datapoints is separated from every other cluster, then we have some assurance that our dataset is \"robustly clusterable\". That's it."
   ]
  },
  {
   "cell_type": "markdown",
   "id": "a0280f3d",
   "metadata": {
    "id": "a0280f3d"
   },
   "source": [
    "## Dimensionality Reduction and Visualization\n",
    "\n"
   ]
  },
  {
   "cell_type": "markdown",
   "id": "RxsMsdz48-BS",
   "metadata": {
    "id": "RxsMsdz48-BS"
   },
   "source": [
    "#### Naive approach:"
   ]
  },
  {
   "cell_type": "markdown",
   "id": "GwiSRVLb85TB",
   "metadata": {
    "id": "GwiSRVLb85TB"
   },
   "source": [
    "choose two columns and drop all of the rest"
   ]
  },
  {
   "cell_type": "markdown",
   "id": "KhBBD_VQ-07t",
   "metadata": {
    "id": "KhBBD_VQ-07t"
   },
   "source": [
    "#### Which algorithm?\n"
   ]
  },
  {
   "cell_type": "markdown",
   "id": "Y1dJ_se9-0w1",
   "metadata": {
    "id": "Y1dJ_se9-0w1"
   },
   "source": [
    "PCA, PLS-DA, t-SNE, UMAP\n",
    "\n"
   ]
  },
  {
   "cell_type": "markdown",
   "id": "qTGIJ8Qq-0jd",
   "metadata": {
    "id": "qTGIJ8Qq-0jd"
   },
   "source": [
    "demonstrate the bredth/synergy of the python language, so we choose UMAP (not in sklearn)\n",
    "\n",
    "Even though UMAP is not in sklearn, the authors of UMAP wrote it in such a way that it \"works like\" sklearn functions."
   ]
  },
  {
   "cell_type": "markdown",
   "id": "cNqjOULP-0S3",
   "metadata": {
    "id": "cNqjOULP-0S3"
   },
   "source": [
    "#### Strategy"
   ]
  },
  {
   "cell_type": "markdown",
   "id": "98e1c8f2",
   "metadata": {
    "id": "98e1c8f2"
   },
   "source": [
    "* create our UMAP black box\n",
    "* operate that black box on our dataset\n",
    "* obtain a 2-d coordinate pair for every datapoint\n",
    "* plot those pairs, with the color of the datapoint reflecting the clustering label from KMeans"
   ]
  },
  {
   "cell_type": "markdown",
   "id": "bnr1h1ph_QdX",
   "metadata": {
    "id": "bnr1h1ph_QdX"
   },
   "source": [
    "#### Code"
   ]
  },
  {
   "cell_type": "code",
   "execution_count": 47,
   "id": "8a98590e",
   "metadata": {
    "colab": {
     "base_uri": "https://localhost:8080/",
     "height": 370
    },
    "id": "8a98590e",
    "outputId": "ef72cc44-8261-479e-a333-cb8f2358a0df"
   },
   "outputs": [],
   "source": [
    "# create our black box\n",
    "## import our library\n",
    "import umap\n",
    "\n",
    "## declare a couple of parameters that we wont get into\n",
    "n_neighbors=10\n",
    "min_dist=0.1\n",
    "n_components=2\n",
    "metric='euclidean'\n",
    "\n",
    "\n",
    "##just like last time, we declare a \"UMAP calculator\" and send a couple of parameters\n",
    "my_UMAP=umap.UMAP(n_neighbors=n_neighbors,min_dist=min_dist,n_components=n_components,metric=metric)"
   ]
  },
  {
   "cell_type": "code",
   "execution_count": 48,
   "id": "c2da8e81",
   "metadata": {
    "colab": {
     "base_uri": "https://localhost:8080/"
    },
    "id": "c2da8e81",
    "outputId": "828c486d-5b26-434a-e6d9-fa0fea915637"
   },
   "outputs": [
    {
     "name": "stdout",
     "output_type": "stream",
     "text": [
      "UMAP(dens_frac=0.0, dens_lambda=0.0, n_neighbors=10)\n"
     ]
    }
   ],
   "source": [
    "print(my_UMAP)"
   ]
  },
  {
   "cell_type": "code",
   "execution_count": 49,
   "id": "d857b5dc",
   "metadata": {
    "colab": {
     "base_uri": "https://localhost:8080/"
    },
    "id": "d857b5dc",
    "outputId": "0122a955-ce4f-4e83-989f-0b6f82008df4"
   },
   "outputs": [
    {
     "data": {
      "text/plain": [
       "array([[ -7.6440673 , -12.353603  ],\n",
       "       [ -0.26427558,   8.624089  ],\n",
       "       [ -0.47456995,   7.971237  ],\n",
       "       ...,\n",
       "       [ 11.546015  ,  -6.2244453 ],\n",
       "       [ 19.653965  ,   8.905327  ],\n",
       "       [ 11.451685  ,  -6.2179003 ]], dtype=float32)"
      ]
     },
     "execution_count": 49,
     "metadata": {},
     "output_type": "execute_result"
    }
   ],
   "source": [
    "# again, we use fit transform to inform our calculator of our dataset \n",
    "## again, notice how it flawlessly accepts a panda\n",
    "## this time, we actually want the thing that gets spit back out\n",
    "my_UMAP.fit_transform(my_Panda_dummies)"
   ]
  },
  {
   "cell_type": "markdown",
   "id": "969f072e",
   "metadata": {
    "id": "969f072e"
   },
   "source": [
    "We redo to capture the 2D coordinate list"
   ]
  },
  {
   "cell_type": "code",
   "execution_count": 50,
   "id": "cd347372",
   "metadata": {
    "colab": {
     "base_uri": "https://localhost:8080/"
    },
    "id": "cd347372",
    "outputId": "8bf8cba3-7627-4cff-cfea-cae17650e342"
   },
   "outputs": [
    {
     "name": "stdout",
     "output_type": "stream",
     "text": [
      "8124\n"
     ]
    }
   ],
   "source": [
    "# 2) and 3)\n",
    "my_numpy_2d=my_UMAP.fit_transform(my_Panda_dummies)\n",
    "print(len(my_numpy_2d))"
   ]
  },
  {
   "cell_type": "code",
   "execution_count": 51,
   "id": "k6JZWFo1Esrs",
   "metadata": {
    "id": "k6JZWFo1Esrs"
   },
   "outputs": [],
   "source": [
    "import matplotlib.pyplot as plt"
   ]
  },
  {
   "cell_type": "code",
   "execution_count": 52,
   "id": "f80a7b39",
   "metadata": {
    "colab": {
     "base_uri": "https://localhost:8080/",
     "height": 264
    },
    "id": "f80a7b39",
    "outputId": "39bac2d6-092c-46ee-9237-31ae635d15cc"
   },
   "outputs": [
    {
     "data": {
      "image/png": "[encoded data removed]",
      "text/plain": [
       "<Figure size 432x288 with 1 Axes>"
      ]
     },
     "metadata": {
      "filenames": {
       "image/png": "/Users/mberrens/Documents/GitHub/python_intensive_training/_build/jupyter_execute/chapters/07_Day3-Lecture-2_68_0.png"
      },
      "needs_background": "light"
     },
     "output_type": "display_data"
    }
   ],
   "source": [
    "#4)\n",
    "#scatter plot takes\n",
    "#list of x coordinates\n",
    "#list of y coordinates\n",
    "plt.scatter(\n",
    "    my_numpy_2d[:,0],\n",
    "    my_numpy_2d[:,1]\n",
    ")\n",
    "plt.show()"
   ]
  },
  {
   "cell_type": "code",
   "execution_count": 53,
   "id": "c8f6ea55",
   "metadata": {
    "colab": {
     "base_uri": "https://localhost:8080/",
     "height": 264
    },
    "id": "c8f6ea55",
    "outputId": "7cf0e5c7-65c6-4388-ce90-b8a41dc2d481"
   },
   "outputs": [
    {
     "data": {
      "image/png": "[encoded data removed]",
      "text/plain": [
       "<Figure size 432x288 with 1 Axes>"
      ]
     },
     "metadata": {
      "filenames": {
       "image/png": "/Users/mberrens/Documents/GitHub/python_intensive_training/_build/jupyter_execute/chapters/07_Day3-Lecture-2_69_0.png"
      },
      "needs_background": "light"
     },
     "output_type": "display_data"
    }
   ],
   "source": [
    "#4) redo with arguments to make the color in accordance wiht the KMeans cluster labels\n",
    "\n",
    "\n",
    "\n",
    "#an opacity parameter\n",
    "plt.scatter(\n",
    "    my_numpy_2d[:,0],\n",
    "    my_numpy_2d[:,1],\n",
    "    #a label list\n",
    "    c=my_KMeans_tool.labels_,\n",
    "    #a color bar (literally the rainbox)\n",
    "    cmap='gist_rainbow',\n",
    "    #make the points mildly transparent so we can see generalities\n",
    "    alpha=0.2\n",
    ")\n",
    "plt.show()"
   ]
  },
  {
   "cell_type": "markdown",
   "id": "81d99400",
   "metadata": {
    "id": "81d99400"
   },
   "source": [
    "#### Observations\n",
    "Our dimensionality reduction technique independently produced 23 visually-discernible clusters, but those clusters only partially agree with the KMeans clustering"
   ]
  },
  {
   "cell_type": "markdown",
   "id": "f0747962",
   "metadata": {
    "id": "f0747962"
   },
   "source": [
    "#### Bonus: Dim Reduction with PCA"
   ]
  },
  {
   "cell_type": "code",
   "execution_count": 54,
   "id": "55d546a4",
   "metadata": {
    "colab": {
     "base_uri": "https://localhost:8080/",
     "height": 548
    },
    "id": "55d546a4",
    "outputId": "09d24d87-e69b-400b-f5e9-705c93d1dd7c"
   },
   "outputs": [
    {
     "data": {
      "image/png": "[encoded data removed]",
      "text/plain": [
       "<Figure size 432x288 with 1 Axes>"
      ]
     },
     "metadata": {
      "filenames": {
       "image/png": "/Users/mberrens/Documents/GitHub/python_intensive_training/_build/jupyter_execute/chapters/07_Day3-Lecture-2_72_0.png"
      },
      "needs_background": "light"
     },
     "output_type": "display_data"
    },
    {
     "name": "stdout",
     "output_type": "stream",
     "text": [
      "(8124, 114)\n",
      "(8124,)\n"
     ]
    },
    {
     "data": {
      "image/png": "[encoded data removed]",
      "text/plain": [
       "<Figure size 432x288 with 1 Axes>"
      ]
     },
     "metadata": {
      "filenames": {
       "image/png": "/Users/mberrens/Documents/GitHub/python_intensive_training/_build/jupyter_execute/chapters/07_Day3-Lecture-2_72_2.png"
      },
      "needs_background": "light"
     },
     "output_type": "display_data"
    }
   ],
   "source": [
    "import matplotlib.pyplot as plt\n",
    "from sklearn.decomposition import PCA\n",
    "my_PCA=PCA()\n",
    "my_PCAd_coordinates=my_PCA.fit_transform(my_Panda_dummies)\n",
    "plt.scatter(range(len(my_PCA.explained_variance_ratio_)),my_PCA.explained_variance_ratio_)\n",
    "plt.show()\n",
    "print(my_PCAd_coordinates.shape)\n",
    "print(my_PCAd_coordinates[:,0].shape)\n",
    "plt.scatter(my_PCAd_coordinates[:,0],my_PCAd_coordinates[:,1],c=my_KMeans_tool.labels_,cmap='gist_rainbow',alpha=0.2)\n",
    "plt.show()"
   ]
  }
 ],
 "metadata": {
  "colab": {
   "collapsed_sections": [
    "kNUAiEUKZDVb",
    "r6nmnsRC2waQ",
    "9384f3f7",
    "2d3d25c0",
    "8a4f7815",
    "a0280f3d",
    "RxsMsdz48-BS",
    "KhBBD_VQ-07t",
    "cNqjOULP-0S3",
    "bnr1h1ph_QdX",
    "81d99400",
    "f0747962"
   ],
   "name": "Day3_Lecture.ipynb",
   "provenance": []
  },
  "kernelspec": {
   "display_name": "Python 3",
   "language": "python",
   "name": "python3"
  },
  "language_info": {
   "codemirror_mode": {
    "name": "ipython",
    "version": 3
   },
   "file_extension": ".py",
   "mimetype": "text/x-python",
   "name": "python",
   "nbconvert_exporter": "python",
   "pygments_lexer": "ipython3",
   "version": "3.8.8"
  }
 },
 "nbformat": 4,
 "nbformat_minor": 5
}