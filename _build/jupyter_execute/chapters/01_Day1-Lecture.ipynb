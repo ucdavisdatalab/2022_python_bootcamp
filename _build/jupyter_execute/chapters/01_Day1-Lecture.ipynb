{
 "cells": [
  {
   "cell_type": "markdown",
   "metadata": {
    "id": "iSuFEZ0Heytu"
   },
   "source": [
    "# **Day 1**\n",
    "\n"
   ]
  },
  {
   "cell_type": "markdown",
   "metadata": {
    "id": "IMgqV3OYb8xX"
   },
   "source": [
    "## **Why Coding and Python?**\n",
    "\n",
    "\n",
    "\n",
    "*   Great for data processing and simulations\n",
    "*   Coding is fast at dealing with large amounts of data and math\n",
    "*   Python, very versatile and popular\n",
    "*   Very active community developing libraries for it\n",
    "*   One of the more user beginner friendly languages\n",
    "*   Skills transfer to other languages\n",
    "\n",
    "\n",
    "The goal of this workshop is to teach you the practical basics and fundamentals, but also show you how to access resources and teach yourself.\n",
    "\n"
   ]
  },
  {
   "cell_type": "markdown",
   "metadata": {
    "id": "hWaystU3bmnw"
   },
   "source": [
    "## Part 1: Variables\n",
    "\n",
    "Variables are at the core of coding. Each variable contains a piece of data once assigned.\n",
    "\n",
    "Types\n",
    "\n",
    "\n",
    "*   Integers\n",
    "*   Floats (decimals)\n",
    "*   Strings (text)\n",
    "\n"
   ]
  },
  {
   "cell_type": "code",
   "execution_count": 1,
   "metadata": {
    "id": "GzNlsyoTh1jv"
   },
   "outputs": [],
   "source": [
    "a = 4\n",
    "b = 4.0\n",
    "c = 'four'\n",
    "examplevariable = 54"
   ]
  },
  {
   "cell_type": "markdown",
   "metadata": {
    "id": "Kv0iM1iWh8Y8"
   },
   "source": [
    "To see what code does, we need a way for it display information to us. That's the `print()` function. Whatever goes in the parentheses will be printed out for us. Notice that even though I inputted 'b' below, it showed us `4.0` instead of `b`. That's because we assigned `b` as a variable above:"
   ]
  },
  {
   "cell_type": "code",
   "execution_count": 2,
   "metadata": {
    "colab": {
     "base_uri": "https://localhost:8080/"
    },
    "executionInfo": {
     "elapsed": 145,
     "status": "ok",
     "timestamp": 1631768356656,
     "user": {
      "displayName": "Nathan Yoshino",
      "photoUrl": "https://lh3.googleusercontent.com/a/default-user=s64",
      "userId": "00687073007003486401"
     },
     "user_tz": 420
    },
    "id": "iQykz2KiieBc",
    "outputId": "a13e06fe-2edd-47e7-b4a1-791d778488cd"
   },
   "outputs": [
    {
     "name": "stdout",
     "output_type": "stream",
     "text": [
      "4.0\n"
     ]
    }
   ],
   "source": [
    "print(b)"
   ]
  },
  {
   "cell_type": "markdown",
   "metadata": {
    "id": "7UBMEKsMiibB"
   },
   "source": [
    "Alternatively, we can directly tell the Python to print the float 4.0:"
   ]
  },
  {
   "cell_type": "code",
   "execution_count": 3,
   "metadata": {
    "colab": {
     "base_uri": "https://localhost:8080/"
    },
    "executionInfo": {
     "elapsed": 6,
     "status": "ok",
     "timestamp": 1631768358073,
     "user": {
      "displayName": "Nathan Yoshino",
      "photoUrl": "https://lh3.googleusercontent.com/a/default-user=s64",
      "userId": "00687073007003486401"
     },
     "user_tz": 420
    },
    "id": "ZiKXeUGrix2i",
    "outputId": "acfa4fb5-df35-42bb-c663-b6f8ea19b5b3"
   },
   "outputs": [
    {
     "name": "stdout",
     "output_type": "stream",
     "text": [
      "4.0\n"
     ]
    }
   ],
   "source": [
    "print(4.0)"
   ]
  },
  {
   "cell_type": "markdown",
   "metadata": {
    "id": "UQn1KwOri7aA"
   },
   "source": [
    "`print` is what we call a function in Python. It takes an input then perfroms an action. We'll learn more about those tomorrow.\n",
    "\n",
    " If we wanted to actually print 'b' instead of what we have assigned it to, we can directly put the string into the function:"
   ]
  },
  {
   "cell_type": "code",
   "execution_count": 4,
   "metadata": {
    "colab": {
     "base_uri": "https://localhost:8080/"
    },
    "executionInfo": {
     "elapsed": 151,
     "status": "ok",
     "timestamp": 1631768359624,
     "user": {
      "displayName": "Nathan Yoshino",
      "photoUrl": "https://lh3.googleusercontent.com/a/default-user=s64",
      "userId": "00687073007003486401"
     },
     "user_tz": 420
    },
    "id": "78w7EKpDi4Ne",
    "outputId": "6314a210-bbfb-4fa7-d19f-1391c73ffad3"
   },
   "outputs": [
    {
     "name": "stdout",
     "output_type": "stream",
     "text": [
      "b\n"
     ]
    }
   ],
   "source": [
    "print('b')"
   ]
  },
  {
   "cell_type": "markdown",
   "metadata": {
    "id": "XMqeCgpnjMa9"
   },
   "source": [
    "By putting quotes around it, 'b' is no longer a variable and is now just text part of a string. The `print` function is incredibly useful in outputting data, debugging, and developing. As a final note, print can output multiple variables or objects with one command:"
   ]
  },
  {
   "cell_type": "code",
   "execution_count": 5,
   "metadata": {
    "colab": {
     "base_uri": "https://localhost:8080/"
    },
    "executionInfo": {
     "elapsed": 151,
     "status": "ok",
     "timestamp": 1631768360745,
     "user": {
      "displayName": "Nathan Yoshino",
      "photoUrl": "https://lh3.googleusercontent.com/a/default-user=s64",
      "userId": "00687073007003486401"
     },
     "user_tz": 420
    },
    "id": "1cxM15XekCGZ",
    "outputId": "d3598e8f-bd6b-4e82-a8ff-b06f87177950"
   },
   "outputs": [
    {
     "name": "stdout",
     "output_type": "stream",
     "text": [
      "4 4.0 four 54\n"
     ]
    }
   ],
   "source": [
    "print(a,b,c, examplevariable)"
   ]
  },
  {
   "cell_type": "code",
   "execution_count": 6,
   "metadata": {
    "colab": {
     "base_uri": "https://localhost:8080/"
    },
    "executionInfo": {
     "elapsed": 147,
     "status": "ok",
     "timestamp": 1631768361715,
     "user": {
      "displayName": "Nathan Yoshino",
      "photoUrl": "https://lh3.googleusercontent.com/a/default-user=s64",
      "userId": "00687073007003486401"
     },
     "user_tz": 420
    },
    "id": "46TIN0i1kJty",
    "outputId": "6fa49521-bc38-4154-8a2b-81c27850da5a"
   },
   "outputs": [
    {
     "name": "stdout",
     "output_type": "stream",
     "text": [
      "The value of b is 4.0\n"
     ]
    }
   ],
   "source": [
    "print('The value of b is',b)"
   ]
  },
  {
   "cell_type": "code",
   "execution_count": 7,
   "metadata": {
    "colab": {
     "base_uri": "https://localhost:8080/"
    },
    "executionInfo": {
     "elapsed": 7,
     "status": "ok",
     "timestamp": 1631768362637,
     "user": {
      "displayName": "Nathan Yoshino",
      "photoUrl": "https://lh3.googleusercontent.com/a/default-user=s64",
      "userId": "00687073007003486401"
     },
     "user_tz": 420
    },
    "id": "QkuEh6nGkdU2",
    "outputId": "0f8b2160-8ceb-493f-c6a1-77c70be9b1ad"
   },
   "outputs": [
    {
     "name": "stdout",
     "output_type": "stream",
     "text": [
      "4.0 is spelled four\n"
     ]
    }
   ],
   "source": [
    "print(b,'is spelled',c)"
   ]
  },
  {
   "cell_type": "markdown",
   "metadata": {
    "id": "uoL1d-bklAX4"
   },
   "source": [
    "Finally, we can change variable types using the following functions:\n"
   ]
  },
  {
   "cell_type": "code",
   "execution_count": 8,
   "metadata": {
    "colab": {
     "base_uri": "https://localhost:8080/"
    },
    "executionInfo": {
     "elapsed": 153,
     "status": "ok",
     "timestamp": 1631768364495,
     "user": {
      "displayName": "Nathan Yoshino",
      "photoUrl": "https://lh3.googleusercontent.com/a/default-user=s64",
      "userId": "00687073007003486401"
     },
     "user_tz": 420
    },
    "id": "ee6cCl8fkj3O",
    "outputId": "6f3c9463-42f1-490f-f67b-e1fda83ece3b"
   },
   "outputs": [
    {
     "name": "stdout",
     "output_type": "stream",
     "text": [
      "7.2\n",
      "7\n",
      "7.2\n"
     ]
    }
   ],
   "source": [
    "var = 7.2\n",
    "print(var)\n",
    "print(int(var))\n",
    "print(str(var))"
   ]
  },
  {
   "cell_type": "markdown",
   "metadata": {
    "id": "zCT9R-HqnqvR"
   },
   "source": [
    "Variables can contain numbers, but not start with them!"
   ]
  },
  {
   "cell_type": "code",
   "execution_count": 9,
   "metadata": {
    "colab": {
     "base_uri": "https://localhost:8080/",
     "height": 129
    },
    "executionInfo": {
     "elapsed": 243,
     "status": "error",
     "timestamp": 1631768365514,
     "user": {
      "displayName": "Nathan Yoshino",
      "photoUrl": "https://lh3.googleusercontent.com/a/default-user=s64",
      "userId": "00687073007003486401"
     },
     "user_tz": 420
    },
    "id": "45dOQaoInv-O",
    "outputId": "94779b0b-f7db-43bf-fe98-526f46231513"
   },
   "outputs": [
    {
     "ename": "SyntaxError",
     "evalue": "invalid syntax (<ipython-input-9-0b5199b48ea9>, line 1)",
     "output_type": "error",
     "traceback": [
      "\u001b[0;36m  File \u001b[0;32m\"<ipython-input-9-0b5199b48ea9>\"\u001b[0;36m, line \u001b[0;32m1\u001b[0m\n\u001b[0;31m    2014total = 2\u001b[0m\n\u001b[0m        ^\u001b[0m\n\u001b[0;31mSyntaxError\u001b[0m\u001b[0;31m:\u001b[0m invalid syntax\n"
     ]
    }
   ],
   "source": [
    "2014total = 2\n",
    "print( 2014total )"
   ]
  },
  {
   "cell_type": "markdown",
   "metadata": {
    "id": "T3SdSnf8c_xf"
   },
   "source": [
    "## Part 2: Operations and Basic Math\n",
    "With integers and floats we can perform a lot basic math with Python:\n",
    "\n"
   ]
  },
  {
   "cell_type": "code",
   "execution_count": null,
   "metadata": {
    "colab": {
     "base_uri": "https://localhost:8080/"
    },
    "executionInfo": {
     "elapsed": 135,
     "status": "ok",
     "timestamp": 1631768367305,
     "user": {
      "displayName": "Nathan Yoshino",
      "photoUrl": "https://lh3.googleusercontent.com/a/default-user=s64",
      "userId": "00687073007003486401"
     },
     "user_tz": 420
    },
    "id": "ZaKmPzUzmHxK",
    "outputId": "3b56f987-fba7-419a-e91e-2ac264737c40"
   },
   "outputs": [
    {
     "name": "stdout",
     "output_type": "stream",
     "text": [
      "13\n",
      "-5\n",
      "36\n",
      "36\n",
      "3.0\n",
      "81\n"
     ]
    }
   ],
   "source": [
    "s = 4\n",
    "t = 9\n",
    "\n",
    "added = s + t\n",
    "print(added)\n",
    "subtracted = s - t\n",
    "print(subtracted)\n",
    "multiplied = s * t\n",
    "print(multiplied)\n",
    "print(t*s)\n",
    "print(t/3)\n",
    "print(t**2)"
   ]
  },
  {
   "cell_type": "markdown",
   "metadata": {
    "id": "3TPtvsEmmHT-"
   },
   "source": [
    "Python will follow the basic order of operations, so use parentheses ot accomplish what you want:"
   ]
  },
  {
   "cell_type": "code",
   "execution_count": null,
   "metadata": {
    "colab": {
     "base_uri": "https://localhost:8080/"
    },
    "executionInfo": {
     "elapsed": 150,
     "status": "ok",
     "timestamp": 1631768369144,
     "user": {
      "displayName": "Nathan Yoshino",
      "photoUrl": "https://lh3.googleusercontent.com/a/default-user=s64",
      "userId": "00687073007003486401"
     },
     "user_tz": 420
    },
    "id": "JFNkoK2Wm-Sq",
    "outputId": "5c8514db-a7ef-49b8-cf7f-be211ce0fb41"
   },
   "outputs": [
    {
     "name": "stdout",
     "output_type": "stream",
     "text": [
      "4.5\n",
      "3.0\n"
     ]
    }
   ],
   "source": [
    "print( t**1/2 )\n",
    "print( t**(1/2))"
   ]
  },
  {
   "cell_type": "markdown",
   "metadata": {
    "id": "FPk0rEPBlphe"
   },
   "source": [
    "As a note, floats and integers can be operated together even though they are different variable types."
   ]
  },
  {
   "cell_type": "code",
   "execution_count": null,
   "metadata": {
    "colab": {
     "base_uri": "https://localhost:8080/",
     "height": 213
    },
    "executionInfo": {
     "elapsed": 137,
     "status": "error",
     "timestamp": 1631768370957,
     "user": {
      "displayName": "Nathan Yoshino",
      "photoUrl": "https://lh3.googleusercontent.com/a/default-user=s64",
      "userId": "00687073007003486401"
     },
     "user_tz": 420
    },
    "id": "DUPuWqGUn5q-",
    "outputId": "051b9011-6e00-499f-882a-02bb172e5d14"
   },
   "outputs": [
    {
     "name": "stdout",
     "output_type": "stream",
     "text": [
      "10.0\n"
     ]
    },
    {
     "ename": "TypeError",
     "evalue": "ignored",
     "output_type": "error",
     "traceback": [
      "\u001b[0;31m---------------------------------------------------------------------------\u001b[0m",
      "\u001b[0;31mTypeError\u001b[0m                                 Traceback (most recent call last)",
      "\u001b[0;32m<ipython-input-18-c66be780a72b>\u001b[0m in \u001b[0;36m<module>\u001b[0;34m()\u001b[0m\n\u001b[1;32m      4\u001b[0m \u001b[0;34m\u001b[0m\u001b[0m\n\u001b[1;32m      5\u001b[0m \u001b[0mprint\u001b[0m\u001b[0;34m(\u001b[0m\u001b[0mm\u001b[0m\u001b[0;34m+\u001b[0m\u001b[0mn\u001b[0m\u001b[0;34m)\u001b[0m\u001b[0;34m\u001b[0m\u001b[0;34m\u001b[0m\u001b[0m\n\u001b[0;32m----> 6\u001b[0;31m \u001b[0mprint\u001b[0m\u001b[0;34m(\u001b[0m\u001b[0mm\u001b[0m\u001b[0;34m+\u001b[0m\u001b[0mo\u001b[0m\u001b[0;34m)\u001b[0m\u001b[0;34m\u001b[0m\u001b[0;34m\u001b[0m\u001b[0m\n\u001b[0m",
      "\u001b[0;31mTypeError\u001b[0m: unsupported operand type(s) for +: 'float' and 'str'"
     ]
    }
   ],
   "source": [
    "m = 8.0\n",
    "n = 2\n",
    "o = '4'\n",
    "\n",
    "print(m+n)\n",
    "print(m+o)"
   ]
  },
  {
   "cell_type": "markdown",
   "metadata": {
    "id": "cIAAG7Z_oWGi"
   },
   "source": [
    "Be careful when re-assigning variables! If a variables is assigned a second time, it will overwrite the first."
   ]
  },
  {
   "cell_type": "code",
   "execution_count": null,
   "metadata": {
    "colab": {
     "base_uri": "https://localhost:8080/"
    },
    "executionInfo": {
     "elapsed": 154,
     "status": "ok",
     "timestamp": 1631768309188,
     "user": {
      "displayName": "Nathan Yoshino",
      "photoUrl": "https://lh3.googleusercontent.com/a/default-user=s64",
      "userId": "00687073007003486401"
     },
     "user_tz": 420
    },
    "id": "seJ0BnGPoUfk",
    "outputId": "9b698b21-8991-42bc-c263-e91124ddf681"
   },
   "outputs": [
    {
     "name": "stdout",
     "output_type": "stream",
     "text": [
      "8\n"
     ]
    }
   ],
   "source": [
    "m = 6\n",
    "p = m+n\n",
    "print(p)"
   ]
  },
  {
   "cell_type": "markdown",
   "metadata": {
    "id": "rpe6ZdMBov82"
   },
   "source": [
    "However, variables are not inherently linked. In the example below, when we assigned `r`, it is equal to `m + n` (6 + 2). Even though we change `m = 5` in the next line, `r` is still 6 + 2.\n"
   ]
  },
  {
   "cell_type": "code",
   "execution_count": null,
   "metadata": {
    "colab": {
     "base_uri": "https://localhost:8080/"
    },
    "executionInfo": {
     "elapsed": 144,
     "status": "ok",
     "timestamp": 1631768377692,
     "user": {
      "displayName": "Nathan Yoshino",
      "photoUrl": "https://lh3.googleusercontent.com/a/default-user=s64",
      "userId": "00687073007003486401"
     },
     "user_tz": 420
    },
    "id": "LBLppU8cotyr",
    "outputId": "eb38c1f9-5000-4c0c-98f9-3d658c0626a3"
   },
   "outputs": [
    {
     "name": "stdout",
     "output_type": "stream",
     "text": [
      "10.0\n",
      "10.0\n",
      "7\n"
     ]
    }
   ],
   "source": [
    "r = m + n\n",
    "print(r)\n",
    "m = 5\n",
    "print(r)\n",
    "r  = m + n\n",
    "print(r)\n",
    "\n"
   ]
  },
  {
   "cell_type": "markdown",
   "metadata": {
    "id": "DOU21PAboIwq"
   },
   "source": [
    "## Part 3: Lists\n"
   ]
  },
  {
   "cell_type": "markdown",
   "metadata": {
    "id": "3JO1NmgJoO_F"
   },
   "source": [
    "Lists are one of many ways to store multiple pieces of data. Use `[]` to create them and separate data with commas. "
   ]
  },
  {
   "cell_type": "code",
   "execution_count": null,
   "metadata": {
    "colab": {
     "base_uri": "https://localhost:8080/"
    },
    "executionInfo": {
     "elapsed": 145,
     "status": "ok",
     "timestamp": 1631768381748,
     "user": {
      "displayName": "Nathan Yoshino",
      "photoUrl": "https://lh3.googleusercontent.com/a/default-user=s64",
      "userId": "00687073007003486401"
     },
     "user_tz": 420
    },
    "id": "_VTyU56ioEnp",
    "outputId": "b7644761-8c4a-4f35-c80c-1080afe5ee33"
   },
   "outputs": [
    {
     "name": "stdout",
     "output_type": "stream",
     "text": [
      "[4, 4.0, 'four']\n",
      "[4, 4.0, 'four']\n"
     ]
    }
   ],
   "source": [
    "mylist = [a, b, c]\n",
    "print(mylist)\n",
    "mylist2 = [4, 4.0, 'four']\n",
    "print(mylist2)"
   ]
  },
  {
   "cell_type": "markdown",
   "metadata": {
    "id": "vSJn5G3mqEYi"
   },
   "source": [
    "Most of the time, everything in your list will be the same variables type. Using the `append()` function you can add more to your list.\n",
    "\n"
   ]
  },
  {
   "cell_type": "code",
   "execution_count": null,
   "metadata": {
    "colab": {
     "base_uri": "https://localhost:8080/"
    },
    "executionInfo": {
     "elapsed": 141,
     "status": "ok",
     "timestamp": 1631768390071,
     "user": {
      "displayName": "Nathan Yoshino",
      "photoUrl": "https://lh3.googleusercontent.com/a/default-user=s64",
      "userId": "00687073007003486401"
     },
     "user_tz": 420
    },
    "id": "-AT-zoudqakj",
    "outputId": "c4fb8c37-168e-4c3a-cf98-df7b5f4bbc6f"
   },
   "outputs": [
    {
     "name": "stdout",
     "output_type": "stream",
     "text": [
      "[4, 4.0, 'four', 'five']\n"
     ]
    }
   ],
   "source": [
    "mylist.append('five')\n",
    "print(mylist)"
   ]
  },
  {
   "cell_type": "markdown",
   "metadata": {
    "id": "cmSOHKPKqzPw"
   },
   "source": [
    "Unfortunately, operations don't work as you would expect them to with lists."
   ]
  },
  {
   "cell_type": "code",
   "execution_count": null,
   "metadata": {
    "colab": {
     "base_uri": "https://localhost:8080/"
    },
    "executionInfo": {
     "elapsed": 141,
     "status": "ok",
     "timestamp": 1631768395586,
     "user": {
      "displayName": "Nathan Yoshino",
      "photoUrl": "https://lh3.googleusercontent.com/a/default-user=s64",
      "userId": "00687073007003486401"
     },
     "user_tz": 420
    },
    "id": "OwPtU4l1q79f",
    "outputId": "08104742-d27a-469a-a8ef-b50978137997"
   },
   "outputs": [
    {
     "name": "stdout",
     "output_type": "stream",
     "text": [
      "[1, 2, 3, 4, 5, 2, 2, 2, 2, 2]\n",
      "[1, 2, 3, 4, 5, 1, 2, 3, 4, 5, 1, 2, 3, 4, 5]\n"
     ]
    }
   ],
   "source": [
    "list1 = [1,2,3,4,5]\n",
    "list2 = [2,2,2,2,2]\n",
    "\n",
    "print(list1+list2)\n",
    "print(list1*3)"
   ]
  },
  {
   "cell_type": "markdown",
   "metadata": {
    "id": "MYptbokJrUvH"
   },
   "source": [
    "How can we do math with lists then? We first need to talk about indexing lists and loops. If we only want a specific piece of data in a list, we have to use it's index."
   ]
  },
  {
   "cell_type": "code",
   "execution_count": null,
   "metadata": {
    "colab": {
     "base_uri": "https://localhost:8080/"
    },
    "executionInfo": {
     "elapsed": 511,
     "status": "ok",
     "timestamp": 1631715548275,
     "user": {
      "displayName": "Nathan Yoshino",
      "photoUrl": "https://lh3.googleusercontent.com/a/default-user=s64",
      "userId": "00687073007003486401"
     },
     "user_tz": 420
    },
    "id": "zdO2TtHPreWv",
    "outputId": "8735bc43-c743-4dcb-f1bc-ddb9dcb46f3e"
   },
   "outputs": [
    {
     "name": "stdout",
     "output_type": "stream",
     "text": [
      "april\n"
     ]
    }
   ],
   "source": [
    "months = ['jan','feb','march','april','may']\n",
    "print(months[3])"
   ]
  },
  {
   "cell_type": "code",
   "execution_count": null,
   "metadata": {
    "colab": {
     "base_uri": "https://localhost:8080/"
    },
    "executionInfo": {
     "elapsed": 154,
     "status": "ok",
     "timestamp": 1631715549408,
     "user": {
      "displayName": "Nathan Yoshino",
      "photoUrl": "https://lh3.googleusercontent.com/a/default-user=s64",
      "userId": "00687073007003486401"
     },
     "user_tz": 420
    },
    "id": "JEn3e4CosGRu",
    "outputId": "e9dd32ce-cd92-460f-d989-45feeed5e477"
   },
   "outputs": [
    {
     "name": "stdout",
     "output_type": "stream",
     "text": [
      "3\n"
     ]
    }
   ],
   "source": [
    "print(list1[0]+list2[0])"
   ]
  },
  {
   "cell_type": "markdown",
   "metadata": {
    "id": "Tbr0zDw_upnD"
   },
   "source": [
    "So now, for each element in the list, I could manually add them together with each index. That sounds like a lot work though. This is where loops are helpful."
   ]
  },
  {
   "cell_type": "markdown",
   "metadata": {
    "id": "4hKS0msKcw_L"
   },
   "source": [
    "## Part 4: Loops\n",
    "Loops are an essential part of coding. Many times, there is an operation we want to repeat over and over. Loops help us accomlish this. As we saw with `mylist` above, we can't perform math on lists. But we can \"loop\" over each individual element and perform the math. This is called a for loop."
   ]
  },
  {
   "cell_type": "code",
   "execution_count": null,
   "metadata": {
    "colab": {
     "base_uri": "https://localhost:8080/"
    },
    "executionInfo": {
     "elapsed": 137,
     "status": "ok",
     "timestamp": 1631768450124,
     "user": {
      "displayName": "Nathan Yoshino",
      "photoUrl": "https://lh3.googleusercontent.com/a/default-user=s64",
      "userId": "00687073007003486401"
     },
     "user_tz": 420
    },
    "id": "BS1FMpOcn4QG",
    "outputId": "d28db680-01f3-447a-d19c-7244ac53e345"
   },
   "outputs": [
    {
     "name": "stdout",
     "output_type": "stream",
     "text": [
      "[12]\n",
      "[12, 21]\n",
      "[12, 21, 12]\n",
      "[12, 21, 12, 18]\n",
      "[12, 21, 12, 18, 9]\n"
     ]
    }
   ],
   "source": [
    "list3 = [4,7,4,6,3]\n",
    "\n",
    "newlist = []\n",
    "\n",
    "#This line basically says, go over each element in list3 and assign that element to i\n",
    "#So, the first iteration, i is equal to 4, then 7, and so forth\n",
    "for i in list3:\n",
    "  newlist.append(i*3)\n",
    "  print (newlist)"
   ]
  },
  {
   "cell_type": "markdown",
   "metadata": {
    "id": "1PwU5dGMdykZ"
   },
   "source": [
    "Another way to make for loops is by iterating over a range of numbers. This lets us loop over the index of multiple lists:"
   ]
  },
  {
   "cell_type": "code",
   "execution_count": null,
   "metadata": {
    "colab": {
     "base_uri": "https://localhost:8080/"
    },
    "executionInfo": {
     "elapsed": 144,
     "status": "ok",
     "timestamp": 1631768685299,
     "user": {
      "displayName": "Nathan Yoshino",
      "photoUrl": "https://lh3.googleusercontent.com/a/default-user=s64",
      "userId": "00687073007003486401"
     },
     "user_tz": 420
    },
    "id": "xwVf6viQtpor",
    "outputId": "c63071cc-c34c-44ae-f72f-3e028e7705eb"
   },
   "outputs": [
    {
     "name": "stdout",
     "output_type": "stream",
     "text": [
      "0\n",
      "1\n",
      "2\n",
      "3\n",
      "4\n",
      "[3, 4, 5, 6, 7]\n"
     ]
    }
   ],
   "source": [
    "list1 = [1,2,3,4,5]\n",
    "list2 = [2,2,2,2,2]\n",
    "\n",
    "#We need to create an empy list before we can append anything to it.\n",
    "addedlist = []\n",
    "\n",
    "#This time, by looping over a range, i will be 0 the first iteration, and increase by one each time.\n",
    "for i in range(5):\n",
    "  print(i)\n",
    "  #The next line effectively adds the corresponding elements of list1 and list2 together\n",
    "  #ie, the first element of list1 is added to the first element of list2, the second element of list1 is added to the second element of list2\n",
    "  addedlist.append(list1[i] + list2[i])\n",
    "\n",
    "print(addedlist)"
   ]
  },
  {
   "cell_type": "code",
   "execution_count": null,
   "metadata": {
    "id": "2YzxJZ5e_laM"
   },
   "outputs": [],
   "source": []
  },
  {
   "cell_type": "markdown",
   "metadata": {
    "id": "WkuR2PomucTu"
   },
   "source": [
    "Time permitting: review the `len()` function. If you put a list into the `len()` function, it will tell you how many elements are in that list. Using this, the for loop can detect the length of your list automatically to set the number of iterations.\n"
   ]
  },
  {
   "cell_type": "code",
   "execution_count": null,
   "metadata": {
    "colab": {
     "base_uri": "https://localhost:8080/"
    },
    "executionInfo": {
     "elapsed": 148,
     "status": "ok",
     "timestamp": 1631768687497,
     "user": {
      "displayName": "Nathan Yoshino",
      "photoUrl": "https://lh3.googleusercontent.com/a/default-user=s64",
      "userId": "00687073007003486401"
     },
     "user_tz": 420
    },
    "id": "0ygF-BOHvVc4",
    "outputId": "89d4318e-9fd6-4cba-9b34-561eb59bb056"
   },
   "outputs": [
    {
     "name": "stdout",
     "output_type": "stream",
     "text": [
      "5\n"
     ]
    }
   ],
   "source": [
    "print(len(list1))"
   ]
  },
  {
   "cell_type": "code",
   "execution_count": null,
   "metadata": {
    "colab": {
     "base_uri": "https://localhost:8080/"
    },
    "executionInfo": {
     "elapsed": 136,
     "status": "ok",
     "timestamp": 1631768729328,
     "user": {
      "displayName": "Nathan Yoshino",
      "photoUrl": "https://lh3.googleusercontent.com/a/default-user=s64",
      "userId": "00687073007003486401"
     },
     "user_tz": 420
    },
    "id": "XSXzETVfvq3f",
    "outputId": "32e17a6a-e264-4dcb-da17-c94c5155725b"
   },
   "outputs": [
    {
     "name": "stdout",
     "output_type": "stream",
     "text": [
      "3\n",
      "4\n",
      "5\n",
      "6\n",
      "7\n",
      "[3, 4, 5, 6, 7]\n"
     ]
    }
   ],
   "source": [
    "addedlist = []\n",
    "for i in range(len(list1)):\n",
    "  print(list1[i] + list2[i])\n",
    "  addedlist.append(list1[i] + list2[i])\n",
    "\n",
    "print(addedlist)"
   ]
  },
  {
   "cell_type": "markdown",
   "metadata": {
    "id": "PSdKt6jk788a"
   },
   "source": [
    "Note, this is not the fastest way to add lists together but we will get more into that Day 2."
   ]
  },
  {
   "cell_type": "markdown",
   "metadata": {
    "id": "Kj_l4chEePce"
   },
   "source": [
    "## Part 5: Basic NumPy\n",
    "Numpy is a mathematical based library with extra capabilities. Libraries are \"add-ons\" developed by other programmers. They add extra functions and capabilities. To import NumPy use the command below:"
   ]
  },
  {
   "cell_type": "code",
   "execution_count": null,
   "metadata": {
    "id": "uYF2dqG0v2iR"
   },
   "outputs": [],
   "source": [
    "import numpy as np"
   ]
  },
  {
   "cell_type": "markdown",
   "metadata": {
    "id": "lEvxQKlpx8m4"
   },
   "source": [
    "Now whenever we want to use a NumPy command, refer to it with `np.`"
   ]
  },
  {
   "cell_type": "code",
   "execution_count": null,
   "metadata": {
    "colab": {
     "base_uri": "https://localhost:8080/"
    },
    "executionInfo": {
     "elapsed": 295,
     "status": "ok",
     "timestamp": 1631715569168,
     "user": {
      "displayName": "Nathan Yoshino",
      "photoUrl": "https://lh3.googleusercontent.com/a/default-user=s64",
      "userId": "00687073007003486401"
     },
     "user_tz": 420
    },
    "id": "X1p3QThxzLqm",
    "outputId": "faac4f07-4184-456c-c4ec-620076b28770"
   },
   "outputs": [
    {
     "name": "stdout",
     "output_type": "stream",
     "text": [
      "0.6931471805599453\n",
      "10.0\n"
     ]
    }
   ],
   "source": [
    "k = np.log(2)\n",
    "print(k)\n",
    "\n",
    "l = np.sqrt(100)\n",
    "print(l)"
   ]
  },
  {
   "cell_type": "markdown",
   "metadata": {
    "id": "7xN4583az5bS"
   },
   "source": [
    "`np.linspace`  can be a useful tool. It creaes an array (similar to a list but more on that tomorrow) that starts and stops at the first 2 numbers. The third number you input contains the total number of elements evenly spaced."
   ]
  },
  {
   "cell_type": "code",
   "execution_count": null,
   "metadata": {
    "colab": {
     "base_uri": "https://localhost:8080/"
    },
    "executionInfo": {
     "elapsed": 142,
     "status": "ok",
     "timestamp": 1631715570483,
     "user": {
      "displayName": "Nathan Yoshino",
      "photoUrl": "https://lh3.googleusercontent.com/a/default-user=s64",
      "userId": "00687073007003486401"
     },
     "user_tz": 420
    },
    "id": "LAFklL8Uz4QB",
    "outputId": "606626c0-1548-40db-c46a-2c8b025e5953"
   },
   "outputs": [
    {
     "name": "stdout",
     "output_type": "stream",
     "text": [
      "[  0.   2.   4.   6.   8.  10.  12.  14.  16.  18.  20.  22.  24.  26.\n",
      "  28.  30.  32.  34.  36.  38.  40.  42.  44.  46.  48.  50.  52.  54.\n",
      "  56.  58.  60.  62.  64.  66.  68.  70.  72.  74.  76.  78.  80.  82.\n",
      "  84.  86.  88.  90.  92.  94.  96.  98. 100.]\n"
     ]
    }
   ],
   "source": [
    "numbers = np.linspace(0, 100, 51)\n",
    "print(numbers)"
   ]
  },
  {
   "cell_type": "markdown",
   "metadata": {
    "id": "-TDJ8bUsebFq"
   },
   "source": [
    "## Part 6: Simple Plotting\n"
   ]
  },
  {
   "cell_type": "markdown",
   "metadata": {
    "id": "2P2ILB35fZcY"
   },
   "source": [
    "Similar to NumPy, plotting also requires a library. Here is how you import it:"
   ]
  },
  {
   "cell_type": "code",
   "execution_count": null,
   "metadata": {
    "id": "q0t6nF2X1Nem"
   },
   "outputs": [],
   "source": [
    "import matplotlib.pyplot as plt"
   ]
  },
  {
   "cell_type": "markdown",
   "metadata": {
    "id": "ZWVpCExQ1QsM"
   },
   "source": [
    "So any commands we need to do with plotting will have to use `plt.` first. For now, let's just show 2 basic types of plots. Create some arbitrary x values and y values to plot. Then, it's just a matter of plugging in the values into the correct functions and displaying the graph."
   ]
  },
  {
   "cell_type": "code",
   "execution_count": null,
   "metadata": {
    "colab": {
     "base_uri": "https://localhost:8080/",
     "height": 265
    },
    "executionInfo": {
     "elapsed": 267,
     "status": "ok",
     "timestamp": 1631716458316,
     "user": {
      "displayName": "Nathan Yoshino",
      "photoUrl": "https://lh3.googleusercontent.com/a/default-user=s64",
      "userId": "00687073007003486401"
     },
     "user_tz": 420
    },
    "id": "DNZUahGP1jye",
    "outputId": "0348df3c-d4de-4ac7-c33f-9922a20a82fb"
   },
   "outputs": [
    {
     "data": {
      "image/png": "[encoded data removed]",
      "text/plain": [
       "<Figure size 432x288 with 1 Axes>"
      ]
     },
     "metadata": {
      "filenames": {
       "image/png": "/Users/mberrens/Documents/GitHub/python_intensive_training/_build/jupyter_execute/chapters/01_Day1-Lecture_58_0.png"
      },
      "needs_background": "light"
     },
     "output_type": "display_data"
    }
   ],
   "source": [
    "x = np.linspace(0, 50, 21)\n",
    "y = np.linspace(30,40, 21)\n",
    "\n",
    "#for a line plot:\n",
    "plt.plot(x,y)\n",
    "#display graph command\n",
    "plt.show()\n"
   ]
  },
  {
   "cell_type": "code",
   "execution_count": null,
   "metadata": {
    "colab": {
     "base_uri": "https://localhost:8080/",
     "height": 265
    },
    "executionInfo": {
     "elapsed": 461,
     "status": "ok",
     "timestamp": 1631716462746,
     "user": {
      "displayName": "Nathan Yoshino",
      "photoUrl": "https://lh3.googleusercontent.com/a/default-user=s64",
      "userId": "00687073007003486401"
     },
     "user_tz": 420
    },
    "id": "hXJG259712Zl",
    "outputId": "ac76bcfe-c0c4-42ac-f72b-a67097c62cbd"
   },
   "outputs": [
    {
     "data": {
      "image/png": "[encoded data removed]",
      "text/plain": [
       "<Figure size 432x288 with 1 Axes>"
      ]
     },
     "metadata": {
      "filenames": {
       "image/png": "/Users/mberrens/Documents/GitHub/python_intensive_training/_build/jupyter_execute/chapters/01_Day1-Lecture_59_0.png"
      },
      "needs_background": "light"
     },
     "output_type": "display_data"
    }
   ],
   "source": [
    "\n",
    "#for a scatter plot\n",
    "plt.scatter(x, y)\n",
    "#Show plot\n",
    "plt.show()"
   ]
  },
  {
   "cell_type": "markdown",
   "metadata": {
    "id": "fKyMuuha2L3c"
   },
   "source": [
    "## Part 7: Importing Data"
   ]
  },
  {
   "cell_type": "markdown",
   "metadata": {
    "id": "7JWaweTu2b8D"
   },
   "source": [
    "You always want to look at the file you're importing first. First we need to upload the file to our notebook. Click the file icon to the left toobar on Google Colab, and then click to upload button. Choose \"Day1example.dat\" from your computer.\n",
    "\n",
    "What does it contain? With the \"Day1example.dat\" file, be can see that the first row contains two headers, and the rows after contain random floats. How can we import this data to use?\n",
    "\n",
    "Now lets get into the code:\n"
   ]
  },
  {
   "cell_type": "code",
   "execution_count": null,
   "metadata": {
    "colab": {
     "base_uri": "https://localhost:8080/",
     "height": 299
    },
    "executionInfo": {
     "elapsed": 411,
     "status": "ok",
     "timestamp": 1631717037291,
     "user": {
      "displayName": "Nathan Yoshino",
      "photoUrl": "https://lh3.googleusercontent.com/a/default-user=s64",
      "userId": "00687073007003486401"
     },
     "user_tz": 420
    },
    "id": "APihc62l3L2i",
    "outputId": "26e935b9-fc1d-4b93-d5f2-34efebae8d21"
   },
   "outputs": [
    {
     "name": "stdout",
     "output_type": "stream",
     "text": [
      "xvals                 yvals\n",
      "\n"
     ]
    },
    {
     "data": {
      "image/png": "[encoded data removed]",
      "text/plain": [
       "<Figure size 432x288 with 1 Axes>"
      ]
     },
     "metadata": {
      "filenames": {
       "image/png": "/Users/mberrens/Documents/GitHub/python_intensive_training/_build/jupyter_execute/chapters/01_Day1-Lecture_62_1.png"
      },
      "needs_background": "light"
     },
     "output_type": "display_data"
    }
   ],
   "source": [
    "#We need to create empty lists to store data:\n",
    "xvals = []\n",
    "yvals = []\n",
    "\n",
    "#This line opens up the file. Make sure the include quotes around Day1example.dat to make it a string.\n",
    "#otherwise Python will think Day1example.dat is some sort of variable.\n",
    "#The 'r' in the open function tells Python we want to read this file. \n",
    "#The 'as infile' portion assings the text in the file to the variable infile.\n",
    "with open('Day1example.dat','r') as infile:\n",
    "\n",
    "  #We don't care about the first line, so to read over it and move on use this command\n",
    "  headers = infile.readline()\n",
    "  #Let's make sure it got rid of what we wanted\n",
    "  print(headers)\n",
    "  \n",
    "  #Let's loop over the rest of the lines. The open command once it has read a line will get rid of it so we don't need to worry about that first line anymore.\n",
    "  for line in infile:\n",
    "    #This command splits up each line at every space. \n",
    "    #If we entered some text (string) into the parentheses of split(), then it would separate the lines\n",
    "    #at every instance of that text (for a comma separated file, we would want line.split(',') )\n",
    "    data1, data2 = line.split()\n",
    "    \n",
    "    #add the data to the lists. \n",
    "    #IMPORTANT: any text read from a file is a string. We must convert it floats to perform any plotting or math\n",
    "    xvals.append(float(data1))\n",
    "    yvals.append(float(data2))\n",
    "\n",
    "\n",
    "#Plot Them!\n",
    "plt.scatter(xvals, yvals)\n",
    "plt.show()"
   ]
  }
 ],
 "metadata": {
  "colab": {
   "name": "Day1_Lecture.ipynb",
   "provenance": []
  },
  "kernelspec": {
   "display_name": "Python 3",
   "language": "python",
   "name": "python3"
  },
  "language_info": {
   "codemirror_mode": {
    "name": "ipython",
    "version": 3
   },
   "file_extension": ".py",
   "mimetype": "text/x-python",
   "name": "python",
   "nbconvert_exporter": "python",
   "pygments_lexer": "ipython3",
   "version": "3.8.8"
  }
 },
 "nbformat": 4,
 "nbformat_minor": 1
}