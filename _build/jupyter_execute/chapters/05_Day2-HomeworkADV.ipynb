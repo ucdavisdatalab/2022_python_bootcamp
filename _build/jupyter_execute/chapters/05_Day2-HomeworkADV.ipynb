{
 "cells": [
  {
   "cell_type": "markdown",
   "metadata": {
    "id": "EEZ9gBjD8-mt"
   },
   "source": [
    "## **Day 2 Advanced Homework**"
   ]
  },
  {
   "cell_type": "markdown",
   "metadata": {
    "id": "JFMDsrqk9GS2"
   },
   "source": [
    "Here is a [csv](https://github.com/ucdavisdatalab/python_intensive_training/tree/main/data/Day2CountryInfo2018_ADV.csv) file that contains all of the countires that medalled in the 2018 Winter Olympic games, their latitudes and longitudes, medals won, GDP (2018), and population (2018). This time, we are going to plot the countries with more information."
   ]
  },
  {
   "cell_type": "markdown",
   "metadata": {
    "id": "h1xPLU2mEbia"
   },
   "source": [
    "# Initial Instructions:"
   ]
  },
  {
   "cell_type": "markdown",
   "metadata": {
    "id": "vWDJu70bEbxd"
   },
   "source": [
    "1.   Download the csv file from the link above.\n",
    "2.   Open a new [Google Colab notebook](https://colab.research.google.com/) and click on \"New Notebook\" in the corner.\n",
    "3.   Click the file icon on the left toolbar, then click on the upload icon (the button on the left).\n",
    "4.   Choose the new .csv file to upload in order to import the data.\n",
    "5.   Here’s the actual homework!"
   ]
  },
  {
   "cell_type": "markdown",
   "metadata": {
    "id": "5oytOjcaEjBB"
   },
   "source": [
    "# Assignment"
   ]
  },
  {
   "cell_type": "markdown",
   "metadata": {
    "id": "dYWcqHBzEjSe"
   },
   "source": [
    "\n",
    "*   Open the csv file and examine what’s in it. What variable types are in here? Strings, floats, or integers?\n",
    "*   In your Colab notebook, write a script that imports the data from the file to make a scatter plot.\n",
    "*   As you parse the data, for each country you’ll need to tally up the total medals. You will also need to calculate GDP per 5000 capita (GPD per 5000 people).\n",
    "    *   What techniques that we have reviewed can we use to accomplish these?\n",
    "*   We will be plotting the countries that did not medal at all in a different color scheme than the rest of the countries. As you parse the data you will need find a way to sort out countries that did not medal.\n",
    "*   This time when you plot the data, color the countries according to number of medals won, and change the size of each point based on GPD per capita.\n",
    "    *   See the [plt.scatter()](https://matplotlib.org/stable/api/_as_gen/matplotlib.pyplot.scatter.html) documentation to try to figure out how to implement this.\n",
    "    *   For countries that did not medal, color them grey, but still change the size of the points with GDP per capita. (Hint: this may require a separate plt.scatter command)\n",
    "*   Add the equator to the plot.\n",
    "*   Congrats! You are all done.\n",
    "*   The plot contains more information than the map from Day 1. In Day 3 we will delve into using more libraries and do more data analysis."
   ]
  },
  {
   "cell_type": "markdown",
   "metadata": {
    "id": "OF7f2CsIFSxF"
   },
   "source": [
    "[.ipynb file](https://https://github.com/ucdavisdatalab/python_intensive_training/tree/main/data/HWDay2_ADV.ipynb)\n",
    "\n",
    "[plot](https://https://github.com/ucdavisdatalab/python_intensive_training/tree/main/img/Day2_ADV_plot.png)"
   ]
  },
  {
   "cell_type": "code",
   "execution_count": null,
   "metadata": {
    "id": "Gxf_mSZs9C0b"
   },
   "outputs": [],
   "source": []
  }
 ],
 "metadata": {
  "colab": {
   "collapsed_sections": [],
   "name": "05_Day2-HomeworkADV.ipynb",
   "provenance": []
  },
  "kernelspec": {
   "display_name": "Python 3",
   "name": "python3"
  },
  "language_info": {
   "codemirror_mode": {
    "name": "ipython",
    "version": 3
   },
   "file_extension": ".py",
   "mimetype": "text/x-python",
   "name": "python",
   "nbconvert_exporter": "python",
   "pygments_lexer": "ipython3",
   "version": "3.8.8"
  }
 },
 "nbformat": 4,
 "nbformat_minor": 0
}