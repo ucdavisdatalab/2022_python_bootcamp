{
  "nbformat": 4,
  "nbformat_minor": 0,
  "metadata": {
    "colab": {
      "name": "05_Day2-HomeworkADV.ipynb",
      "provenance": [],
      "collapsed_sections": []
    },
    "kernelspec": {
      "name": "python3",
      "display_name": "Python 3"
    },
    "language_info": {
      "name": "python"
    }
  },
  "cells": [
    {
      "cell_type": "markdown",
      "source": [
        "## **Day 2 Advanced Homework**"
      ],
      "metadata": {
        "id": "EEZ9gBjD8-mt"
      }
    },
    {
      "cell_type": "markdown",
      "source": [
        "Here is a [csv](https://github.com/ucdavisdatalab/python_intensive_training/tree/main/data/Day2CountryInfo2018_ADV.csv) file that contains all of the countires that medalled in the 2018 Winter Olympic games, their latitudes and longitudes, medals won, GDP (2018), and population (2018). This time, we are going to plot the countries with more information."
      ],
      "metadata": {
        "id": "JFMDsrqk9GS2"
      }
    },
    {
      "cell_type": "markdown",
      "source": [
        "# Initial Instructions:"
      ],
      "metadata": {
        "id": "h1xPLU2mEbia"
      }
    },
    {
      "cell_type": "markdown",
      "source": [
        "1.   Download the csv file from the link above.\n",
        "2.   Open a new [Google Colab notebook](https://colab.research.google.com/) and click on \"New Notebook\" in the corner.\n",
        "3.   Click the file icon on the left toolbar, then click on the upload icon (the button on the left).\n",
        "4.   Choose the new .csv file to upload in order to import the data.\n",
        "5.   Here’s the actual homework!"
      ],
      "metadata": {
        "id": "vWDJu70bEbxd"
      }
    },
    {
      "cell_type": "markdown",
      "source": [
        "# Assignment"
      ],
      "metadata": {
        "id": "5oytOjcaEjBB"
      }
    },
    {
      "cell_type": "markdown",
      "source": [
        "\n",
        "*   Open the csv file and examine what’s in it. What variable types are in here? Strings, floats, or integers?\n",
        "*   In your Colab notebook, write a script that imports the data from the file to make a scatter plot.\n",
        "*   As you parse the data, for each country you’ll need to tally up the total medals. You will also need to calculate GDP per 5000 capita (GPD per 5000 people).\n",
        "    *   What techniques that we have reviewed can we use to accomplish these?\n",
        "*   We will be plotting the countries that did not medal at all in a different color scheme than the rest of the countries. As you parse the data you will need find a way to sort out countries that did not medal.\n",
        "*   This time when you plot the data, color the countries according to number of medals won, and change the size of each point based on GPD per capita.\n",
        "    *   See the [plt.scatter()](https://matplotlib.org/stable/api/_as_gen/matplotlib.pyplot.scatter.html) documentation to try to figure out how to implement this.\n",
        "    *   For countries that did not medal, color them grey, but still change the size of the points with GDP per capita. (Hint: this may require a separate plt.scatter command)\n",
        "*   Add the equator to the plot.\n",
        "*   Congrats! You are all done.\n",
        "*   The plot contains more information than the map from Day 1. In Day 3 we will delve into using more libraries and do more data analysis."
      ],
      "metadata": {
        "id": "dYWcqHBzEjSe"
      }
    },
    {
      "cell_type": "markdown",
      "source": [
        "[.ipynb file](https://https://github.com/ucdavisdatalab/python_intensive_training/tree/main/data/HWDay2_ADV.ipynb)\n",
        "\n",
        "[plot](https://https://github.com/ucdavisdatalab/python_intensive_training/tree/main/img/Day2_ADV_plot.png)"
      ],
      "metadata": {
        "id": "OF7f2CsIFSxF"
      }
    },
    {
      "cell_type": "code",
      "source": [
        ""
      ],
      "metadata": {
        "id": "Gxf_mSZs9C0b"
      },
      "execution_count": null,
      "outputs": []
    }
  ]
}