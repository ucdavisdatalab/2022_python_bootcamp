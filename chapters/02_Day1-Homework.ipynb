{
  "nbformat": 4,
  "nbformat_minor": 0,
  "metadata": {
    "colab": {
      "name": "Homework_Day1.ipynb",
      "provenance": []
    },
    "kernelspec": {
      "name": "python3",
      "display_name": "Python 3"
    },
    "language_info": {
      "name": "python"
    }
  },
  "cells": [
    {
      "cell_type": "markdown",
      "source": [
        "# **Day 1 Homework**"
      ],
      "metadata": {
        "id": "W7QZh9rje7qy"
      }
    },
    {
      "cell_type": "markdown",
      "source": [
        "Here is a [csv file](data/Day1Counteryinfo2018.csv) that contains all of the countires that competed in the 2018 Winter Olympic games and their latitudes and longitudes. "
      ],
      "metadata": {
        "id": "VmqLwdwwfF6g"
      }
    },
    {
      "cell_type": "markdown",
      "source": [
        "## Initial Intructions:"
      ],
      "metadata": {
        "id": "qzC6hMIjfP8r"
      }
    },
    {
      "cell_type": "markdown",
      "source": [
        "\n",
        "\n",
        "1.   Download the csv file from the link above.\n",
        "2.   Open a new [Google Colab notebook](https://colab.research.google.com/) and click on \"New Notebook\" in the corner.\n",
        "3.   Click the file icon on the left toolbar, then click on the upload icon (the button on the left).\n",
        "4.   Choose the new .csv file to upload in order to import the data.\n",
        "5.   Here’s the actual homework!\n",
        "\n"
      ],
      "metadata": {
        "id": "kC1oxBwzfUmW"
      }
    },
    {
      "cell_type": "markdown",
      "source": [
        "# Assignment"
      ],
      "metadata": {
        "id": "8RJ8mlB3fsCo"
      }
    },
    {
      "cell_type": "markdown",
      "source": [
        "\n",
        "\n",
        "*   Open the csv file and examine what’s in it. What variable types are in here? Strings, floats, or integers?\n",
        "*   In your empty Colab notebook, write a script that imports the data from the file and makes a scatter plot.\n",
        "    *   The `with open()` command demonstrated in lecture may be helpful.\n",
        "*   Try to add the equator as well if you can. (Hint: the [plt.hlines()](https://matplotlib.org/stable/api/_as_gen/matplotlib.pyplot.hlines.html) function may be useful.)\n",
        "*   The plot should somewhat look like a map of the world. Unfortunately Africa’s representation at the Winter Olympics is quite low (partially due to the climate) so there are few countries there.\n",
        "*    If you have time, attempt to add axis labels and a title as demonstrated in the lecture.\n",
        "*   Congrats! You are all done.\n",
        "\n"
      ],
      "metadata": {
        "id": "BDsfecrZfuyG"
      }
    },
    {
      "cell_type": "markdown",
      "source": [
        "# Answer"
      ],
      "metadata": {
        "id": "i9Qa37KCgOlA"
      }
    },
    {
      "cell_type": "markdown",
      "source": [
        "[.ipynb file](https://github.com/ucdavisdatalab/python_intensive_training/tree/main/data/HWDay1.ipynb)\n",
        "\n",
        "[plot image](https://github.com/ucdavisdatalab/python_intensive_training/tree/main/img/Day1HWplot.png)"
      ],
      "metadata": {
        "id": "fOVI8JO7gRy-"
      }
    },
    {
      "cell_type": "code",
      "source": [
        ""
      ],
      "metadata": {
        "id": "ICWnBfGZgQQT"
      },
      "execution_count": null,
      "outputs": []
    }
  ]
}