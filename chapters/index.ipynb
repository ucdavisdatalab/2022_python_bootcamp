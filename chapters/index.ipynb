{
  "nbformat": 4,
  "nbformat_minor": 0,
  "metadata": {
    "colab": {
      "provenance": []
    },
    "kernelspec": {
      "name": "python3",
      "display_name": "Python 3"
    },
    "language_info": {
      "name": "python"
    }
  },
  "cells": [
    {
      "cell_type": "markdown",
      "source": [
        "# **UC Davis Python Intensive Training** \n",
        "*Maggie Berrens, Frank Cerasoli, Heejune Park, and Panyue Wang*"
      ],
      "metadata": {
        "id": "ZNkg49-zoDaz"
      }
    },
    {
      "cell_type": "markdown",
      "source": [
        "# *Overview*"
      ],
      "metadata": {
        "id": "ICYExOIfyNez"
      }
    },
    {
      "cell_type": "markdown",
      "source": [
        "This two-day course is designed to prepare incoming (or experienced) graduate students and post docs with little to no coding experience for the coding demands that many graduate courses and research often requires. In the past this training was fully run by graduate students held over zoom or in a random classroom. This is our second year we have teamed up with the UC Davis Data lab, who have offered their assistance in running the workshop and providing space for the workshop to take place. With that being said this intensive training is still majorly put together and run by graduate students and post docs aimed to help other graduate students and post docs. The intensive training will take place over October 23rd - 24th from 5 pm - 8 pm with limited seating on campus in the Shields 360 (DataLab classroom) as well as on Zoom for those who don't obtain a spot for in person. This is a great opportunity to learn a new skill and meet other graduate students! Each session will begin with about an hour of demonstration to teach fundamental Python topics. This will be followed by time where students can work on an assignment with each other and ask questions to volunteers. The assignment each day will cover the topics learned in the session that day!"
      ],
      "metadata": {
        "id": "cYIEqJv0ySEj"
      }
    },
    {
      "cell_type": "markdown",
      "source": [
        "Any questions about the content of this site should be directed to Maggie Berrens (mlberrens@ucdavis.edu). Big thanks to the Data Lab, Nick Ulle, Cameron Riddell, Frank Cerasoli, Heejune Park, Tonybill Chan, and Panyue Wang for helping run the Python Intensive Training. And thank you to Nathan Yoshino for letting us use and build upon much of the material from years past. "
      ],
      "metadata": {
        "id": "cSY4PIMQzjNT"
      }
    },
    {
      "cell_type": "markdown",
      "source": [
        "# Getting Started"
      ],
      "metadata": {
        "id": "4tmTbr3xz4wt"
      }
    },
    {
      "cell_type": "markdown",
      "source": [
        "There are multiple ways to use Python. For this workshop no downloads will be necessary - all programming will be done in a browser using Google Colab. However, if you would like to download Python onto your computer and work offline, instructions will be provided below."
      ],
      "metadata": {
        "id": "v2_b0cHT0G0u"
      }
    },
    {
      "cell_type": "markdown",
      "source": [
        "Make sure you are logged-in on your browser with a Google account. Click here to open a [new Google Colab notebook](https://colab.research.google.com/). Google Colab will save your files in your Google Drive. Select “New Notebook” at the bottom of the pop-up window. During the presentations, you can follow along and copy what is being demonstrated in your own file and run the code yourself. Here is a [brief introduction to some of Colab’s functionalities](https://www.youtube.com/watch?v=oCngVVBSsmA). If you don’t understand everyting that’s alright. Most importantly, pay attention to the difference between code and text cells, how to run cells of code, and how to move them around.\n",
        "\n",
        "Note: We will be using Python 3 (the latest version of Python) for this workshop."
      ],
      "metadata": {
        "id": "FNdzQjHe0KTH"
      }
    },
    {
      "cell_type": "markdown",
      "source": [
        "# Homework Project"
      ],
      "metadata": {
        "id": "3ST13egx0TAK"
      }
    },
    {
      "cell_type": "markdown",
      "source": [
        "Python is very versatile in its applications. The homework will focus on implementing fundamentals introduced in the lectures, working with data, and accessing Python libraries. The overall goal of the assignments will be to process data from the 2018 Winter Olympic Games and analyze what factors contribute to success. With the tools we learn, we can even create a model that tries to predict Olympic success in other years!"
      ],
      "metadata": {
        "id": "nboRkKCH0XTo"
      }
    },
    {
      "cell_type": "markdown",
      "source": [
        "# Agenda"
      ],
      "metadata": {
        "id": "s3s38czf0bA6"
      }
    },
    {
      "cell_type": "markdown",
      "source": [
        "Attendees can either follow along throughout the training using this reader where all of the lectures and homeworks are posted. Or attendees can code in live time by following along as instructors also live time code using google colab"
      ],
      "metadata": {
        "id": "Cz2BYoB2iFEz"
      }
    },
    {
      "cell_type": "markdown",
      "source": [
        "## **Day 1**: [Lecture File 1](https://colab.research.google.com/github/ucdavisdatalab/python_intensive_training/blob/main/data/01_Day1-Lecture-1.ipynb#) [Lecture File 2](https://colab.research.google.com/github/ucdavisdatalab/python_intensive_training/blob/main/data/02_Day1-Lecture-2.ipynb#) [Recording](https://ucdavis.zoom.us/rec/share/bz55aaf8ynWE6FBsH21yEC6wnIdB03DjqJAcJyTSnjGMizCd8TmBi_LHXzxkmYex.hpfLarZRMIhC9Tux)\n",
        "\n",
        "* Introduction: What are Coding and Python?\n",
        "* Variables, Basic Operations and Types\n",
        "* Lists\n",
        "* Loops\n",
        "* Dictionaries\n",
        "* File Handling [file_example1.txt](https://raw.githubusercontent.com/ucdavisdatalab/python_intensive_training/main/data/file_example1.txt) [file_example2.txt](https://raw.githubusercontent.com/ucdavisdatalab/python_intensive_training/main/data/file_example2.txt)\n",
        "* Functions [file_example3.txt](https://raw.githubusercontent.com/ucdavisdatalab/python_intensive_training/main/data/file_example3.txt)\n",
        "\n",
        "## **Day 2**: [Lecture File 1](https://colab.research.google.com/github/ucdavisdatalab/python_intensive_training/blob/main/data/04_Day2-Lecture-1.ipynb#) [Lecture File 2](https://colab.research.google.com/github/ucdavisdatalab/python_intensive_training/blob/main/data/05_Day2-Lecture-2.ipynb#) [Recording](https://ucdavis.zoom.us/rec/share/z5GjVbnDKHyWfb3ffwE1rywuZhQquzRgyuxfsAMFoO9qOYLj8FBTxuGMqkw9FuQb.T5QL-YSILeSVjoyD) \n",
        "* Numpy\n",
        "* Pandas\n",
        "* Plotting with Matplotlib [finances.txt](https://raw.githubusercontent.com/ucdavisdatalab/python_intensive_training/main/data/finances.txt) \n",
        "\n",
        "\n"
      ],
      "metadata": {
        "id": "BRPuhKMX0jXP"
      }
    },
    {
      "cell_type": "markdown",
      "source": [
        "# Additional Resources\n"
      ],
      "metadata": {
        "id": "BTJpY5wCaOSQ"
      }
    },
    {
      "cell_type": "markdown",
      "source": [
        "## **Resources For Learning Python**"
      ],
      "metadata": {
        "id": "kzyt5XpiMFX4"
      }
    },
    {
      "cell_type": "markdown",
      "source": [
        "As we have emphasized throughout the workshop, this training is not aimed to have attendees be masters of Python by the end of the three days. Instead, our goal was to provide a low stakes, collaborative, environment to familiarize attendees with the fundamentals of Python and make coding in Python a bit more approachable. We hope that this training either serves as a starting point for attendee's Python journey, or as a nice refresher for those who already know some Python. With that being said, for those looking to further their Python knowledge below are just a few links to free online Python courses: "
      ],
      "metadata": {
        "id": "H0EimDSEMNm-"
      }
    },
    {
      "cell_type": "markdown",
      "source": [
        "\n",
        "\n",
        "*   [Googles Python Course](https://developers.google.com/edu/python)\n",
        "*   [Microsoft's Python Course](https://docs.microsoft.com/en-us/training/modules/intro-to-python/)\n",
        "*   [Coursera Python Course](https://www.coursera.org/learn/python-for-applied-data-science-ai)\n",
        "\n",
        "\n"
      ],
      "metadata": {
        "id": "F01Y_VIrNxsN"
      }
    },
    {
      "cell_type": "markdown",
      "source": [
        "Additionally, the DataLab has a [Davis Python Users Group](https://datalab.ucdavis.edu/davis-python-users-group/) which meets biweekly to discuss all things Python. D-PUG is open to anyone in the Davis community interested in Python for research, other professional work, or as a hobby (for homework help please go to your instructor/TA instead)."
      ],
      "metadata": {
        "id": "CVhu2TBFONYj"
      }
    },
    {
      "cell_type": "markdown",
      "source": [
        "## **Microcredential**\n"
      ],
      "metadata": {
        "id": "vWw_LpdbbZ9j"
      }
    },
    {
      "cell_type": "markdown",
      "source": [
        "Along with attending this training attendees have the possibility to earn a python microcredential through the university with some additional outside learning. It is important to emphasize that many of the skills learned in the intensive training will be covered in the microcredential but to the extra skills needed to earn the microcredential will require indpendent learning. More information regarding what the microcredential is and what is involved to earn the python badge can be found [here](https://datalab.ucdavis.edu/2021/10/20/announcing-pathway-research-computing/)"
      ],
      "metadata": {
        "id": "o3HwMMl2b_pB"
      }
    },
    {
      "cell_type": "markdown",
      "source": [
        "## **Downloading Python Offline**"
      ],
      "metadata": {
        "id": "TmK-VN6gc1H9"
      }
    },
    {
      "cell_type": "markdown",
      "source": [
        "One of the easiest ways to download python is through Anaconda. Anaconda is a Python distribution that has extra feautres and packages that make Python easier to use.\n",
        "*   [Anaconda Installation Documentation](https://docs.anaconda.com/anaconda/install/)\n",
        "*   Find your operating system in the list, follow the instructions.\n",
        "*   Find where your Anaconda-Navigator was installed located on your computer, open it.\n",
        "*   We recommend using Spyder to run Python\n",
        "Unlike Colab, there will be one text document without multiple cells (cells can be created). These files are saved as “.py” files instead of “.ipynb” and lack text boxes. The code syntax will be the same as Colab. To run the code, click the green “play” button at the top - all of the code in the document will be run at once instead of just a single cell."
      ],
      "metadata": {
        "id": "Y20DFrmfc7j-"
      }
    },
    {
      "cell_type": "markdown",
      "source": [
        "## **While Loops**\n",
        "\n",
        "\n"
      ],
      "metadata": {
        "id": "nf9jlDcka4zZ"
      }
    },
    {
      "cell_type": "markdown",
      "source": [
        "We did not talk about while loops in this course, but they also have their own useful purposes, often times with a conditional.\n",
        "- Not that infinite loops (getting stuck in a while loop without a way to exit) are a risk when using them!"
      ],
      "metadata": {
        "id": "jE9mYy0Tc-qF"
      }
    },
    {
      "cell_type": "markdown",
      "source": [
        "## **Classes**\n"
      ],
      "metadata": {
        "id": "rp2G57Qba8RA"
      }
    },
    {
      "cell_type": "markdown",
      "source": [
        "\n",
        "- If you followed along through Day 3, we've hinted at the idea of object oriented programming and classes. There was not enough time to cover them in this workshop, but if you continue to explore Python they will be incredibly useful to understand and know how to implement.\n"
      ],
      "metadata": {
        "id": "6arfk_n5dCGL"
      }
    },
    {
      "cell_type": "markdown",
      "source": [
        "## **Code of Conduct**"
      ],
      "metadata": {
        "id": "3TkZ-WvL5F0d"
      }
    },
    {
      "cell_type": "markdown",
      "source": [
        "All participants must abide by our Code of Conduct"
      ],
      "metadata": {
        "id": "pjAChbI45PRp"
      }
    },
    {
      "cell_type": "markdown",
      "source": [
        "Python Intensive Training is neither a dating scene nor an intellectual contest.\n",
        "\n",
        "Python Intensive Training is dedicated to providing a harassment-free experience for everyone, regardless of gender, gender identity and expression, age, sexual orientation, disability, physical appearance, body size, race, or religion (or lack thereof). We do not tolerate harassment of participants in any form. Sexual language and imagery is generally not appropriate."
      ],
      "metadata": {
        "id": "J3B_9m5A5lIn"
      }
    },
    {
      "cell_type": "markdown",
      "source": [
        "Harassment includes offensive verbal comments related to gender, gender identity and expression, age, sexual orientation, disability, physical appearance, body size, race, religion, sexual images in public spaces, deliberate intimidation, stalking, following, harassing photography or recording, sustained disruption of talks or other events, inappropriate physical contact, and unwelcome sexual attention.\n",
        "\n",
        "Attendees asked to stop any behavior are expected to comply immediately.\n",
        "\n",
        "If you are being harassed, notice that someone else is being harassed, or if you are uncertain whether someone’s behavior might constitute harassment or have any other concerns, please contact any of the helpers, lead instructors, or organizers immediately.\n",
        "\n",
        "Illegal actions may be reported to UC Davis Campus Police or other authorities."
      ],
      "metadata": {
        "id": "y13uiLIY56xx"
      }
    },
    {
      "cell_type": "code",
      "source": [],
      "metadata": {
        "id": "9m9PCXOsdCaW"
      },
      "execution_count": null,
      "outputs": []
    }
  ]
}
