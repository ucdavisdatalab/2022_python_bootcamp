{
  "cells": [
    {
      "cell_type": "markdown",
      "metadata": {
        "id": "IGWkDxc4gmoV"
      },
      "source": [
        "# **Day 2 Homework**"
      ]
    },
    {
      "cell_type": "markdown",
      "metadata": {
        "id": "YEgZ2_YIg0f0"
      },
      "source": [
        "Here is a [csv](https://raw.githubusercontent.com/ucdavisdatalab/python_intensive_training/main/data/Day2CountryInfo2018.csv) file that contains all of the countires that medalled in the 2018 Winter Olympic games, their latitudes and longitudes, medals won, GDP (2018), and population (2018). This time, we are going to plot the countries that medalled and add more information"
      ]
    },
    {
      "cell_type": "markdown",
      "metadata": {
        "id": "Q8VJ87Oag7bC"
      },
      "source": [
        "## Initial Instructions:"
      ]
    },
    {
      "cell_type": "markdown",
      "metadata": {
        "id": "vxo0hNzDhFvN"
      },
      "source": [
        "1.   Download the csv file from the link above.\n",
        "2.   Open a new [Google Colab notebook](https://colab.research.google.com/) and click on \"New Notebook\" in the corner.\n",
        "3.   Click the file icon on the left toolbar, then click on the upload icon (the button on the left).\n",
        "4.   Choose the new .csv file to upload in order to import the data.\n",
        "5.   Here’s the actual homework!\n"
      ]
    },
    {
      "cell_type": "markdown",
      "metadata": {
        "id": "AShTnt_khIYO"
      },
      "source": [
        "## Assignment"
      ]
    },
    {
      "cell_type": "markdown",
      "metadata": {
        "id": "g-qCFXhUhJ_2"
      },
      "source": [
        "*   Open the csv file and examine what’s in it. What variable types are in here? Strings, floats, or integers?\n",
        "*   In your Colab notebook, write a script that imports the data from the file to make a scatter plot.\n",
        "*   As you parse the data, for each country you’ll need to tally up the total medals. You will also need to calculate GDP per 5000 capita (GPD per 5000 people).\n",
        "     *    What techniques that we have reviewed can we use to accomplish these?\n",
        "*   This time when you plot the data, color the countries according to number of medals won, and change the size of each point based on GPD per capita.\n",
        "     *    See the [plt.scatter documentation](https://matplotlib.org/stable/api/_as_gen/matplotlib.pyplot.scatter.html) to try to figure out how to implement this.\n",
        "*    Add the equator to the plot as well.\n",
        "*    Congrats! You are all done.\n",
        "*    The plot will have fewer points this time without the countires that did not medal, but contain more information about those countries. If you want a challenge, the advanced homework will add more complexity and the other countries!\n",
        "*    In Day 3 we will delve into using more libraries and do more data analysis.\n"
      ]
    },
    {
      "cell_type": "markdown",
      "source": [
        "## Bonus Homework\n",
        "\n",
        "## Assignment: Approximate pi with random numbers\n",
        "\n",
        "$\\pi$ is among the most famous of irrational numbers, written approximately as 3.14159. An enormous amount of resources, both human and machine, have exhausted countless hours analyzing $\\pi$'s decimal contributions, and roughly 100 trillion digits of $\\pi$ are known today. [http://www.numberworld.org/y-cruncher/]\n",
        "\n",
        "A far less ambitious approximation can be achieved with simple Monte Carlo methods, utilizing random numbers and statistics to converge an estimate for $\\pi$.\n",
        "Imagine a circle of diameter D inscribed within a square of edge length D. Place the origin of a 2D graph at the circle's center. The key to approximating $\\pi$ is generating coordinate pairs of random numbers, which correspond to (x,y) positions inside of the square, and counting how many land inside the circle. With a statistically large random sample of coordinate pairs, the ratio of points landing inside the circle to total number of points approximates the ratio of the circle's area to the square's area. This is known as the stone throwing problem and is mathmatically formulated as:<br/>\n",
        "$\\frac{A_{circle}}{A_{square}}=\\frac{N_{circle}}{N_{square}}$<br/>\n",
        "where $A$ represents the shape area and $N$ represents the number of points to land inside of each shape. Note that all generated points should land within the square, such that $N_{total}=N_{square}$. Using a little geometry, $A_{circle}=\\pi (\\frac{D}{2})^2$ and $A_{square}=D^2$, the final relation for $\\pi$ is given as:<br/>\n",
        "$\\pi\\approx4\\frac{N_{circle}}{N_{square}}$\n",
        "\n",
        "## Instructions \n",
        "1) Generate a set of N random x,y pairs within a square (2*N random numbers makes N pairs of random numbers)<br/>\n",
        "2) Count the x,y pairs lying inside of an inscribed circle (is $x^2+y^2 < (\\frac{D}{2})^2$ ?)<br/>\n",
        "3) Compute an approximation of $\\pi$<br/>"
      ],
      "metadata": {
        "id": "Hq9SYETeG6nD"
      }
    },
    {
      "cell_type": "markdown",
      "metadata": {
        "id": "LU5KRhJTh2AC"
      },
      "source": [
        "## Answer"
      ]
    },
    {
      "cell_type": "markdown",
      "metadata": {
        "id": "R7oxqaALh3uI"
      },
      "source": [
        "[.ipynb file](https://colab.research.google.com/github/ucdavisdatalab/python_intensive_training/blob/main/data/HWDay2.ipynb#)\n",
        "\n",
        "[plot image](https://github.com/ucdavisdatalab/python_intensive_training/tree/main/img/Day2HWplot.png)"
      ]
    },
    {
      "cell_type": "markdown",
      "source": [
        "## Bonus Homework Answer"
      ],
      "metadata": {
        "id": "oa7Uxqe-Hkfz"
      }
    },
    {
      "cell_type": "markdown",
      "source": [
        "[.ipynb file](https://colab.research.google.com/github/ucdavisdatalab/python_intensive_training/blob/main/data/BonusHomeworkSolution.ipynb#)"
      ],
      "metadata": {
        "id": "ALgZU-61HreI"
      }
    }
  ],
  "metadata": {
    "colab": {
      "provenance": []
    },
    "kernelspec": {
      "display_name": "Python 3 (ipykernel)",
      "language": "python",
      "name": "python3"
    },
    "language_info": {
      "codemirror_mode": {
        "name": "ipython",
        "version": 3
      },
      "file_extension": ".py",
      "mimetype": "text/x-python",
      "name": "python",
      "nbconvert_exporter": "python",
      "pygments_lexer": "ipython3",
      "version": "3.10.4"
    }
  },
  "nbformat": 4,
  "nbformat_minor": 0
}
