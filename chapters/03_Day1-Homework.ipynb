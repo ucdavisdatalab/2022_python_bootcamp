{
 "cells": [
  {
   "cell_type": "markdown",
   "metadata": {
    "id": "W7QZh9rje7qy"
   },
   "source": [
    "# **Day 1 Homework**"
   ]
  },
  {
   "cell_type": "markdown",
   "metadata": {
    "id": "VmqLwdwwfF6g"
   },
   "source": [
    "Here is a [csv file](https://raw.githubusercontent.com/ucdavisdatalab/python_intensive_training/main/data/Day1CountryInfo2018.csv) that contains all of the countires that competed in the 2018 Winter Olympic games and their latitudes and longitudes. "
   ]
  },
  {
   "cell_type": "markdown",
   "metadata": {
    "id": "qzC6hMIjfP8r"
   },
   "source": [
    "## Initial Intructions:"
   ]
  },
  {
   "cell_type": "markdown",
   "metadata": {
    "id": "kC1oxBwzfUmW"
   },
   "source": [
    "\n",
    "\n",
    "1.   Download the csv file from the link above.\n",
    "2.   Open a new [Google Colab notebook](https://colab.research.google.com/) and click on \"New Notebook\" in the corner.\n",
    "3.   Click the file icon on the left toolbar, then click on the upload icon (the button on the left).\n",
    "4.   Choose the new .csv file to upload in order to import the data.\n",
    "5.   Here’s the actual homework!\n",
    "\n"
   ]
  },
  {
   "cell_type": "markdown",
   "metadata": {
    "id": "8RJ8mlB3fsCo"
   },
   "source": [
    "## Assignment"
   ]
  },
  {
   "cell_type": "markdown",
   "metadata": {
    "id": "BDsfecrZfuyG"
   },
   "source": [
    "\n",
    "\n",
    "*   Open the csv file and examine what’s in it. What variable types are in here? Strings, floats, or integers?\n",
    "*   In your empty Colab notebook, write a script that imports the data from the file and makes a scatter plot.\n",
    "    *   The `with open()` command demonstrated in lecture may be helpful.\n",
    "*   Try to add the equator as well if you can. (Hint: the [plt.hlines()](https://matplotlib.org/stable/api/_as_gen/matplotlib.pyplot.hlines.html) function may be useful.)\n",
    "*   The plot should somewhat look like a map of the world. Unfortunately Africa’s representation at the Winter Olympics is quite low (partially due to the climate) so there are few countries there.\n",
    "*    If you have time, attempt to add axis labels and a title as demonstrated in the lecture.\n",
    "*   Congrats! You are all done.\n",
    "\n"
   ]
  },
  {
   "cell_type": "markdown",
   "metadata": {
    "id": "i9Qa37KCgOlA"
   },
   "source": [
    "## Answer"
   ]
  },
  {
   "cell_type": "markdown",
   "metadata": {
    "id": "fOVI8JO7gRy-"
   },
   "source": [
    "[.ipynb file](https://colab.research.google.com/github/ucdavisdatalab/python_intensive_training/blob/main/data/HWDay1.ipynb#)\n",
    "\n",
    "[plot image](https://github.com/ucdavisdatalab/python_intensive_training/tree/main/img/Day1HWplot.png)"
   ]
  },
  {
   "cell_type": "code",
   "execution_count": null,
   "metadata": {
    "id": "ICWnBfGZgQQT"
   },
   "outputs": [],
   "source": []
  }
 ],
 "metadata": {
  "colab": {
   "name": "Homework_Day1.ipynb",
   "provenance": []
  },
  "kernelspec": {
   "display_name": "Python 3 (ipykernel)",
   "language": "python",
   "name": "python3"
  },
  "language_info": {
   "codemirror_mode": {
    "name": "ipython",
    "version": 3
   },
   "file_extension": ".py",
   "mimetype": "text/x-python",
   "name": "python",
   "nbconvert_exporter": "python",
   "pygments_lexer": "ipython3",
   "version": "3.10.4"
  }
 },
 "nbformat": 4,
 "nbformat_minor": 4
}
