{
  "nbformat": 4,
  "nbformat_minor": 0,
  "metadata": {
    "colab": {
      "provenance": []
    },
    "kernelspec": {
      "name": "python3",
      "display_name": "Python 3"
    },
    "language_info": {
      "name": "python"
    }
  },
  "cells": [
    {
      "cell_type": "markdown",
      "source": [
        "# **Day 2 Lecture 1** "
      ],
      "metadata": {
        "id": "3CvOVJdSsxci"
      }
    },
    {
      "cell_type": "markdown",
      "source": [
        "## **Basic NumPy**\n",
        "Numpy is a mathematical based library with extra capabilities. Libraries are \"add-ons\" developed by other programmers. They add extra functions and capabilities."
      ],
      "metadata": {
        "id": "r8F-AAUigcIq"
      }
    },
    {
      "cell_type": "markdown",
      "source": [
        "1. Getting started\n",
        "\n",
        "  Importing numpy package to python"
      ],
      "metadata": {
        "id": "xlBxmCtsxW4E"
      }
    },
    {
      "cell_type": "code",
      "source": [
        "import numpy as np"
      ],
      "metadata": {
        "id": "Y_PYc1HdxcO1"
      },
      "execution_count": null,
      "outputs": []
    },
    {
      "cell_type": "markdown",
      "source": [
        "Now whenever we want to use a NumPy command, refer to it with `np.`"
      ],
      "metadata": {
        "id": "TNoDZ1KNgl9B"
      }
    },
    {
      "cell_type": "markdown",
      "source": [
        "2. numpy arrays\n",
        "\n",
        "  Use np.array() method to create a numpy array object"
      ],
      "metadata": {
        "id": "XcOwW9yLx0U8"
      }
    },
    {
      "cell_type": "code",
      "source": [
        "numpy_array = np.array([[1, 2, 3], [3, 2, 1]])\n",
        "print(numpy_array)"
      ],
      "metadata": {
        "id": "08LwtS5kx4BX"
      },
      "execution_count": null,
      "outputs": []
    },
    {
      "cell_type": "markdown",
      "source": [
        "*   Or you can convert a python list into a numpy array\n",
        "\n",
        "\n"
      ],
      "metadata": {
        "id": "Kvmw0VP1yFhZ"
      }
    },
    {
      "cell_type": "code",
      "source": [
        "python_list = [0, 0, 1]\n",
        "numpy_array_from_list = np.array(python_list)\n",
        "print(numpy_array_from_list)"
      ],
      "metadata": {
        "id": "bG5aQGusyYK2"
      },
      "execution_count": null,
      "outputs": []
    },
    {
      "cell_type": "markdown",
      "source": [
        "3. Basic methods of numpy arrays\n",
        "\n",
        "  **size**: returns the total number of elements of the array"
      ],
      "metadata": {
        "id": "MIxhdfOOyseI"
      }
    },
    {
      "cell_type": "code",
      "source": [
        "print(numpy_array.size)"
      ],
      "metadata": {
        "id": "h90nxU8Iy0Je"
      },
      "execution_count": null,
      "outputs": []
    },
    {
      "cell_type": "markdown",
      "source": [
        "* **shape**: shows the dimension of the numpy array"
      ],
      "metadata": {
        "id": "H3NsHa4CzFQ-"
      }
    },
    {
      "cell_type": "code",
      "source": [
        "print(numpy_array.shape)"
      ],
      "metadata": {
        "id": "G6JMVPSQ0COZ"
      },
      "execution_count": null,
      "outputs": []
    },
    {
      "cell_type": "markdown",
      "source": [
        "* **reshape**: changes the dimensionality of your array\n"
      ],
      "metadata": {
        "id": "LT9smAk50Pe7"
      }
    },
    {
      "cell_type": "code",
      "source": [
        "print(numpy_array.reshape(3, 2))"
      ],
      "metadata": {
        "id": "iucwfc2D0V1S"
      },
      "execution_count": null,
      "outputs": []
    },
    {
      "cell_type": "markdown",
      "source": [
        "* **T**: dot T gives you the transpose of your array"
      ],
      "metadata": {
        "id": "uVFbZA7Q2a-O"
      }
    },
    {
      "cell_type": "code",
      "source": [
        "print(numpy_array.T)"
      ],
      "metadata": {
        "id": "rwT1xvsa2Gyh"
      },
      "execution_count": null,
      "outputs": []
    },
    {
      "cell_type": "markdown",
      "source": [
        "4. Basic arithmetics\n",
        "\n",
        "\n",
        "*  Operations are carried out element-wise\n",
        "*  Addition, multiplication\n",
        "\n",
        "\n",
        "\n"
      ],
      "metadata": {
        "id": "Z_ctbfJVIZKB"
      }
    },
    {
      "cell_type": "code",
      "source": [
        "print(\"numpy array:\\n\", numpy_array)\n",
        "addition = numpy_array + 5\n",
        "print(\"after adding 5:\\n\", addition)\n",
        "multiplication = numpy_array * 5\n",
        "print(\"after multiplying by 5:\\n\", multiplication)"
      ],
      "metadata": {
        "id": "274QWUmGItGI"
      },
      "execution_count": null,
      "outputs": []
    },
    {
      "cell_type": "markdown",
      "source": [
        "  But what about dot and cross products?"
      ],
      "metadata": {
        "id": "JTJZb8dWKQGV"
      }
    },
    {
      "cell_type": "code",
      "source": [
        "dot_product = np.dot([1, 2, 3], [1, 2, 3])\n",
        "print(\"dot product:\\n\", dot_product)\n",
        "cross_product = np.cross([3, 2, 1], [1, 2, 3])\n",
        "print(\"cross product:\\n\", cross_product)"
      ],
      "metadata": {
        "id": "k2B7S4bCKWlP"
      },
      "execution_count": null,
      "outputs": []
    },
    {
      "cell_type": "markdown",
      "source": [
        "## Basic Pandas\n",
        "* Pandas is a library\n",
        "    * (import it, has a documentation website https://pandas.pydata.org/)\n",
        "    \n",
        "* DataFrame is a datatype/datastructure/object\n",
        "    * the main offering of the pandas library"
      ],
      "metadata": {
        "id": "OiT5K_wROWQX"
      }
    },
    {
      "cell_type": "markdown",
      "source": [
        "## Clear example of DataFrame"
      ],
      "metadata": {
        "id": "lHMOz77chxdA"
      }
    },
    {
      "cell_type": "markdown",
      "source": [
        "![alt text](../img/day_3_lecture_1_image_1.png \"Title\")"
      ],
      "metadata": {
        "id": "3tc0d_30hraz"
      }
    },
    {
      "cell_type": "markdown",
      "source": [
        "* Attributes\n",
        "    * Column Indexes\n",
        "    * Row Indexes\n",
        "    * Multiple datatypes\n",
        "    * Datatypes function of column\n",
        "        * List of strings in the entry at [4,'column_three']"
      ],
      "metadata": {
        "id": "pCb97KxUhuNI"
      }
    },
    {
      "cell_type": "markdown",
      "source": [
        "## How are they made?"
      ],
      "metadata": {
        "id": "rwS7WgNPh42b"
      }
    },
    {
      "cell_type": "markdown",
      "source": [
        "* They are declared\n",
        "* The information comes from\n",
        "    * read in a .csv file\n",
        "    * from a python dictionary\n",
        "    * from a pickle (special binary file)\n",
        "    * from .json file\n",
        "    * and more"
      ],
      "metadata": {
        "id": "XG8iG3kWh8MP"
      }
    },
    {
      "cell_type": "code",
      "source": [
        "import pandas as pd\n",
        "mydataset = {\n",
        "  'fruit': [\"cherry\", \"strawberry\", \"apple\"],\n",
        "  'quantity': [3, 7, 2]\n",
        "}\n",
        "\n",
        "mydf = pd.DataFrame(mydataset)\n",
        "\n",
        "print(mydf)"
      ],
      "metadata": {
        "id": "pc9oEExfPvw_"
      },
      "execution_count": null,
      "outputs": []
    },
    {
      "cell_type": "markdown",
      "source": [
        "Pandas Series\n",
        "\n",
        "Series is like an array."
      ],
      "metadata": {
        "id": "hKZLPq32VU1a"
      }
    },
    {
      "cell_type": "code",
      "source": [
        "pd_series = pd.Series([3, 7, 2])\n",
        "print(pd_series)"
      ],
      "metadata": {
        "id": "0bO0v7wCVZy6"
      },
      "execution_count": null,
      "outputs": []
    },
    {
      "cell_type": "markdown",
      "source": [
        "Locating a column in a dataframe"
      ],
      "metadata": {
        "id": "B7kzO9X9Xr95"
      }
    },
    {
      "cell_type": "code",
      "source": [
        "print(mydf)\n",
        "fruit_column = mydf.loc[:,\"fruit\"]\n",
        "print(fruit_column)\n",
        "quantity_column = mydf.loc[:, \"quantity\"]\n",
        "print(quantity_column)"
      ],
      "metadata": {
        "id": "1AfCOeGBXuTY"
      },
      "execution_count": null,
      "outputs": []
    },
    {
      "cell_type": "markdown",
      "source": [
        "Locating a row in a dataframe"
      ],
      "metadata": {
        "id": "LI47Y5mdafp6"
      }
    },
    {
      "cell_type": "code",
      "source": [
        "print(mydf)\n",
        "first_row = mydf.loc[0]\n",
        "print(first_row)"
      ],
      "metadata": {
        "id": "awJotiVQah9E"
      },
      "execution_count": null,
      "outputs": []
    },
    {
      "cell_type": "markdown",
      "source": [
        "You can also do slicing"
      ],
      "metadata": {
        "id": "MVcFnHC_a_dU"
      }
    },
    {
      "cell_type": "code",
      "source": [
        "print(mydf)\n",
        "slices = mydf.loc[1:2]\n",
        "print(slices)"
      ],
      "metadata": {
        "id": "dyEhWLQEbBUN"
      },
      "execution_count": null,
      "outputs": []
    },
    {
      "cell_type": "markdown",
      "source": [
        "Some basic pandas methods\n",
        "*   mean\n",
        "*   min/max\n",
        "*   std\n",
        "\n"
      ],
      "metadata": {
        "id": "y6afNnRwbzZJ"
      }
    },
    {
      "cell_type": "code",
      "source": [
        "# first we locate the column\n",
        "quantity_column = mydf.loc[:, \"quantity\"]\n",
        "average_quantity = quantity_column.mean()\n",
        "print(\"the average quantity is:\", average_quantity)"
      ],
      "metadata": {
        "id": "GsO8roKeb0hx"
      },
      "execution_count": null,
      "outputs": []
    },
    {
      "cell_type": "code",
      "source": [
        "max_val = quantity_column.max()\n",
        "print(\"the max value is:\", max_val)\n",
        "min_val = quantity_column.min()\n",
        "print(\"the min value is:\", min_val)"
      ],
      "metadata": {
        "id": "MCPT4iiydQEz"
      },
      "execution_count": null,
      "outputs": []
    },
    {
      "cell_type": "code",
      "source": [
        "std_quantity = quantity_column.std()\n",
        "print(\"the standard deviation is:\", std_quantity)"
      ],
      "metadata": {
        "id": "G1PWNyMQc2ah"
      },
      "execution_count": null,
      "outputs": []
    },
    {
      "cell_type": "markdown",
      "source": [
        "Side note on output formatting\n",
        "\n",
        "Use %.3f suffix when printing\n",
        "\n",
        "\".3\" means 3 decimal places, \"f\" means floating point value.\n",
        "\n",
        "\"%\" indicates where to put this value."
      ],
      "metadata": {
        "id": "9uzA0ByPdon0"
      }
    },
    {
      "cell_type": "code",
      "source": [
        "print(\"the standard deviation is: %.3f\"%std_quantity)"
      ],
      "metadata": {
        "id": "LPG5eTPrePxN"
      },
      "execution_count": null,
      "outputs": []
    }
  ]
}
